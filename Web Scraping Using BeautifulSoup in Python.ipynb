{
 "cells": [
  {
   "cell_type": "markdown",
   "id": "bf0a5429-0b97-4998-b7f6-f74a6b1ca5b6",
   "metadata": {},
   "source": [
    "# Web Scraping Using BeautifulSoup in Python"
   ]
  },
  {
   "cell_type": "markdown",
   "id": "3fea6391-7d6f-4772-b74e-1f9496112f29",
   "metadata": {},
   "source": [
    "### We will be scraping Jumia E-commerce site"
   ]
  },
  {
   "cell_type": "code",
   "execution_count": 1,
   "id": "150eae58-33bf-4cfd-ad7f-6bb7abfb4705",
   "metadata": {
    "tags": []
   },
   "outputs": [],
   "source": [
    "from bs4 import BeautifulSoup as bs\n",
    "import requests"
   ]
  },
  {
   "cell_type": "code",
   "execution_count": 2,
   "id": "efcfdea8-6fc5-4ebf-b013-1455e9c56e66",
   "metadata": {
    "tags": []
   },
   "outputs": [],
   "source": [
    "link = 'https://www.jumia.com.ng/catalog/productratingsreviews/sku/XI363MP3Y3LG3NAFAMZ/'"
   ]
  },
  {
   "cell_type": "code",
   "execution_count": 3,
   "id": "6ec70467-f8c1-4520-8caf-db5077d73c89",
   "metadata": {
    "tags": []
   },
   "outputs": [],
   "source": [
    "page = requests.get(link)"
   ]
  },
  {
   "cell_type": "code",
   "execution_count": 4,
   "id": "4c037f3f-3d69-45e8-b7e4-49eb61fff05e",
   "metadata": {
    "tags": []
   },
   "outputs": [
    {
     "data": {
      "text/plain": [
       "<Response [200]>"
      ]
     },
     "execution_count": 4,
     "metadata": {},
     "output_type": "execute_result"
    }
   ],
   "source": [
    "# Checking if the page was sucessfully loaded, <Response [200]> means it has.\n",
    "page"
   ]
  },
  {
   "cell_type": "code",
   "execution_count": 5,
   "id": "71f49d1c-5517-4027-851b-a4faefc011ce",
   "metadata": {
    "tags": []
   },
   "outputs": [
    {
     "data": {
      "text/plain": [
       "b'<!DOCTYPE html><html lang=\"en\" dir=\"ltr\"><head><meta charset=\"utf-8\"/><title>Reviews of Redmi 12 6.79&quot; 4GB RAM/128GB ROM Android 13 - Midnight Black</title><meta property=\"og:type\" content=\"product\"/><meta property=\"og:site_name\" content=\"Jumia Nigeria\"/><meta property=\"og:title\" content=\"Reviews of Redmi 12 6.79&quot; 4GB RAM/128GB ROM Android 13 - Midnight Black\"/><meta property=\"og:url\" content=\"/catalog/productratingsreviews/sku/XI363MP3Y3LG3NAFAMZ/\"/><meta property=\"og:image\" content=\"https://ng.jumia.is/cms/jumialogonew.png\"/><meta property=\"og:locale\" content=\"en_NG\"/><meta name=\"title\" content=\"Reviews of Redmi 12 6.79&quot; 4GB RAM/128GB ROM Android 13 - Midnight Black\"/><meta name=\"robots\" content=\"noindex,follow\"/><meta property=\"fb:app_id\" content=\"728795990650684\"/><meta property=\"fb:pages\" content=\"291297097615087\"/><meta name=\"google-site-verification\" content=\"4vr0StQ8YkyEzgDxkC_mgx0UMSH2xM3vkOaRpaMEjWM\"/><meta name=\"google-site-verification\" content=\"VeavdmtsHUH8fIEGpu4eeF-ryLp5ZXVUOmWmXWzV11I\"/><meta name=\"msvalidate.01\" content=\"66DCE7076C4C56245BAB83C687510491\"/><meta name=\"viewport\" content=\"width=device-width, initial-scale=1.0\"/><link rel=\"stylesheet\" href=\"https://www.jumia.com.ng/assets_he/css/main.4db97dce.css\"/><link rel=\"icon\" type=\"image/ico\" sizes=\"any\" href=\"https://www.jumia.com.ng/assets_he/favicon.87f00114.ico\"/><link rel=\"icon\" type=\"image/svg+xml\" href=\"https://www.jumia.com.ng/assets_he/favicon.adbd556a.svg\"/><link rel=\"preconnect dns-prefetch\" href=\"//bam.nr-data.net\"/><link rel=\"preconnect dns-prefetch\" href=\"//js-agent.newrelic.com\"/><link rel=\"preconnect dns-prefetch\" href=\"//www.google-analytics.com\"/><link rel=\"preconnect dns-prefetch\" href=\"//www.googletagmanager.com\"/><link rel=\"preconnect dns-prefetch\" href=\"//www.facebook.com\"/><link rel=\"preconnect dns-prefetch\" href=\"//connect.facebook.net\"/><link rel=\"preconnect dns-prefetch\" href=\"//static.criteo.net\"/><link rel=\"preconnect dns-prefetch\" href=\"//sslwidget.criteo.com\"/><link rel=\"preconnect dns-prefetch\" href=\"//dis.eu.criteo.com\"/><link rel=\"preconnect dns-prefetch\" href=\"//creativecdn.com\"/><link rel=\"dns-prefetch\" href=\"https://ng.jumia.is\"/></head><body><script type=\\'text/javascript\\'>window.NREUM||(NREUM={});NREUM.info = {\"agent\":\"\",\"beacon\":\"bam.nr-data.net\",\"errorBeacon\":\"bam.nr-data.net\",\"licenseKey\":\"b76de0635f\",\"applicationID\":\"202020352\",\"agentToken\":null,\"applicationTime\":3.756768,\"transactionName\":\"NVxXYhMHChFYVUELDQwWdkMSEgsPFmZHDQYXWkEZMwMSC1xBRkIeQml6ZTU=\",\"queueTime\":0,\"ttGuid\":\"057b621d93482844\"}; (window.NREUM||(NREUM={})).init={ajax:{deny_list:[\"bam.nr-data.net\"]}};(window.NREUM||(NREUM={})).loader_config={licenseKey:\"b76de0635f\",applicationID:\"202020352\"};;/*! For license information please see nr-loader-rum-1.246.1.min.js.LICENSE.txt */\\n(()=>{\"use strict\";var e,t,n={234:(e,t,n)=>{n.d(t,{P_:()=>h,Mt:()=>m,C5:()=>s,DL:()=>w,OP:()=>j,lF:()=>S,Yu:()=>_,Dg:()=>v,CX:()=>c,GE:()=>A,sU:()=>T});var r=n(8632),i=n(9567);const a={beacon:r.ce.beacon,errorBeacon:r.ce.errorBeacon,licenseKey:void 0,applicationID:void 0,sa:void 0,queueTime:void 0,applicationTime:void 0,ttGuid:void 0,user:void 0,account:void 0,product:void 0,extra:void 0,jsAttributes:{},userAttributes:void 0,atts:void 0,transactionName:void 0,tNamePlain:void 0},o={};function s(e){if(!e)throw new Error(\"All info objects require an agent identifier!\");if(!o[e])throw new Error(\"Info for \".concat(e,\" was never set\"));return o[e]}function c(e,t){if(!e)throw new Error(\"All info objects require an agent identifier!\");o[e]=(0,i.D)(t,a),(0,r.Qy)(e,o[e],\"info\")}const d=e=>{if(!e||\"string\"!=typeof e)return!1;try{document.createDocumentFragment().querySelector(e)}catch{return!1}return!0};var u=n(7056),l=n(50);const f=()=>{const e={mask_selector:\"*\",block_selector:\"[data-nr-block]\",mask_input_options:{color:!1,date:!1,\"datetime-local\":!1,email:!1,month:!1,number:!1,range:!1,search:!1,tel:!1,text:!1,time:!1,url:!1,week:!1,textarea:!1,select:!1,password:!0}};return{feature_flags:[],proxy:{assets:void 0,beacon:void 0},privacy:{cookies_enabled:!0},ajax:{deny_list:void 0,block_internal:!0,enabled:!0,harvestTimeSeconds:10,autoStart:!0},distributed_tracing:{enabled:void 0,exclude_newrelic_header:void 0,cors_use_newrelic_header:void 0,cors_use_tracecontext_headers:void 0,allowed_origins:void 0},session:{domain:void 0,expiresMs:u.oD,inactiveMs:u.Hb},ssl:void 0,obfuscate:void 0,jserrors:{enabled:!0,harvestTimeSeconds:10,autoStart:!0},metrics:{enabled:!0,autoStart:!0},page_action:{enabled:!0,harvestTimeSeconds:30,autoStart:!0},page_view_event:{enabled:!0,autoStart:!0},page_view_timing:{enabled:!0,harvestTimeSeconds:30,long_task:!1,autoStart:!0},session_trace:{enabled:!0,harvestTimeSeconds:10,autoStart:!0},harvest:{tooManyRequestsDelay:60},session_replay:{autoStart:!0,enabled:!1,harvestTimeSeconds:60,sampling_rate:50,error_sampling_rate:50,collect_fonts:!1,inline_images:!1,inline_stylesheet:!0,mask_all_inputs:!0,get mask_text_selector(){return e.mask_selector},set mask_text_selector(t){d(t)?e.mask_selector=t+\",[data-nr-mask]\":null===t?e.mask_selector=t:(0,l.Z)(\"An invalid session_replay.mask_selector was provided and will not be used\",t)},get block_class(){return\"nr-block\"},get ignore_class(){return\"nr-ignore\"},get mask_text_class(){return\"nr-mask\"},get block_selector(){return e.block_selector},set block_selector(t){d(t)?e.block_selector+=\",\".concat(t):\"\"!==t&&(0,l.Z)(\"An invalid session_replay.block_selector was provided and will not be used\",t)},get mask_input_options(){return e.mask_input_options},set mask_input_options(t){t&&\"object\"==typeof t?e.mask_input_options={...t,password:!0}:(0,l.Z)(\"An invalid session_replay.mask_input_option was provided and will not be used\",t)}},spa:{enabled:!0,harvestTimeSeconds:10,autoStart:!0}}},g={},p=\"All configuration objects require an agent identifier!\";function h(e){if(!e)throw new Error(p);if(!g[e])throw new Error(\"Configuration for \".concat(e,\" was never set\"));return g[e]}function v(e,t){if(!e)throw new Error(p);g[e]=(0,i.D)(t,f()),(0,r.Qy)(e,g[e],\"config\")}function m(e,t){if(!e)throw new Error(p);var n=h(e);if(n){for(var r=t.split(\".\"),i=0;i<r.length-1;i++)if(\"object\"!=typeof(n=n[r[i]]))return;n=n[r[r.length-1]]}return n}const b={accountID:void 0,trustKey:void 0,agentID:void 0,licenseKey:void 0,applicationID:void 0,xpid:void 0},y={};function w(e){if(!e)throw new Error(\"All loader-config objects require an agent identifier!\");if(!y[e])throw new Error(\"LoaderConfig for \".concat(e,\" was never set\"));return y[e]}function A(e,t){if(!e)throw new Error(\"All loader-config objects require an agent identifier!\");y[e]=(0,i.D)(t,b),(0,r.Qy)(e,y[e],\"loader_config\")}const _=(0,r.mF)().o;var x=n(385),D=n(6818);const k={buildEnv:D.Re,customTransaction:void 0,disabled:!1,distMethod:D.gF,isolatedBacklog:!1,loaderType:void 0,maxBytes:3e4,offset:Math.floor(x._A?.performance?.timeOrigin||x._A?.performance?.timing?.navigationStart||Date.now()),onerror:void 0,origin:\"\"+x._A.location,ptid:void 0,releaseIds:{},session:void 0,xhrWrappable:\"function\"==typeof x._A.XMLHttpRequest?.prototype?.addEventListener,version:D.q4,denyList:void 0},E={};function j(e){if(!e)throw new Error(\"All runtime objects require an agent identifier!\");if(!E[e])throw new Error(\"Runtime for \".concat(e,\" was never set\"));return E[e]}function T(e,t){if(!e)throw new Error(\"All runtime objects require an agent identifier!\");E[e]=(0,i.D)(t,k),(0,r.Qy)(e,E[e],\"runtime\")}function S(e){return function(e){try{const t=s(e);return!!t.licenseKey&&!!t.errorBeacon&&!!t.applicationID}catch(e){return!1}}(e)}},9567:(e,t,n)=>{n.d(t,{D:()=>i});var r=n(50);function i(e,t){try{if(!e||\"object\"!=typeof e)return(0,r.Z)(\"Setting a Configurable requires an object as input\");if(!t||\"object\"!=typeof t)return(0,r.Z)(\"Setting a Configurable requires a model to set its initial properties\");const n=Object.create(Object.getPrototypeOf(t),Object.getOwnPropertyDescriptors(t)),a=0===Object.keys(n).length?e:n;for(let o in a)if(void 0!==e[o])try{Array.isArray(e[o])&&Array.isArray(t[o])?n[o]=Array.from(new Set([...e[o],...t[o]])):\"object\"==typeof e[o]&&\"object\"==typeof t[o]?n[o]=i(e[o],t[o]):n[o]=e[o]}catch(e){(0,r.Z)(\"An error occurred while setting a property of a Configurable\",e)}return n}catch(e){(0,r.Z)(\"An error occured while setting a Configurable\",e)}}},6818:(e,t,n)=>{n.d(t,{Re:()=>i,gF:()=>a,q4:()=>r});const r=\"1.246.1\",i=\"PROD\",a=\"CDN\"},385:(e,t,n)=>{n.d(t,{Nk:()=>u,Tt:()=>s,_A:()=>a,cv:()=>l,iS:()=>o,il:()=>r,ux:()=>c,v6:()=>i,w1:()=>d});const r=\"undefined\"!=typeof window&&!!window.document,i=\"undefined\"!=typeof WorkerGlobalScope&&(\"undefined\"!=typeof self&&self instanceof WorkerGlobalScope&&self.navigator instanceof WorkerNavigator||\"undefined\"!=typeof globalThis&&globalThis instanceof WorkerGlobalScope&&globalThis.navigator instanceof WorkerNavigator),a=r?window:\"undefined\"!=typeof WorkerGlobalScope&&(\"undefined\"!=typeof self&&self instanceof WorkerGlobalScope&&self||\"undefined\"!=typeof globalThis&&globalThis instanceof WorkerGlobalScope&&globalThis),o=Boolean(\"hidden\"===a?.document?.visibilityState),s=(a?.location,/iPad|iPhone|iPod/.test(a.navigator?.userAgent)),c=s&&\"undefined\"==typeof SharedWorker,d=((()=>{const e=a.navigator?.userAgent?.match(/Firefox[/\\\\s](\\\\d+\\\\.\\\\d+)/);Array.isArray(e)&&e.length>=2&&e[1]})(),Boolean(r&&window.document.documentMode)),u=!!a.navigator?.sendBeacon,l=Math.floor(a?.performance?.timeOrigin||a?.performance?.timing?.navigationStart||Date.now())},1117:(e,t,n)=>{n.d(t,{w:()=>a});var r=n(50);const i={agentIdentifier:\"\",ee:void 0};class a{constructor(e){try{if(\"object\"!=typeof e)return(0,r.Z)(\"shared context requires an object as input\");this.sharedContext={},Object.assign(this.sharedContext,i),Object.entries(e).forEach((e=>{let[t,n]=e;Object.keys(i).includes(t)&&(this.sharedContext[t]=n)}))}catch(e){(0,r.Z)(\"An error occured while setting SharedContext\",e)}}}},8e3:(e,t,n)=>{n.d(t,{L:()=>u,R:()=>c});var r=n(8325),i=n(1284),a=n(4322),o=n(3325);const s={};function c(e,t){const n={staged:!1,priority:o.p[t]||0};d(e),s[e].get(t)||s[e].set(t,n)}function d(e){e&&(s[e]||(s[e]=new Map))}function u(){let e=arguments.length>0&&void 0!==arguments[0]?arguments[0]:\"\",t=arguments.length>1&&void 0!==arguments[1]?arguments[1]:\"feature\";if(d(e),!e||!s[e].get(t))return o(t);s[e].get(t).staged=!0;const n=[...s[e]];function o(t){const n=e?r.ee.get(e):r.ee,o=a.X.handlers;if(n.backlog&&o){var s=n.backlog[t],c=o[t];if(c){for(var d=0;s&&d<s.length;++d)l(s[d],c);(0,i.D)(c,(function(e,t){(0,i.D)(t,(function(t,n){n[0].on(e,n[1])}))}))}delete o[t],n.backlog[t]=null,n.emit(\"drain-\"+t,[])}}n.every((e=>{let[t,n]=e;return n.staged}))&&(n.sort(((e,t)=>e[1].priority-t[1].priority)),n.forEach((t=>{let[n]=t;s[e].delete(n),o(n)})))}function l(e,t){var n=e[1];(0,i.D)(t[n],(function(t,n){var r=e[0];if(n[0]===r){var i=n[1],a=e[3],o=e[2];i.apply(a,o)}}))}},8325:(e,t,n)=>{n.d(t,{A:()=>c,ee:()=>d});var r=n(8632),i=n(2210),a=n(234);class o{constructor(e){this.contextId=e}}var s=n(3117);const c=\"nr@context:\".concat(s.a),d=function e(t,n){var r={},s={},u={},f=!1;try{f=16===n.length&&(0,a.OP)(n).isolatedBacklog}catch(e){}var g={on:h,addEventListener:h,removeEventListener:function(e,t){var n=r[e];if(!n)return;for(var i=0;i<n.length;i++)n[i]===t&&n.splice(i,1)},emit:function(e,n,r,i,a){!1!==a&&(a=!0);if(d.aborted&&!i)return;t&&a&&t.emit(e,n,r);for(var o=p(r),c=v(e),u=c.length,l=0;l<u;l++)c[l].apply(o,n);var f=b()[s[e]];f&&f.push([g,e,n,o]);return o},get:m,listeners:v,context:p,buffer:function(e,t){const n=b();if(t=t||\"feature\",g.aborted)return;Object.entries(e||{}).forEach((e=>{let[r,i]=e;s[i]=t,t in n||(n[t]=[])}))},abort:l,aborted:!1,isBuffering:function(e){return!!b()[s[e]]},debugId:n,backlog:f?{}:t&&\"object\"==typeof t.backlog?t.backlog:{}};return g;function p(e){return e&&e instanceof o?e:e?(0,i.X)(e,c,(()=>new o(c))):new o(c)}function h(e,t){r[e]=v(e).concat(t)}function v(e){return r[e]||[]}function m(t){return u[t]=u[t]||e(g,t)}function b(){return g.backlog}}(void 0,\"globalEE\"),u=(0,r.fP)();function l(){d.aborted=!0,d.backlog={}}u.ee||(u.ee=d)},5546:(e,t,n)=>{n.d(t,{E:()=>r,p:()=>i});var r=n(8325).ee.get(\"handle\");function i(e,t,n,i,a){a?(a.buffer([e],i),a.emit(e,t,n)):(r.buffer([e],i),r.emit(e,t,n))}},4322:(e,t,n)=>{n.d(t,{X:()=>a});var r=n(5546);a.on=o;var i=a.handlers={};function a(e,t,n,a){o(a||r.E,i,e,t,n)}function o(e,t,n,i,a){a||(a=\"feature\"),e||(e=r.E);var o=t[a]=t[a]||{};(o[n]=o[n]||[]).push([e,i])}},3239:(e,t,n)=>{n.d(t,{bP:()=>s,iz:()=>c,m$:()=>o});var r=n(385);let i=!1,a=!1;try{const e={get passive(){return i=!0,!1},get signal(){return a=!0,!1}};r._A.addEventListener(\"test\",null,e),r._A.removeEventListener(\"test\",null,e)}catch(e){}function o(e,t){return i||a?{capture:!!e,passive:i,signal:t}:!!e}function s(e,t){let n=arguments.length>2&&void 0!==arguments[2]&&arguments[2],r=arguments.length>3?arguments[3]:void 0;window.addEventListener(e,t,o(n,r))}function c(e,t){let n=arguments.length>2&&void 0!==arguments[2]&&arguments[2],r=arguments.length>3?arguments[3]:void 0;document.addEventListener(e,t,o(n,r))}},3117:(e,t,n)=>{n.d(t,{a:()=>r});const r=(0,n(4402).Rl)()},4402:(e,t,n)=>{n.d(t,{Rl:()=>o,ky:()=>s});var r=n(385);const i=\"xxxxxxxx-xxxx-4xxx-yxxx-xxxxxxxxxxxx\";function a(e,t){return e?15&e[t]:16*Math.random()|0}function o(){const e=r._A?.crypto||r._A?.msCrypto;let t,n=0;return e&&e.getRandomValues&&(t=e.getRandomValues(new Uint8Array(31))),i.split(\"\").map((e=>\"x\"===e?a(t,++n).toString(16):\"y\"===e?(3&a()|8).toString(16):e)).join(\"\")}function s(e){const t=r._A?.crypto||r._A?.msCrypto;let n,i=0;t&&t.getRandomValues&&(n=t.getRandomValues(new Uint8Array(31)));const o=[];for(var s=0;s<e;s++)o.push(a(n,++i).toString(16));return o.join(\"\")}},7056:(e,t,n)=>{n.d(t,{Bq:()=>r,Hb:()=>a,oD:()=>i});const r=\"NRBA\",i=144e5,a=18e5},7894:(e,t,n)=>{function r(){return Math.round(performance.now())}n.d(t,{z:()=>r})},50:(e,t,n)=>{function r(e,t){\"function\"==typeof console.warn&&(console.warn(\"New Relic: \".concat(e)),t&&console.warn(t))}n.d(t,{Z:()=>r})},2587:(e,t,n)=>{n.d(t,{N:()=>c,T:()=>d});var r=n(8325),i=n(5546),a=n(3325);const o={stn:[a.D.sessionTrace],err:[a.D.jserrors,a.D.metrics],ins:[a.D.pageAction],spa:[a.D.spa],sr:[a.D.sessionReplay,a.D.sessionTrace]},s=new Set;function c(e,t){const n=r.ee.get(t);e&&\"object\"==typeof e&&(s.has(t)||Object.entries(e).forEach((e=>{let[t,r]=e;o[t]?o[t].forEach((e=>{r?(0,i.p)(\"feat-\"+t,[],void 0,e,n):(0,i.p)(\"block-\"+t,[],void 0,e,n),(0,i.p)(\"rumresp-\"+t,[Boolean(r)],void 0,e,n)})):r&&(0,i.p)(\"feat-\"+t,[],void 0,void 0,n),d[t]=Boolean(r)})),Object.keys(o).forEach((e=>{void 0===d[e]&&(o[e]?.forEach((t=>(0,i.p)(\"rumresp-\"+e,[!1],void 0,t,n))),d[e]=!1)})),s.add(t))}const d={}},2210:(e,t,n)=>{n.d(t,{X:()=>i});var r=Object.prototype.hasOwnProperty;function i(e,t,n){if(r.call(e,t))return e[t];var i=n();if(Object.defineProperty&&Object.keys)try{return Object.defineProperty(e,t,{value:i,writable:!0,enumerable:!1}),i}catch(e){}return e[t]=i,i}},1284:(e,t,n)=>{n.d(t,{D:()=>r});const r=(e,t)=>Object.entries(e||{}).map((e=>{let[n,r]=e;return t(n,r)}))},4351:(e,t,n)=>{n.d(t,{P:()=>a});var r=n(8325);const i=()=>{const e=new WeakSet;return(t,n)=>{if(\"object\"==typeof n&&null!==n){if(e.has(n))return;e.add(n)}return n}};function a(e){try{return JSON.stringify(e,i())}catch(e){try{r.ee.emit(\"internal-error\",[e])}catch(e){}}}},3960:(e,t,n)=>{n.d(t,{K:()=>o,b:()=>a});var r=n(3239);function i(){return\"undefined\"==typeof document||\"complete\"===document.readyState}function a(e,t){if(i())return e();(0,r.bP)(\"load\",e,t)}function o(e){if(i())return e();(0,r.iz)(\"DOMContentLoaded\",e)}},8632:(e,t,n)=>{n.d(t,{EZ:()=>d,Qy:()=>c,ce:()=>a,fP:()=>o,gG:()=>u,mF:()=>s});var r=n(7894),i=n(385);const a={beacon:\"bam.nr-data.net\",errorBeacon:\"bam.nr-data.net\"};function o(){return i._A.NREUM||(i._A.NREUM={}),void 0===i._A.newrelic&&(i._A.newrelic=i._A.NREUM),i._A.NREUM}function s(){let e=o();return e.o||(e.o={ST:i._A.setTimeout,SI:i._A.setImmediate,CT:i._A.clearTimeout,XHR:i._A.XMLHttpRequest,REQ:i._A.Request,EV:i._A.Event,PR:i._A.Promise,MO:i._A.MutationObserver,FETCH:i._A.fetch}),e}function c(e,t,n){let i=o();const a=i.initializedAgents||{},s=a[e]||{};return Object.keys(s).length||(s.initializedAt={ms:(0,r.z)(),date:new Date}),i.initializedAgents={...a,[e]:{...s,[n]:t}},i}function d(e,t){o()[e]=t}function u(){return function(){let e=o();const t=e.info||{};e.info={beacon:a.beacon,errorBeacon:a.errorBeacon,...t}}(),function(){let e=o();const t=e.init||{};e.init={...t}}(),s(),function(){let e=o();const t=e.loader_config||{};e.loader_config={...t}}(),o()}},7956:(e,t,n)=>{n.d(t,{N:()=>i});var r=n(3239);function i(e){let t=arguments.length>1&&void 0!==arguments[1]&&arguments[1],n=arguments.length>2?arguments[2]:void 0,i=arguments.length>3?arguments[3]:void 0;(0,r.iz)(\"visibilitychange\",(function(){if(t)return void(\"hidden\"===document.visibilityState&&e());e(document.visibilityState)}),n,i)}},3081:(e,t,n)=>{n.d(t,{gF:()=>a,mY:()=>i,t9:()=>r,vz:()=>s,xS:()=>o});const r=n(3325).D.metrics,i=\"sm\",a=\"cm\",o=\"storeSupportabilityMetrics\",s=\"storeEventMetrics\"},7633:(e,t,n)=>{n.d(t,{t:()=>r});const r=n(3325).D.pageViewEvent},9251:(e,t,n)=>{n.d(t,{t:()=>r});const r=n(3325).D.pageViewTiming},5938:(e,t,n)=>{n.d(t,{W:()=>i});var r=n(8325);class i{constructor(e,t,n){this.agentIdentifier=e,this.aggregator=t,this.ee=r.ee.get(e),this.featureName=n,this.blocked=!1}}},7530:(e,t,n)=>{n.d(t,{j:()=>b});var r=n(3325),i=n(234),a=n(5546),o=n(8325),s=n(7894),c=n(8e3),d=n(3960),u=n(385),l=n(50),f=n(3081),g=n(8632);function p(){const e=(0,g.gG)();[\"setErrorHandler\",\"finished\",\"addToTrace\",\"addRelease\",\"addPageAction\",\"setCurrentRouteName\",\"setPageViewName\",\"setCustomAttribute\",\"interaction\",\"noticeError\",\"setUserId\",\"setApplicationVersion\",\"start\"].forEach((t=>{e[t]=function(){for(var n=arguments.length,r=new Array(n),i=0;i<n;i++)r[i]=arguments[i];return function(t){for(var n=arguments.length,r=new Array(n>1?n-1:0),i=1;i<n;i++)r[i-1]=arguments[i];let a=[];return Object.values(e.initializedAgents).forEach((e=>{e.exposed&&e.api[t]&&a.push(e.api[t](...r))})),a.length>1?a:a[0]}(t,...r)}}))}var h=n(2587);const v=e=>{const t=e.startsWith(\"http\");e+=\"/\",n.p=t?e:\"https://\"+e};let m=!1;function b(e){let t=arguments.length>1&&void 0!==arguments[1]?arguments[1]:{},b=arguments.length>2?arguments[2]:void 0,y=arguments.length>3?arguments[3]:void 0,{init:w,info:A,loader_config:_,runtime:x={loaderType:b},exposed:D=!0}=t;const k=(0,g.gG)();A||(w=k.init,A=k.info,_=k.loader_config),(0,i.Dg)(e,w||{}),(0,i.GE)(e,_||{}),A.jsAttributes??={},u.v6&&(A.jsAttributes.isWorker=!0),(0,i.CX)(e,A);const E=(0,i.P_)(e),j=[A.beacon,A.errorBeacon];m||(m=!0,E.proxy.assets&&(v(E.proxy.assets),j.push(E.proxy.assets)),E.proxy.beacon&&j.push(E.proxy.beacon)),x.denyList=[...E.ajax.deny_list||[],...E.ajax.block_internal?j:[]],(0,i.sU)(e,x),p();const T=function(e,t){t||(0,c.R)(e,\"api\");const g={};var p=o.ee.get(e),h=p.get(\"tracer\"),v=\"api-\",m=v+\"ixn-\";function b(t,n,r,a){const o=(0,i.C5)(e);return null===n?delete o.jsAttributes[t]:(0,i.CX)(e,{...o,jsAttributes:{...o.jsAttributes,[t]:n}}),A(v,r,!0,a||null===n?\"session\":void 0)(t,n)}function y(){}[\"setErrorHandler\",\"finished\",\"addToTrace\",\"addRelease\"].forEach((e=>{g[e]=A(v,e,!0,\"api\")})),g.addPageAction=A(v,\"addPageAction\",!0,r.D.pageAction),g.setCurrentRouteName=A(v,\"routeName\",!0,r.D.spa),g.setPageViewName=function(t,n){if(\"string\"==typeof t)return\"/\"!==t.charAt(0)&&(t=\"/\"+t),(0,i.OP)(e).customTransaction=(n||\"http://custom.transaction\")+t,A(v,\"setPageViewName\",!0)()},g.setCustomAttribute=function(e,t){let n=arguments.length>2&&void 0!==arguments[2]&&arguments[2];if(\"string\"==typeof e){if([\"string\",\"number\",\"boolean\"].includes(typeof t)||null===t)return b(e,t,\"setCustomAttribute\",n);(0,l.Z)(\"Failed to execute setCustomAttribute.\\\\nNon-null value must be a string, number or boolean type, but a type of <\".concat(typeof t,\"> was provided.\"))}else(0,l.Z)(\"Failed to execute setCustomAttribute.\\\\nName must be a string type, but a type of <\".concat(typeof e,\"> was provided.\"))},g.setUserId=function(e){if(\"string\"==typeof e||null===e)return b(\"enduser.id\",e,\"setUserId\",!0);(0,l.Z)(\"Failed to execute setUserId.\\\\nNon-null value must be a string type, but a type of <\".concat(typeof e,\"> was provided.\"))},g.setApplicationVersion=function(e){if(\"string\"==typeof e||null===e)return b(\"application.version\",e,\"setApplicationVersion\",!1);(0,l.Z)(\"Failed to execute setApplicationVersion. Expected <String | null>, but got <\".concat(typeof e,\">.\"))},g.start=e=>{try{const t=e?\"defined\":\"undefined\";(0,a.p)(f.xS,[\"API/start/\".concat(t,\"/called\")],void 0,r.D.metrics,p);const n=Object.values(r.D);if(void 0===e)e=n;else{if((e=Array.isArray(e)&&e.length?e:[e]).some((e=>!n.includes(e))))return(0,l.Z)(\"Invalid feature name supplied. Acceptable feature names are: \".concat(n));e.includes(r.D.pageViewEvent)||e.push(r.D.pageViewEvent)}e.forEach((e=>{p.emit(\"\".concat(e,\"-opt-in\"))}))}catch(e){(0,l.Z)(\"An unexpected issue occurred\",e)}},g.interaction=function(){return(new y).get()};var w=y.prototype={createTracer:function(e,t){var n={},i=this,o=\"function\"==typeof t;return(0,a.p)(m+\"tracer\",[(0,s.z)(),e,n],i,r.D.spa,p),function(){if(h.emit((o?\"\":\"no-\")+\"fn-start\",[(0,s.z)(),i,o],n),o)try{return t.apply(this,arguments)}catch(e){throw h.emit(\"fn-err\",[arguments,this,e],n),e}finally{h.emit(\"fn-end\",[(0,s.z)()],n)}}}};function A(e,t,n,i){return function(){return(0,a.p)(f.xS,[\"API/\"+t+\"/called\"],void 0,r.D.metrics,p),i&&(0,a.p)(e+t,[(0,s.z)(),...arguments],n?null:this,i,p),n?void 0:this}}function _(){n.e(75).then(n.bind(n,7438)).then((t=>{let{setAPI:n}=t;n(e),(0,c.L)(e,\"api\")})).catch((()=>(0,l.Z)(\"Downloading runtime APIs failed...\")))}return[\"actionText\",\"setName\",\"setAttribute\",\"save\",\"ignore\",\"onEnd\",\"getContext\",\"end\",\"get\"].forEach((e=>{w[e]=A(m,e,void 0,r.D.spa)})),g.noticeError=function(e,t){\"string\"==typeof e&&(e=new Error(e)),(0,a.p)(f.xS,[\"API/noticeError/called\"],void 0,r.D.metrics,p),(0,a.p)(\"err\",[e,(0,s.z)(),!1,t],void 0,r.D.jserrors,p)},u.il?(0,d.b)((()=>_()),!0):_(),g}(e,y);return(0,g.Qy)(e,T,\"api\"),(0,g.Qy)(e,D,\"exposed\"),(0,g.EZ)(\"activatedFeatures\",h.T),T}},3325:(e,t,n)=>{n.d(t,{D:()=>r,p:()=>i});const r={ajax:\"ajax\",jserrors:\"jserrors\",metrics:\"metrics\",pageAction:\"page_action\",pageViewEvent:\"page_view_event\",pageViewTiming:\"page_view_timing\",sessionReplay:\"session_replay\",sessionTrace:\"session_trace\",spa:\"spa\"},i={[r.pageViewEvent]:1,[r.pageViewTiming]:2,[r.metrics]:3,[r.jserrors]:4,[r.ajax]:5,[r.sessionTrace]:6,[r.pageAction]:7,[r.spa]:8,[r.sessionReplay]:9}}},r={};function i(e){var t=r[e];if(void 0!==t)return t.exports;var a=r[e]={exports:{}};return n[e](a,a.exports,i),a.exports}i.m=n,i.d=(e,t)=>{for(var n in t)i.o(t,n)&&!i.o(e,n)&&Object.defineProperty(e,n,{enumerable:!0,get:t[n]})},i.f={},i.e=e=>Promise.all(Object.keys(i.f).reduce(((t,n)=>(i.f[n](e,t),t)),[])),i.u=e=>\"nr-rum-1.246.1.min.js\",i.o=(e,t)=>Object.prototype.hasOwnProperty.call(e,t),e={},t=\"NRBA-1.246.1.PROD:\",i.l=(n,r,a,o)=>{if(e[n])e[n].push(r);else{var s,c;if(void 0!==a)for(var d=document.getElementsByTagName(\"script\"),u=0;u<d.length;u++){var l=d[u];if(l.getAttribute(\"src\")==n||l.getAttribute(\"data-webpack\")==t+a){s=l;break}}s||(c=!0,(s=document.createElement(\"script\")).charset=\"utf-8\",s.timeout=120,i.nc&&s.setAttribute(\"nonce\",i.nc),s.setAttribute(\"data-webpack\",t+a),s.src=n),e[n]=[r];var f=(t,r)=>{s.onerror=s.onload=null,clearTimeout(g);var i=e[n];if(delete e[n],s.parentNode&&s.parentNode.removeChild(s),i&&i.forEach((e=>e(r))),t)return t(r)},g=setTimeout(f.bind(null,void 0,{type:\"timeout\",target:s}),12e4);s.onerror=f.bind(null,s.onerror),s.onload=f.bind(null,s.onload),c&&document.head.appendChild(s)}},i.r=e=>{\"undefined\"!=typeof Symbol&&Symbol.toStringTag&&Object.defineProperty(e,Symbol.toStringTag,{value:\"Module\"}),Object.defineProperty(e,\"__esModule\",{value:!0})},i.p=\"https://js-agent.newrelic.com/\",(()=>{var e={50:0,832:0};i.f.j=(t,n)=>{var r=i.o(e,t)?e[t]:void 0;if(0!==r)if(r)n.push(r[2]);else{var a=new Promise(((n,i)=>r=e[t]=[n,i]));n.push(r[2]=a);var o=i.p+i.u(t),s=new Error;i.l(o,(n=>{if(i.o(e,t)&&(0!==(r=e[t])&&(e[t]=void 0),r)){var a=n&&(\"load\"===n.type?\"missing\":n.type),o=n&&n.target&&n.target.src;s.message=\"Loading chunk \"+t+\" failed.\\\\n(\"+a+\": \"+o+\")\",s.name=\"ChunkLoadError\",s.type=a,s.request=o,r[1](s)}}),\"chunk-\"+t,t)}};var t=(t,n)=>{var r,a,[o,s,c]=n,d=0;if(o.some((t=>0!==e[t]))){for(r in s)i.o(s,r)&&(i.m[r]=s[r]);if(c)c(i)}for(t&&t(n);d<o.length;d++)a=o[d],i.o(e,a)&&e[a]&&e[a][0](),e[a]=0},n=self[\"webpackChunk:NRBA-1.246.1.PROD\"]=self[\"webpackChunk:NRBA-1.246.1.PROD\"]||[];n.forEach(t.bind(null,0)),n.push=t.bind(null,n.push.bind(n))})(),(()=>{var e=i(50);class t{addPageAction(t,n){(0,e.Z)(\"Call to agent api addPageAction failed. The page action feature is not currently initialized.\")}setPageViewName(t,n){(0,e.Z)(\"Call to agent api setPageViewName failed. The page view feature is not currently initialized.\")}setCustomAttribute(t,n,r){(0,e.Z)(\"Call to agent api setCustomAttribute failed. The js errors feature is not currently initialized.\")}noticeError(t,n){(0,e.Z)(\"Call to agent api noticeError failed. The js errors feature is not currently initialized.\")}setUserId(t){(0,e.Z)(\"Call to agent api setUserId failed. The js errors feature is not currently initialized.\")}setApplicationVersion(t){(0,e.Z)(\"Call to agent api setApplicationVersion failed. The agent is not currently initialized.\")}setErrorHandler(t){(0,e.Z)(\"Call to agent api setErrorHandler failed. The js errors feature is not currently initialized.\")}finished(t){(0,e.Z)(\"Call to agent api finished failed. The page action feature is not currently initialized.\")}addRelease(t,n){(0,e.Z)(\"Call to agent api addRelease failed. The js errors feature is not currently initialized.\")}start(t){(0,e.Z)(\"Call to agent api addRelease failed. The agent is not currently initialized.\")}}var n=i(3325),r=i(234);const a=Object.values(n.D);function o(e){const t={};return a.forEach((n=>{t[n]=function(e,t){return!1!==(0,r.Mt)(t,\"\".concat(e,\".enabled\"))}(n,e)})),t}var s=i(7530);var c=i(8e3),d=i(5938),u=i(3960),l=i(385);class f extends d.W{constructor(e,t,n){let i=!(arguments.length>3&&void 0!==arguments[3])||arguments[3];super(e,t,n),this.auto=i,this.abortHandler=void 0,this.featAggregate=void 0,this.onAggregateImported=void 0,!1===(0,r.Mt)(this.agentIdentifier,\"\".concat(this.featureName,\".autoStart\"))&&(this.auto=!1),this.auto&&(0,c.R)(e,n)}importAggregator(){let t=arguments.length>0&&void 0!==arguments[0]?arguments[0]:{};if(this.featAggregate)return;if(!this.auto)return void this.ee.on(\"\".concat(this.featureName,\"-opt-in\"),(()=>{(0,c.R)(this.agentIdentifier,this.featureName),this.auto=!0,this.importAggregator()}));const n=l.il&&!0===(0,r.Mt)(this.agentIdentifier,\"privacy.cookies_enabled\");let a;this.onAggregateImported=new Promise((e=>{a=e}));const o=async()=>{let r;try{if(n){const{setupAgentSession:e}=await i.e(75).then(i.bind(i,3228));r=e(this.agentIdentifier)}}catch(t){(0,e.Z)(\"A problem occurred when starting up session manager. This page will not start or extend any session.\",t)}try{if(!this.shouldImportAgg(this.featureName,r))return(0,c.L)(this.agentIdentifier,this.featureName),void a(!1);const{lazyFeatureLoader:e}=await i.e(75).then(i.bind(i,8582)),{Aggregate:n}=await e(this.featureName,\"aggregate\");this.featAggregate=new n(this.agentIdentifier,this.aggregator,t),a(!0)}catch(t){(0,e.Z)(\"Downloading and initializing \".concat(this.featureName,\" failed...\"),t),this.abortHandler?.(),(0,c.L)(this.agentIdentifier,this.featureName),a(!1)}};l.il?(0,u.b)((()=>o()),!0):o()}shouldImportAgg(e,t){return e!==n.D.sessionReplay||!!r.Yu.MO&&(!1!==(0,r.Mt)(this.agentIdentifier,\"session_trace.enabled\")&&(!!t?.isNew||!!t?.state.sessionReplayMode))}}var g=i(7633);class p extends f{static featureName=g.t;constructor(e,t){let n=!(arguments.length>2&&void 0!==arguments[2])||arguments[2];super(e,t,g.t,n),this.importAggregator()}}var h=i(1117),v=i(1284);class m extends h.w{constructor(e){super(e),this.aggregatedData={}}store(e,t,n,r,i){var a=this.getBucket(e,t,n,i);return a.metrics=function(e,t){t||(t={count:0});return t.count+=1,(0,v.D)(e,(function(e,n){t[e]=b(n,t[e])})),t}(r,a.metrics),a}merge(e,t,n,r,i){var a=this.getBucket(e,t,r,i);if(a.metrics){var o=a.metrics;o.count+=n.count,(0,v.D)(n,(function(e,t){if(\"count\"!==e){var r=o[e],i=n[e];i&&!i.c?o[e]=b(i.t,r):o[e]=function(e,t){if(!t)return e;t.c||(t=y(t.t));return t.min=Math.min(e.min,t.min),t.max=Math.max(e.max,t.max),t.t+=e.t,t.sos+=e.sos,t.c+=e.c,t}(i,o[e])}}))}else a.metrics=n}storeMetric(e,t,n,r){var i=this.getBucket(e,t,n);return i.stats=b(r,i.stats),i}getBucket(e,t,n,r){this.aggregatedData[e]||(this.aggregatedData[e]={});var i=this.aggregatedData[e][t];return i||(i=this.aggregatedData[e][t]={params:n||{}},r&&(i.custom=r)),i}get(e,t){return t?this.aggregatedData[e]&&this.aggregatedData[e][t]:this.aggregatedData[e]}take(e){for(var t={},n=\"\",r=!1,i=0;i<e.length;i++)t[n=e[i]]=w(this.aggregatedData[n]),t[n].length&&(r=!0),delete this.aggregatedData[n];return r?t:null}}function b(e,t){return null==e?function(e){e?e.c++:e={c:1};return e}(t):t?(t.c||(t=y(t.t)),t.c+=1,t.t+=e,t.sos+=e*e,e>t.max&&(t.max=e),e<t.min&&(t.min=e),t):{t:e}}function y(e){return{t:e,min:e,max:e,sos:e*e,c:1}}function w(e){return\"object\"!=typeof e?[]:(0,v.D)(e,A)}function A(e,t){return t}var _=i(8632),x=i(4402),D=i(4351);var k=i(5546),E=i(7956),j=i(3239),T=i(7894),S=i(9251);class N extends f{static featureName=S.t;constructor(e,t){let n=!(arguments.length>2&&void 0!==arguments[2])||arguments[2];super(e,t,S.t,n),l.il&&((0,E.N)((()=>(0,k.p)(\"docHidden\",[(0,T.z)()],void 0,S.t,this.ee)),!0),(0,j.bP)(\"pagehide\",(()=>(0,k.p)(\"winPagehide\",[(0,T.z)()],void 0,S.t,this.ee))),this.importAggregator())}}var C=i(3081);class P extends f{static featureName=C.t9;constructor(e,t){let n=!(arguments.length>2&&void 0!==arguments[2])||arguments[2];super(e,t,C.t9,n),this.importAggregator()}}new class extends t{constructor(t){let n=arguments.length>1&&void 0!==arguments[1]?arguments[1]:(0,x.ky)(16);super(),l._A?(this.agentIdentifier=n,this.sharedAggregator=new m({agentIdentifier:this.agentIdentifier}),this.features={},this.desiredFeatures=new Set(t.features||[]),this.desiredFeatures.add(p),Object.assign(this,(0,s.j)(this.agentIdentifier,t,t.loaderType||\"agent\")),this.run()):(0,e.Z)(\"Failed to initial the agent. Could not determine the runtime environment.\")}get config(){return{info:(0,r.C5)(this.agentIdentifier),init:(0,r.P_)(this.agentIdentifier),loader_config:(0,r.DL)(this.agentIdentifier),runtime:(0,r.OP)(this.agentIdentifier)}}run(){const t=\"features\";try{const r=o(this.agentIdentifier),i=[...this.desiredFeatures];i.sort(((e,t)=>n.p[e.featureName]-n.p[t.featureName])),i.forEach((t=>{if(r[t.featureName]||t.featureName===n.D.pageViewEvent){const i=function(e){switch(e){case n.D.ajax:return[n.D.jserrors];case n.D.sessionTrace:return[n.D.ajax,n.D.pageViewEvent];case n.D.sessionReplay:return[n.D.sessionTrace];case n.D.pageViewTiming:return[n.D.pageViewEvent];default:return[]}}(t.featureName);i.every((e=>r[e]))||(0,e.Z)(\"\".concat(t.featureName,\" is enabled but one or more dependent features has been disabled (\").concat((0,D.P)(i),\"). This may cause unintended consequences or missing data...\")),this.features[t.featureName]=new t(this.agentIdentifier,this.sharedAggregator)}})),(0,_.Qy)(this.agentIdentifier,this.features,t)}catch(n){(0,e.Z)(\"Failed to initialize all enabled instrument classes (agent aborted) -\",n);for(const e in this.features)this.features[e].abortHandler?.();const r=(0,_.fP)();return delete r.initializedAgents[this.agentIdentifier]?.api,delete r.initializedAgents[this.agentIdentifier]?.[t],delete this.sharedAggregator,r.ee?.abort(),delete r.ee?.get(this.agentIdentifier),!1}}addToTrace(t){(0,e.Z)(\"Call to agent api addToTrace failed. The session trace feature is not currently initialized.\")}setCurrentRouteName(t){(0,e.Z)(\"Call to agent api setCurrentRouteName failed. The spa feature is not currently initialized.\")}interaction(){(0,e.Z)(\"Call to agent api interaction failed. The spa feature is not currently initialized.\")}}({features:[p,N,P],loaderType:\"lite\"})})()})();</script><div id=\"jm\"><div class=\"vb row -i-ctr -j-ctr _head -bg-gy05\"><div class=\"col3 -df -j-start\"><a href=\"/marketplace-vendor/\" class=\"_link -df -i-ctr -or5 -m -fs12\" target=\"_blank\" rel=\"noopener\"><svg viewBox=\"0 0 24 24\" class=\"ic -f-or5 -maxs\" width=\"16\" height=\"16\"><use xlink:href=\"https://www.jumia.com.ng/assets_he/images/i-icons.a66628fd.svg#cat-services\"></use></svg>Sell on Jumia</a></div><div class=\"col10 -df -j-ctr -fs0\"><a class=\"vent-link\" title=\"Jumia\"><svg viewBox=\"0 0 67 24\" class=\"ic\" width=\"67\" height=\"24\"><use xlink:href=\"https://www.jumia.com.ng/assets_he/images/i-global.04dd5bd2.svg#venture-jumia\"></use></svg></a><a class=\"vent-link\" title=\"JumiaPay\" href=\"https://pay.jumia.com.ng/?utm_source=jumia&amp;utm_medium=mall&amp;utm_campaign=venturebar\" rel=\"nofollow noopener\" target=\"_blank\"><svg viewBox=\"0 0 60 24\" class=\"ic\" width=\"60\" height=\"24\"><use xlink:href=\"https://www.jumia.com.ng/assets_he/images/i-global.04dd5bd2.svg#venture-pay\"></use></svg></a><a class=\"vent-link\" title=\"Jumia Food\" href=\"https://food.jumia.com.ng/?utm_source=jumia&amp;utm_medium=mall&amp;utm_campaign=venturebar\" rel=\"nofollow noopener\" target=\"_blank\"><svg viewBox=\"0 0 66 24\" class=\"ic\" width=\"66\" height=\"24\"><use xlink:href=\"https://www.jumia.com.ng/assets_he/images/i-global.04dd5bd2.svg#venture-food\"></use></svg></a><a class=\"vent-link\" title=\"Jumia Logistic Services\" href=\"https://www.jumia.com.ng/sp-jumia-logistics-services/?utm_source=jumia&amp;utm_medium=mall&amp;utm_campaign=venturebar\" rel=\"nofollow noopener\" target=\"_blank\"><svg viewBox=\"0 0 108 24\" class=\"ic\" width=\"108\" height=\"24\"><use xlink:href=\"https://www.jumia.com.ng/assets_he/images/i-global.04dd5bd2.svg#venture-logistics\"></use></svg></a></div><div class=\"col3 -df -j-end -wt -mla -gy5\"></div></div><header class=\"header\"><section class=\"row -i-ctr -fw-nw -pvm\"><div class=\"col3 -df -i-ctr\"><div class=\"dpdw _tail _auto-w _hov _pleft -df -i-ctr -prs -mra\"><input id=\"dpdw-flyout\" class=\"tgl\" type=\"checkbox\" role=\"button\" aria-controls=\"dpdw-flyout-box\" aria-haspopup=\"true\" aria-label=\"Navigate Categories\"/><label class=\"trig -df -pan\" for=\"dpdw-flyout\"><span class=\"-fsh0\"><svg viewBox=\"0 0 24 24\" class=\"ic\" width=\"24\" height=\"24\"><use xlink:href=\"https://www.jumia.com.ng/assets_he/images/i-icons.a66628fd.svg#menu\"></use></svg></span></label><div class=\"box\" role=\"menu\" aria-labelledby=\"dpdw-flyout\" id=\"dpdw-flyout-box\"><div class=\"inbox\"><div class=\"flyout\" role=\"menu\"><a href=\"https://www.jumia.com.ng/groceries/\" class=\"itm\" role=\"menuitem\"><svg viewBox=\"0 0 24 24\" class=\"ic -mrxs -fsh0\" width=\"20\" height=\"20\"><use xlink:href=\"https://www.jumia.com.ng/assets_he/images/i-icons.a66628fd.svg#cat-groceries\"></use></svg><span class=\"text\">Supermarket</span></a><a href=\"/health-beauty/\" class=\"itm\" role=\"menuitem\"><svg viewBox=\"0 0 24 24\" class=\"ic -mrxs -fsh0\" width=\"20\" height=\"20\"><use xlink:href=\"https://www.jumia.com.ng/assets_he/images/i-icons.a66628fd.svg#cat-beauty\"></use></svg><span class=\"text\">Health &amp; Beauty</span></a><a href=\"/home-office/\" class=\"itm\" role=\"menuitem\"><svg viewBox=\"0 0 24 24\" class=\"ic -mrxs -fsh0\" width=\"20\" height=\"20\"><use xlink:href=\"https://www.jumia.com.ng/assets_he/images/i-icons.a66628fd.svg#cat-home\"></use></svg><span class=\"text\">Home &amp; Office</span></a><a href=\"https://www.jumia.com.ng/mlp-appliances/\" class=\"itm\" role=\"menuitem\"><svg viewBox=\"0 0 24 24\" class=\"ic -mrxs -fsh0\" width=\"20\" height=\"20\"><use xlink:href=\"https://www.jumia.com.ng/assets_he/images/i-icons.a66628fd.svg#cat-kitchen-dinning\"></use></svg><span class=\"text\">Appliances</span></a><a href=\"/phones-tablets/\" class=\"itm\" role=\"menuitem\"><svg viewBox=\"0 0 24 24\" class=\"ic -mrxs -fsh0\" width=\"20\" height=\"20\"><use xlink:href=\"https://www.jumia.com.ng/assets_he/images/i-icons.a66628fd.svg#cat-mobile\"></use></svg><span class=\"text\">Phones &amp; Tablets</span></a><a href=\"/computing/\" class=\"itm\" role=\"menuitem\"><svg viewBox=\"0 0 24 24\" class=\"ic -mrxs -fsh0\" width=\"20\" height=\"20\"><use xlink:href=\"https://www.jumia.com.ng/assets_he/images/i-icons.a66628fd.svg#cat-computing\"></use></svg><span class=\"text\">Computing</span></a><a href=\"/electronics/\" class=\"itm\" role=\"menuitem\"><svg viewBox=\"0 0 24 24\" class=\"ic -mrxs -fsh0\" width=\"20\" height=\"20\"><use xlink:href=\"https://www.jumia.com.ng/assets_he/images/i-icons.a66628fd.svg#cat-tv\"></use></svg><span class=\"text\">Electronics</span></a><a href=\"/category-fashion-by-jumia/\" class=\"itm\" role=\"menuitem\"><svg viewBox=\"0 0 24 24\" class=\"ic -mrxs -fsh0\" width=\"20\" height=\"20\"><use xlink:href=\"https://www.jumia.com.ng/assets_he/images/i-icons.a66628fd.svg#cat-fashion\"></use></svg><span class=\"text\">Fashion</span></a><a href=\"/baby-products/\" class=\"itm\" role=\"menuitem\"><svg viewBox=\"0 0 24 24\" class=\"ic -mrxs -fsh0\" width=\"20\" height=\"20\"><use xlink:href=\"https://www.jumia.com.ng/assets_he/images/i-icons.a66628fd.svg#cat-baby\"></use></svg><span class=\"text\">Baby Products</span></a><a href=\"/video-games/\" class=\"itm\" role=\"menuitem\"><svg viewBox=\"0 0 24 24\" class=\"ic -mrxs -fsh0\" width=\"20\" height=\"20\"><use xlink:href=\"https://www.jumia.com.ng/assets_he/images/i-icons.a66628fd.svg#cat-games\"></use></svg><span class=\"text\">Gaming</span></a><a href=\"/sporting-goods/\" class=\"itm\" role=\"menuitem\"><svg viewBox=\"0 0 24 24\" class=\"ic -mrxs -fsh0\" width=\"20\" height=\"20\"><use xlink:href=\"https://www.jumia.com.ng/assets_he/images/i-icons.a66628fd.svg#cat-fitness\"></use></svg><span class=\"text\">Sporting Goods</span></a><a class=\"itm\" role=\"menuitem\" tabindex=\"0\"><svg viewBox=\"0 0 24 24\" class=\"ic -mrxs -fsh0\" width=\"20\" height=\"20\"><use xlink:href=\"https://www.jumia.com.ng/assets_he/images/i-icons.a66628fd.svg#cat-othercategories\"></use></svg><span class=\"text\">Other categories</span></a></div></div></div></div><a href=\"/\" class=\"-df -i-ctr -mra\"><svg role=\"img\" aria-label=\"Jumia Nigeria: Online Shopping for Electronics, Phones &amp; Fashion\" viewBox=\"0 0 172 30\" class=\"ic\" width=\"134\" height=\"30\"><use xlink:href=\"https://www.jumia.com.ng/assets_he/images/i-shop-jumia.9f5451c7.svg#logo\"></use></svg></a></div><form id=\"search\" method=\"get\" class=\"cola -df\" action=\"/catalog/\" data-track-onsubmit=\"search\"><div class=\"find\"><svg viewBox=\"0 0 24 24\" class=\"ic\" width=\"24\" height=\"24\"><use xlink:href=\"https://www.jumia.com.ng/assets_he/images/i-icons.a66628fd.svg#search\"></use></svg><input type=\"text\" name=\"q\" id=\"fi-q\" placeholder=\"Search products, brands and categories\" aria-label=\"Search\" value autocomplete=\"off\" required/><button type=\"button\" class=\"rst\" aria-label=\"Reset\"><svg viewBox=\"0 0 24 24\" class=\"ic\" width=\"24\" height=\"24\"><use xlink:href=\"https://www.jumia.com.ng/assets_he/images/i-icons.a66628fd.svg#close\"></use></svg></button><div class=\"sug\"></div></div><button class=\"btn _prim _md -mls -fsh0\">Search</button></form><div class=\"col -df -j-bet -m -phn -i-ctr\"><div class=\"dpdw _pcent\"><input id=\"dpdw-login\" class=\"tgl\" type=\"checkbox\" role=\"button\" aria-controls=\"dpdw-login-box\" aria-haspopup=\"true\" aria-label=\"Account\"/><label class=\"trig -df -i-ctr -fs16\" for=\"dpdw-login\"><span class=\"-fsh0 -mrs\"><svg viewBox=\"0 0 24 24\" class=\"ic\" width=\"24\" height=\"24\"><use xlink:href=\"https://www.jumia.com.ng/assets_he/images/i-icons.a66628fd.svg#person\"></use></svg></span>Account<svg viewBox=\"0 0 24 24\" class=\"ic -mls -fsh0\" width=\"18\" height=\"18\"><use xlink:href=\"https://www.jumia.com.ng/assets_he/images/i-icons.a66628fd.svg#arrow-down\"></use></svg></label><div class=\"box -r\" role=\"menu\" aria-labelledby=\"dpdw-login\" id=\"dpdw-login-box\"><div class=\"inbox\"><div class=\"-pam -hr-bb\"><a rel=\"nofollow\" href=\"/customer/account/login/?return=%2Fcatalog%2Fproductratingsreviews%2Fsku%2FXI363MP3Y3LG3NAFAMZ%2F\" class=\"btn _prim -fw _md\">Sign In</a></div><a rel=\"nofollow\" href=\"/customer/account/index/\" class=\"-df -i-ctr -pas -hov-bg-gy05 -hov-m\"><svg viewBox=\"0 0 24 24\" class=\"ic -mrm -fsh0\" width=\"24\" height=\"24\"><use xlink:href=\"https://www.jumia.com.ng/assets_he/images/i-icons.a66628fd.svg#person\"></use></svg>My Account</a><a rel=\"nofollow\" href=\"/customer/order/index/\" class=\"-df -i-ctr -pas -hov-bg-gy05 -hov-m\"><svg viewBox=\"0 0 24 24\" class=\"ic -mrm -fsh0\" width=\"24\" height=\"24\"><use xlink:href=\"https://www.jumia.com.ng/assets_he/images/i-icons.a66628fd.svg#orders\"></use></svg>Orders</a><a rel=\"nofollow\" href=\"/customer/wishlist/index/\" class=\"-df -i-ctr -pas -hov-bg-gy05 -hov-m\"><svg viewBox=\"0 0 24 24\" class=\"ic -mrm -fsh0\" width=\"24\" height=\"24\"><use xlink:href=\"https://www.jumia.com.ng/assets_he/images/i-icons.a66628fd.svg#favorite-border\"></use></svg>Saved Items</a></div></div></div><div class=\"dpdw _pcent\"><input id=\"dpdw-help\" class=\"tgl\" type=\"checkbox\" role=\"button\" aria-controls=\"dpdw-help-box\" aria-haspopup=\"true\" aria-label=\"Help\"/><label class=\"trig -df -i-ctr -fs16\" for=\"dpdw-help\"><span class=\"-fsh0 -mrs\"><svg viewBox=\"0 0 24 24\" class=\"ic\" width=\"24\" height=\"24\"><use xlink:href=\"https://www.jumia.com.ng/assets_he/images/i-icons.a66628fd.svg#help-outline\"></use></svg></span>Help<svg viewBox=\"0 0 24 24\" class=\"ic -mls -fsh0\" width=\"18\" height=\"18\"><use xlink:href=\"https://www.jumia.com.ng/assets_he/images/i-icons.a66628fd.svg#arrow-down\"></use></svg></label><div class=\"box -r\" role=\"menu\" aria-labelledby=\"dpdw-help\" id=\"dpdw-help-box\"><div class=\"inbox\"><a href=\"https://www.jumia.com.ng/contents/sp-help-center/\" class=\"-df -i-ctr -phm -pv12 -hov-bg-gy05 -hov-m\">Help Center</a><a href=\"https://www.jumia.com.ng/contents/sp-help-center/?page=place+an+order\" class=\"-df -i-ctr -phm -pv12 -hov-bg-gy05 -hov-m\">Place an order</a><a href=\"https://www.jumia.com.ng/contents/sp-help-center/?page=pay+for+your+order\" class=\"-df -i-ctr -phm -pv12 -hov-bg-gy05 -hov-m\">Payment options</a><a href=\"https://www.jumia.com.ng/contents/sp-help-center/?page=track+your+order\" class=\"-df -i-ctr -phm -pv12 -hov-bg-gy05 -hov-m\">Track an order</a><a href=\"https://www.jumia.com.ng/contents/sp-help-center/?page=cancel+an+order\" class=\"-df -i-ctr -phm -pv12 -hov-bg-gy05 -hov-m\">Cancel an order</a><a href=\"https://www.jumia.com.ng/contents/sp-help-center/?page=create+a+return\" class=\"-df -i-ctr -phm -pv12 -hov-bg-gy05 -hov-m\">Returns &amp; Refunds</a><div class=\"-tac -hr _hx2 -fs0 -pam\"><button class=\"btn _prim _md _i -fw\" data-btn-lc=\"true\" data-eventCategory=\"LiveChat\" data-eventAction=\"open\" data-track-onclick=\"true\"><svg viewBox=\"0 0 24 24\" class=\"ic\" width=\"24\" height=\"24\"><use xlink:href=\"https://www.jumia.com.ng/assets_he/images/i-icons.a66628fd.svg#chat\"></use></svg><span>Live Chat</span></button></div></div></div></div><a class=\"-df -i-ctr -gy9 -hov-or5 -phs -fs16\" href=\"/cart/\"><span id=\"ci\" class=\"-mrs -fs0\"><svg viewBox=\"0 0 24 24\" class=\"ic\" width=\"24\" height=\"24\"><use xlink:href=\"https://www.jumia.com.ng/assets_he/images/i-icons.a66628fd.svg#shopping-cart\"></use></svg></span>Cart</a></div></section></header><article class=\"banner _pp\" data-ppb-rev=\"v1.0\"><div class=\"ctt-w\"><p class=\"ctt\">This website uses cookies. For further information on how we use cookies you can read our \\xc2\\xa0<a class=\"_more -fs12\" href=\"/sp-privacy/\" target=\"_blank\" rel=\"noopener\">Privacy and Cookie notice</a></p><button class=\"cls\" aria-label=\"Close\"><span class=\"ic-bg -bg-wt\"><svg viewBox=\"0 0 24 24\" class=\"ic -maxs\" width=\"16\" height=\"16\"><use xlink:href=\"https://www.jumia.com.ng/assets_he/images/i-icons.a66628fd.svg#close\"></use></svg></span></button></div></article><main class=\"-pvxl\"><div class=\"row\"><div class=\"col16\"><section class=\"card\"><header class=\"-df -i-ctr -bb -pvs -phm\"><a class=\"-mvxs -mrm -fs0\" href=\"/xiaomi-redmi-12-6.79-4gb-ram128gb-rom-android-13-midnight-black-253237683.html\" aria-label=\"product_reviews_back-cta\"><svg viewBox=\"0 0 24 24\" class=\"ic\" width=\"24\" height=\"24\"><use xlink:href=\"https://www.jumia.com.ng/assets_he/images/i-icons.a66628fd.svg#arrow-back\"></use></svg></a><h1 class=\"-fs20 -m -pvxs\">Verified Customer Feedback</h1></header><div class=\"row -fw-nw\"><div class=\"col4 -phm\"><h2 class=\"-fs14 -m -upp -pvm\">Verified Ratings (22)</h2><div class=\"-fsh0 -bg-gy05 -df -d-co -i-ctr -rad4 -pam\"><div class=\"-fs29 -yl5 -pvxs\"><span class=\"-b\">4.2</span>/5</div><div class=\"stars _m -mvs\">4.2 out of 5<div class=\"in\" style=\"width:84%\"></div></div><p class=\"-fs16 -pts\">22 verified ratings</p></div><ul class=\"-ptxs -mts -pbm\"><li class=\"-df -i-ctr -ptxs -m\" aria-hidden=\"true\">5<svg viewBox=\"0 0 24 24\" class=\"ic -fsh0 -f-yl5 -mhs\" width=\"20\" height=\"20\"><use xlink:href=\"https://www.jumia.com.ng/assets_he/images/i-icons.a66628fd.svg#star\"></use></svg><p class=\"-gy5 -mw-34 -r\">(12)</p><div class=\"meter _s -mlm\" style=\"background-image:linear-gradient(to right,#f6b01e 54.54545454545454%,#ededed 54.54545454545454%);\"></div></li><li class=\"-df -i-ctr -ptxs -m\" aria-hidden=\"true\">4<svg viewBox=\"0 0 24 24\" class=\"ic -fsh0 -f-yl5 -mhs\" width=\"20\" height=\"20\"><use xlink:href=\"https://www.jumia.com.ng/assets_he/images/i-icons.a66628fd.svg#star\"></use></svg><p class=\"-gy5 -mw-34 -r\">(6)</p><div class=\"meter _s -mlm\" style=\"background-image:linear-gradient(to right,#f6b01e 27.27272727272727%,#ededed 27.27272727272727%);\"></div></li><li class=\"-df -i-ctr -ptxs -m\" aria-hidden=\"true\">3<svg viewBox=\"0 0 24 24\" class=\"ic -fsh0 -f-yl5 -mhs\" width=\"20\" height=\"20\"><use xlink:href=\"https://www.jumia.com.ng/assets_he/images/i-icons.a66628fd.svg#star\"></use></svg><p class=\"-gy5 -mw-34 -r\">(1)</p><div class=\"meter _s -mlm\" style=\"background-image:linear-gradient(to right,#f6b01e 4.545454545454546%,#ededed 4.545454545454546%);\"></div></li><li class=\"-df -i-ctr -ptxs -m\" aria-hidden=\"true\">2<svg viewBox=\"0 0 24 24\" class=\"ic -fsh0 -f-yl5 -mhs\" width=\"20\" height=\"20\"><use xlink:href=\"https://www.jumia.com.ng/assets_he/images/i-icons.a66628fd.svg#star\"></use></svg><p class=\"-gy5 -mw-34 -r\">(2)</p><div class=\"meter _s -mlm\" style=\"background-image:linear-gradient(to right,#f6b01e 9.090909090909092%,#ededed 9.090909090909092%);\"></div></li><li class=\"-df -i-ctr -ptxs -m\" aria-hidden=\"true\">1<svg viewBox=\"0 0 24 24\" class=\"ic -fsh0 -f-yl5 -mhs\" width=\"20\" height=\"20\"><use xlink:href=\"https://www.jumia.com.ng/assets_he/images/i-icons.a66628fd.svg#star\"></use></svg><p class=\"-gy5 -mw-34 -r\">(1)</p><div class=\"meter _s -mlm\" style=\"background-image:linear-gradient(to right,#f6b01e 4.545454545454546%,#ededed 4.545454545454546%);\"></div></li></ul></div><div class=\"cola -phm -df -d-co\"><h2 class=\"-fs14 -m -upp -ptm\">Comments from Verified Purchases(6)</h2><article class=\"-pvs -hr _bet\"><div class=\"stars _m _al -mvs\">5 out of 5<div class=\"in\" style=\"width:100%\"></div></div><h3 class=\"-m -fs16 -pvs\">lovely </h3><p class=\"-pvs\">Very nice </p><div class=\"-df -j-bet -i-ctr -gy5\"><div class=\"-pvs\"><span class=\"-prs\">22-09-2023</span><span>by Olurin</span></div><div class=\"-df -i-ctr -gn5 -fsh0\"><svg viewBox=\"0 0 24 24\" class=\"ic -f-gn5\" width=\"22\" height=\"22\"><use xlink:href=\"https://www.jumia.com.ng/assets_he/images/i-icons.a66628fd.svg#check-verified\"></use></svg>Verified Purchase</div></div></article><article class=\"-pvs -hr _bet\"><div class=\"stars _m _al -mvs\">4 out of 5<div class=\"in\" style=\"width:80%\"></div></div><h3 class=\"-m -fs16 -pvs\">Good device</h3><p class=\"-pvs\">For a budget device, does the basics pretty well.</p><div class=\"-df -j-bet -i-ctr -gy5\"><div class=\"-pvs\"><span class=\"-prs\">22-09-2023</span><span>by Andikan</span></div><div class=\"-df -i-ctr -gn5 -fsh0\"><svg viewBox=\"0 0 24 24\" class=\"ic -f-gn5\" width=\"22\" height=\"22\"><use xlink:href=\"https://www.jumia.com.ng/assets_he/images/i-icons.a66628fd.svg#check-verified\"></use></svg>Verified Purchase</div></div></article><article class=\"-pvs -hr _bet\"><div class=\"stars _m _al -mvs\">5 out of 5<div class=\"in\" style=\"width:100%\"></div></div><h3 class=\"-m -fs16 -pvs\">Beast phone </h3><p class=\"-pvs\">The phone is very sleek and very attractive. The battery is also wonderful and it\\'s a nice budget phone that\\'s very pocket friendly. I\\'m really enjoying this product ????</p><div class=\"-df -j-bet -i-ctr -gy5\"><div class=\"-pvs\"><span class=\"-prs\">21-09-2023</span><span>by Ogechukwu</span></div><div class=\"-df -i-ctr -gn5 -fsh0\"><svg viewBox=\"0 0 24 24\" class=\"ic -f-gn5\" width=\"22\" height=\"22\"><use xlink:href=\"https://www.jumia.com.ng/assets_he/images/i-icons.a66628fd.svg#check-verified\"></use></svg>Verified Purchase</div></div></article><article class=\"-pvs -hr _bet\"><div class=\"stars _m _al -mvs\">4 out of 5<div class=\"in\" style=\"width:80%\"></div></div><h3 class=\"-m -fs16 -pvs\">nice</h3><p class=\"-pvs\">It is perfect \\n</p><div class=\"-df -j-bet -i-ctr -gy5\"><div class=\"-pvs\"><span class=\"-prs\">13-09-2023</span><span>by Olayinka</span></div><div class=\"-df -i-ctr -gn5 -fsh0\"><svg viewBox=\"0 0 24 24\" class=\"ic -f-gn5\" width=\"22\" height=\"22\"><use xlink:href=\"https://www.jumia.com.ng/assets_he/images/i-icons.a66628fd.svg#check-verified\"></use></svg>Verified Purchase</div></div></article><article class=\"-pvs -hr _bet\"><div class=\"stars _m _al -mvs\">5 out of 5<div class=\"in\" style=\"width:100%\"></div></div><h3 class=\"-m -fs16 -pvs\">Impressive</h3><p class=\"-pvs\">Got it for my wife, she really loves the phone, the phone isn\\'t bad either perfect as ordered and seen. </p><div class=\"-df -j-bet -i-ctr -gy5\"><div class=\"-pvs\"><span class=\"-prs\">24-08-2023</span><span>by Casper</span></div><div class=\"-df -i-ctr -gn5 -fsh0\"><svg viewBox=\"0 0 24 24\" class=\"ic -f-gn5\" width=\"22\" height=\"22\"><use xlink:href=\"https://www.jumia.com.ng/assets_he/images/i-icons.a66628fd.svg#check-verified\"></use></svg>Verified Purchase</div></div></article><article class=\"-pvs -hr _bet\"><div class=\"stars _m _al -mvs\">5 out of 5<div class=\"in\" style=\"width:100%\"></div></div><h3 class=\"-m -fs16 -pvs\">Excellent</h3><p class=\"-pvs\">Perfect </p><div class=\"-df -j-bet -i-ctr -gy5\"><div class=\"-pvs\"><span class=\"-prs\">14-08-2023</span><span>by Aliyu</span></div><div class=\"-df -i-ctr -gn5 -fsh0\"><svg viewBox=\"0 0 24 24\" class=\"ic -f-gn5\" width=\"22\" height=\"22\"><use xlink:href=\"https://www.jumia.com.ng/assets_he/images/i-icons.a66628fd.svg#check-verified\"></use></svg>Verified Purchase</div></div></article></div></div></section></div></div></main><footer class=\"-pbm -fs12 -bg-gy7 -gy05\"><div class=\"-bg-gy9 -mbm\"><div class=\"row -ptl\"><div class=\"col4\"><svg viewBox=\"0 0 172 30\" class=\"ic\" width=\"140\" height=\"32\"><use xlink:href=\"https://www.jumia.com.ng/assets_he/images/i-shop-jumia.9f5451c7.svg#logo-inv\"></use></svg></div><div class=\"col7 -df -d-co -j-bet\"><div><div class=\"f-t -pbs\">New to Jumia?</div>Subscribe to our newsletter to get updates on our latest offers!</div><form method=\"post\" id=\"nl-ft-f\" action=\"/newsletter/subscription/default/\" class=\"-pts\"><div class=\"-df -i-start\"><div class=\"fi-w _ic\"><input placeholder=\"Enter E-mail Address\" required class=\"fi\" type=\"email\" value id=\"fi-nl-ft-email\" name=\"email\" aria-label=\"E-mail\"/><svg viewBox=\"0 0 24 24\" class=\"ic\" width=\"24\" height=\"24\"><use xlink:href=\"https://www.jumia.com.ng/assets_he/images/i-icons.a66628fd.svg#email\"></use></svg></div><div class=\"-df -pvs -plxs\"><button name=\"gender\" value=\"male\" class=\"-mhxs brd-btn _sqr -phl\">Male</button><button name=\"gender\" value=\"female\" class=\"-mhxs brd-btn _sqr -phl\">Female</button></div></div><input name=\"csrfToken\" value=\"550b296aa9bf164e9101f551ee6687bf\" type=\"hidden\"/></form></div><div class=\"col4 -mla\"><div class=\"-df\"><svg viewBox=\"0 0 40 40\" class=\"ic -fsh0\" width=\"40\" height=\"40\"><use xlink:href=\"https://www.jumia.com.ng/assets_he/images/i-shop-jumia.9f5451c7.svg#app\"></use></svg><div class=\"-plm\"><div class=\"f-t -pbs\">DOWNLOAD JUMIA FREE APP</div>Get access to exclusive offers!</div></div><div class=\"-df -ptm\"><a href=\"https://itunes.apple.com/app/id925015459?mt=8\" title=\"Get it on the App Store\" class=\"brd-btn _sqr ic-link -paxs -dif -mrs\" target=\"_blank\" rel=\"nofollow noopener\"><svg viewBox=\"0 0 88 24\" class=\"ic\" width=\"88\" height=\"22\"><use xlink:href=\"https://www.jumia.com.ng/assets_he/images/i-global.04dd5bd2.svg#appstore\"></use></svg></a><a href=\"https://play.google.com/store/apps/details?id=com.jumia.android&amp;referrer=adjust_reftag%3DcdTxOjM\" title=\"Get it on Google Play\" class=\"brd-btn _sqr ic-link -paxs -dif\" target=\"_blank\" rel=\"nofollow noopener\"><svg viewBox=\"0 0 93 23\" class=\"ic\" width=\"93\" height=\"22\"><use xlink:href=\"https://www.jumia.com.ng/assets_he/images/i-global.04dd5bd2.svg#googleplay\"></use></svg></a></div></div></div></div><div class=\"row -pbl\"><div class=\"col4 -df -d-co -pvs\"><span class=\"f-t -pbm\">Need Help?</span><button class=\"-gy05 -pbxs -cp -ahf -tal\" data-btn-lc=\"true\" data-eventCategory=\"LiveChat\" data-eventAction=\"open\" data-eventLabel=\"footer\" data-track-onclick=\"true\">Chat with us</button><ul class=\"-lsn\"><li><a class=\"_link -pbxs\" href=\"https://www.jumia.com.ng/sp-help-center/\">Help Center</a></li><li><a class=\"_link -pbxs\" href=\"https://www.jumia.com.ng/sp-contact/\">Contact Us</a></li></ul><span class=\"f-t -pvm\">Useful Links</span><ul class=\"-lsn\"><li><a class=\"_link -pbxs\" href=\"https://www.jumia.com.ng/sp-service-centers/\">Service Center</a></li><li><a class=\"_link -pbxs\" href=\"https://www.jumia.com.ng/sp-help-center\">How to shop on Jumia?</a></li><li><a class=\"_link -pbxs\" href=\"https://www.jumia.com.ng/sp-help-center/?page=track+your+order\">Delivery options and timelines</a></li><li><a class=\"_link -pbxs\" href=\"https://www.jumia.com.ng/sp-help-center/?page=create+a+return\">How to return a product on Jumia?</a></li><li><a class=\"_link -pbxs\" href=\"https://www.jumia.com.ng/jumia-corporate/\">Corporate and bulk purchases</a></li><li><a class=\"_link -pbxs\" href=\"https://forms-prod2.sprinklr.com/guided-workflows/64351818df46305b9c8ba24e?gwId=65264ff2645a674786de59da&amp;viewType=FULL_PAGE\">Report a Product</a></li><li><a class=\"_link -pbxs\" href=\"https://www.jumia.com.ng/sp-jumia-logistics-services/\">Ship your package anywhere in Nigeria</a></li><li><a class=\"_link -pbxs\" href=\"https://www.jumia.com.ng/sp-dispute-resolution/\">Dispute Resolution Policy</a></li><li><a class=\"_link -pbxs\" href=\"https://www.jumia.com.ng/sp-help-center/?page=create+a+return\">Returns &amp; Refund Timeline</a></li><li><a class=\"_link -pbxs\" href=\"https://www.jumia.com.ng/sp-returns-refunds-policy/\">Return Policy</a></li></ul></div><div class=\"col4 -df -d-co -pvs\"><span class=\"f-t -pbm\">ABOUT JUMIA</span><ul class=\"-lsn\"><li><a class=\"_link -pbxs\" href=\"https://www.jumia.com.ng/about_us/\">About us</a></li><li><a class=\"_link -pbxs\" href=\"https://www.jumia.com.ng/careers/\">Jumia careers</a></li><li><a class=\"_link -pbxs\" href=\"https://www.jumia.com.ng/mlp-jumia-express/\">Jumia Express</a></li><li><a class=\"_link -pbxs\" href=\"https://www.jumia.com.ng/terms-of-use/\">Terms and Conditions</a></li><li><a class=\"_link -pbxs\" href=\"https://www.jumia.com.ng/privacy/\">Privacy Notice</a></li><li><a class=\"_link -pbxs\" href=\"https://www.jumia.com.ng/sp-jumia-store-credit-terms/\">Jumia Store Credit Terms &amp; Conditions</a></li><li><a class=\"_link -pbxs\" href=\"/sp-payment-information-guidelines/\">Jumia Payment Information Guidelines</a></li><li><a class=\"_link -pbxs\" href=\"https://www.jumia.com.ng/sp-cookie-notice/\">Cookie Notice</a></li><li><a class=\"_link -pbxs\" href=\"https://www.jumia.com.ng/mlp-jumia-global/\">Jumia Global</a></li><li><a class=\"_link -pbxs\" href=\"https://www.jumia.com.ng/mlp-official-stores/\">Official Stores</a></li><li><a class=\"_link -pbxs\" href=\"https://www.jumia.com.ng/flash-sales/\">Flash Sales</a></li><li><a class=\"_link -pbxs\" href=\"https://www.jumia.com.ng/mlp-black-friday/\">Black Friday 2023</a></li></ul></div><div class=\"col4 -df -d-co -pvs\"><span class=\"f-t -pbm\">MAKE MONEY WITH JUMIA</span><ul class=\"-lsn\"><li><a class=\"_link -pbxs\" href=\"https://www.jumia.com.ng/marketplace-vendor/\">Sell on Jumia</a></li><li><a class=\"_link -pbxs\" href=\"https://vendorhub.jumia.com.ng/\">Vendor hub</a></li><li><a class=\"_link -pbxs\" href=\"https://www.jumia.com.ng/mlp-jforce-sale/\">Become a Sales Consultant</a></li><li><a class=\"_link -pbxs\" href=\"https://jumia_form.formstack.com/forms/3pl_interest_registration_en\">Become a Logistics Service Partner</a></li><li><a class=\"_link -pbxs\" href=\"https://s.alchemer.com/s3/de5375b6d0c9?county=Nigeria&amp;Channel=WebPG\">Join the Jumia DA Academy</a></li><li><a class=\"_link -pbxs\" href=\"https://kol.jumia.com/login\">Join the Jumia KOL Program</a></li></ul></div><div class=\"col4 row -c-start -pvs\"><span class=\"f-t col16 -pbm\">JUMIA INTERNATIONAL</span><ul class=\"col5 -df -d-co -lsn\"><li><a class=\"_link -pbxs\" href=\"https://www.jumia.dz/\">Algeria</a></li><li><a class=\"_link -pbxs\" href=\"https://www.jumia.com.eg/\">Egypt</a></li><li><a class=\"_link -pbxs\" href=\"https://www.jumia.com.gh/\">Ghana</a></li><li><a class=\"_link -pbxs\" href=\"https://www.jumia.ci/\">Ivory Coast</a></li><li><a class=\"_link -pbxs\" href=\"https://www.jumia.co.ke/\">Kenya</a></li></ul><ul class=\"col5 -df -d-co -lsn\"><li><a class=\"_link -pbxs\" href=\"https://www.jumia.ma/\">Morocco</a></li><li><a class=\"_link -pbxs\" href=\"https://www.jumia.sn/\">Senegal</a></li><li><a class=\"_link -pbxs\" href=\"https://www.jumia.com.tn/\">Tunisia</a></li><li><a class=\"_link -pbxs\" href=\"https://www.jumia.ug/\">Uganda</a></li><li><a class=\"_link -pbxs\" href=\"https://www.zando.co.za/\">Zando</a></li></ul></div></div><div class=\"row -pbl\"><div class=\"col4 row\"><div class=\"f-t col16 -pbm\">JOIN US ON</div><div class=\"col16 -phn -fs0\"><a href=\"https://www.facebook.com/jumia.com.ng/\" title=\"Facebook Jumia Nigeria\" class=\"ic-link -pas\" target=\"_blank\" rel=\"noopener\"><svg viewBox=\"0 0 24 24\" class=\"ic\" width=\"26\" height=\"26\"><use xlink:href=\"https://www.jumia.com.ng/assets_he/images/i-icons.a66628fd.svg#soc-facebook\"></use></svg></a><a href=\"https://www.youtube.com/c/JumiaNigeriaNG\" title=\"YouTube Jumia Nigeria\" class=\"ic-link -pas\" target=\"_blank\" rel=\"noopener\"><svg viewBox=\"0 0 24 24\" class=\"ic\" width=\"26\" height=\"26\"><use xlink:href=\"https://www.jumia.com.ng/assets_he/images/i-icons.a66628fd.svg#soc-youtube\"></use></svg></a><a href=\"https://www.instagram.com/jumianigeria/\" title=\"Instagram Jumia Nigeria\" class=\"ic-link -pas\" target=\"_blank\" rel=\"noopener\"><svg viewBox=\"0 0 24 24\" class=\"ic\" width=\"26\" height=\"26\"><use xlink:href=\"https://www.jumia.com.ng/assets_he/images/i-icons.a66628fd.svg#soc-instagram\"></use></svg></a><a href=\"https://twitter.com/JumiaNGHelp\" title=\"Live Help on Twitter Jumia Nigeria\" class=\"ic-link -pas\" target=\"_blank\" rel=\"noopener\"><svg viewBox=\"0 0 24 24\" class=\"ic\" width=\"26\" height=\"26\"><use xlink:href=\"https://www.jumia.com.ng/assets_he/images/i-icons.a66628fd.svg#soc-twitter\"></use></svg></a></div></div><div class=\"col12 row\"><div class=\"f-t col16 -pbm\">PAYMENT METHODS &amp; DELIVERY PARTNERS</div><div class=\"col16 -phn -df -fw-w -fs0\"><a href=\"https://www.jumia.com.ng/cash-on-delivery/\" title=\"Payment on delivery\" class=\"ic-link -pas\"><svg viewBox=\"0 0 24 24\" class=\"ic\" width=\"24\" height=\"24\"><use xlink:href=\"https://www.jumia.com.ng/assets_he/images/i-global.04dd5bd2.svg#pay-cashondelivery\"></use></svg></a><a href=\"https://www.jumia.com.ng/credit-cards/\" title=\"Mastercard\" class=\"ic-link -pas\"><svg viewBox=\"0 0 36 24\" class=\"ic\" width=\"36\" height=\"24\"><use xlink:href=\"https://www.jumia.com.ng/assets_he/images/i-global.04dd5bd2.svg#pay-mastercard\"></use></svg></a><a href=\"https://www.jumia.com.ng/credit-cards/\" title=\"Visa\" class=\"ic-link -pas\"><svg viewBox=\"0 0 31 24\" class=\"ic\" width=\"31\" height=\"24\"><use xlink:href=\"https://www.jumia.com.ng/assets_he/images/i-global.04dd5bd2.svg#pay-visa\"></use></svg></a><a href=\"https://www.jumia.com.ng/credit-cards/\" title=\"Verve\" class=\"ic-link -pas\"><svg viewBox=\"0 0 42 24\" class=\"ic\" width=\"42\" height=\"24\"><use xlink:href=\"https://www.jumia.com.ng/assets_he/images/i-global.04dd5bd2.svg#pay-verve\"></use></svg></a><a href=\"https://www.jumia.com.ng/credit-cards/\" title=\"Interswitch\" class=\"ic-link -pas\"><svg viewBox=\"0 0 86 24\" class=\"ic\" width=\"86\" height=\"24\"><use xlink:href=\"https://www.jumia.com.ng/assets_he/images/i-global.04dd5bd2.svg#pay-interswitch\"></use></svg></a><a title=\"DHL\" class=\"ic-link -pas\"><svg viewBox=\"0 0 63 24\" class=\"ic\" width=\"63\" height=\"24\"><use xlink:href=\"https://www.jumia.com.ng/assets_he/images/i-global.04dd5bd2.svg#pay-dhl\"></use></svg></a><a title=\"MAX\" class=\"ic-link -pas\"><svg viewBox=\"0 0 50 24\" class=\"ic\" width=\"50\" height=\"24\"><use xlink:href=\"https://www.jumia.com.ng/assets_he/images/i-global.04dd5bd2.svg#pay-max\"></use></svg></a></div></div></div><div class=\"vb row -i-ctr -j-ctr _foot _gy5 -hr -mtl\"><div class=\"col3 -df -j-start\"></div><div class=\"col10 -df -j-ctr -fs0\"><a class=\"vent-link\" title=\"JumiaPay\" href=\"https://pay.jumia.com.ng/?utm_source=jumia&amp;utm_medium=mall&amp;utm_campaign=venturebar\" rel=\"nofollow noopener\" target=\"_blank\"><svg viewBox=\"0 0 60 24\" class=\"ic\" width=\"60\" height=\"24\"><use xlink:href=\"https://www.jumia.com.ng/assets_he/images/i-global.04dd5bd2.svg#venture-pay\"></use></svg></a><a class=\"vent-link\" title=\"Jumia Food\" href=\"https://food.jumia.com.ng/?utm_source=jumia&amp;utm_medium=mall&amp;utm_campaign=venturebar\" rel=\"nofollow noopener\" target=\"_blank\"><svg viewBox=\"0 0 66 24\" class=\"ic\" width=\"66\" height=\"24\"><use xlink:href=\"https://www.jumia.com.ng/assets_he/images/i-global.04dd5bd2.svg#venture-food\"></use></svg></a><a class=\"vent-link\" title=\"Jumia Logistic Services\" href=\"https://www.jumia.com.ng/sp-jumia-logistics-services/?utm_source=jumia&amp;utm_medium=mall&amp;utm_campaign=venturebar\" rel=\"nofollow noopener\" target=\"_blank\"><svg viewBox=\"0 0 108 24\" class=\"ic\" width=\"108\" height=\"24\"><use xlink:href=\"https://www.jumia.com.ng/assets_he/images/i-global.04dd5bd2.svg#venture-logistics\"></use></svg></a></div><div class=\"col3 -df -j-end -wt -mla\"></div></div></footer><div id=\"pop\"></div></div><script>var dataLayer=[{\"countryCode\":\"NG\",\"language\":\"en\",\"platform\":\"desktop\",\"url\":\"/catalog/productratingsreviews/sku/XI363MP3Y3LG3NAFAMZ/\",\"pageType\":\"product\",\"pageSubtype\":\"productRatings\",\"pageKey\":\"product_productRatings\",\"pageTitle\":\"Reviews of Redmi 12 6.79\\\\\" 4GB RAM/128GB ROM Android 13 - Midnight Black\",\"abTests\":\"Home:A#MLP:B#CLP:B#Cart:S#SponProdCat:A#SponProdPdp:A\",\"joinedPageType\":\"product_productRatings\"}];(function(w,d,s,l,i,f){function go(){w[l]=w[l]||[];w[l].push({\"gtm.start\":new Date().getTime(),event:\"gtm.js\"});f=d.getElementsByTagName(s)[0],j=d.createElement(s),dl=l!=\"dataLayer\"?\"&l=\"+l:\"\";j.async=true;j.src=\"//www.googletagmanager.com/gtm.js?id=\"+i+dl;j.addEventListener(\\'load\\',function(){dataLayer.push({event:\\'pageView\\'});(function(){setTimeout((function(){window.dataLayer.push({event:\"pageViewLvl2\"}),setTimeout((function(){window.dataLayer.push({event:\"pageViewLvl3\"})}),500)}),500)})()});f.parentNode.insertBefore(j,f);}w.addEventListener(\"load\",go,false);})(window,document,\\'script\\',\\'dataLayer\\',\\'GTM-KS6DC65\\');</script><script>window.__STORE__={\"view\":\"Product/Reviews\",\"activeLanguage\":\"en\",\"countryCode\":\"NG\",\"languages\":{\"en\":{\"text\":\"English\",\"default\":true}},\"svgFallback\":false,\"tracking\":{\"gtm\":{\"key\":\"GTM-KS6DC65\",\"url\":\"/catalog/productratingsreviews/sku/XI363MP3Y3LG3NAFAMZ/\",\"pageType\":\"product\",\"pageSubtype\":\"productRatings\",\"pageKey\":\"product_productRatings\"}},\"csrfToken\":\"550b296aa9bf164e9101f551ee6687bf\",\"user\":{\"id\":\"\"},\"sprites\":{\"icons\":\"https://www.jumia.com.ng/assets_he/images/i-icons.a66628fd.svg\",\"global\":\"https://www.jumia.com.ng/assets_he/images/i-global.04dd5bd2.svg\",\"shop\":\"https://www.jumia.com.ng/assets_he/images/i-jumia.svg\"},\"liveChat\":{\"loadingText\":\"Live Chat is loading...\",\"botImg\":\"https://www.jumia.com.ng/assets_he/images/bot.5beef7d8.svg\"},\"htmlErrors\":{\"valueMissing\":\"Required field\",\"typeMismatch\":\"Invalid Information\",\"patternMismatch\":\"Invalid Information\"}};</script><script type=\"module\" crossorigin src=\"https://www.jumia.com.ng/assets_he/js/common.889e2d8e.js\"></script><script type=\"module\" crossorigin src=\"https://www.jumia.com.ng/assets_he/js/pages/default.8cc9c53d.js\"></script><script nomodule src=\"https://www.jumia.com.ng/assets_he/js/common.es5.49c27597.js\"></script><script nomodule src=\"https://www.jumia.com.ng/assets_he/js/pages/default.es5.f0a462e3.js\"></script></body></html>'"
      ]
     },
     "execution_count": 5,
     "metadata": {},
     "output_type": "execute_result"
    }
   ],
   "source": [
    "page.content"
   ]
  },
  {
   "cell_type": "code",
   "execution_count": 20,
   "id": "048a0766-77e9-40de-8da7-e4b278c6f284",
   "metadata": {
    "tags": []
   },
   "outputs": [],
   "source": [
    "soup = bs(page.content, \"html.parser\")"
   ]
  },
  {
   "cell_type": "code",
   "execution_count": 21,
   "id": "f31b4385-4289-4072-a193-3a3f8c08461c",
   "metadata": {
    "collapsed": true,
    "jupyter": {
     "outputs_hidden": true
    },
    "tags": []
   },
   "outputs": [
    {
     "name": "stdout",
     "output_type": "stream",
     "text": [
      "<!DOCTYPE html>\n",
      "<html dir=\"ltr\" lang=\"en\">\n",
      " <head>\n",
      "  <meta charset=\"utf-8\"/>\n",
      "  <title>\n",
      "   Reviews of Redmi 12 6.79\" 4GB RAM/128GB ROM Android 13 - Midnight Black\n",
      "  </title>\n",
      "  <meta content=\"product\" property=\"og:type\"/>\n",
      "  <meta content=\"Jumia Nigeria\" property=\"og:site_name\"/>\n",
      "  <meta content='Reviews of Redmi 12 6.79\" 4GB RAM/128GB ROM Android 13 - Midnight Black' property=\"og:title\"/>\n",
      "  <meta content=\"/catalog/productratingsreviews/sku/XI363MP3Y3LG3NAFAMZ/\" property=\"og:url\"/>\n",
      "  <meta content=\"https://ng.jumia.is/cms/jumialogonew.png\" property=\"og:image\"/>\n",
      "  <meta content=\"en_NG\" property=\"og:locale\"/>\n",
      "  <meta content='Reviews of Redmi 12 6.79\" 4GB RAM/128GB ROM Android 13 - Midnight Black' name=\"title\"/>\n",
      "  <meta content=\"noindex,follow\" name=\"robots\"/>\n",
      "  <meta content=\"728795990650684\" property=\"fb:app_id\"/>\n",
      "  <meta content=\"291297097615087\" property=\"fb:pages\"/>\n",
      "  <meta content=\"4vr0StQ8YkyEzgDxkC_mgx0UMSH2xM3vkOaRpaMEjWM\" name=\"google-site-verification\"/>\n",
      "  <meta content=\"VeavdmtsHUH8fIEGpu4eeF-ryLp5ZXVUOmWmXWzV11I\" name=\"google-site-verification\"/>\n",
      "  <meta content=\"66DCE7076C4C56245BAB83C687510491\" name=\"msvalidate.01\"/>\n",
      "  <meta content=\"width=device-width, initial-scale=1.0\" name=\"viewport\"/>\n",
      "  <link href=\"https://www.jumia.com.ng/assets_he/css/main.4db97dce.css\" rel=\"stylesheet\"/>\n",
      "  <link href=\"https://www.jumia.com.ng/assets_he/favicon.87f00114.ico\" rel=\"icon\" sizes=\"any\" type=\"image/ico\"/>\n",
      "  <link href=\"https://www.jumia.com.ng/assets_he/favicon.adbd556a.svg\" rel=\"icon\" type=\"image/svg+xml\"/>\n",
      "  <link href=\"//bam.nr-data.net\" rel=\"preconnect dns-prefetch\"/>\n",
      "  <link href=\"//js-agent.newrelic.com\" rel=\"preconnect dns-prefetch\"/>\n",
      "  <link href=\"//www.google-analytics.com\" rel=\"preconnect dns-prefetch\"/>\n",
      "  <link href=\"//www.googletagmanager.com\" rel=\"preconnect dns-prefetch\"/>\n",
      "  <link href=\"//www.facebook.com\" rel=\"preconnect dns-prefetch\"/>\n",
      "  <link href=\"//connect.facebook.net\" rel=\"preconnect dns-prefetch\"/>\n",
      "  <link href=\"//static.criteo.net\" rel=\"preconnect dns-prefetch\"/>\n",
      "  <link href=\"//sslwidget.criteo.com\" rel=\"preconnect dns-prefetch\"/>\n",
      "  <link href=\"//dis.eu.criteo.com\" rel=\"preconnect dns-prefetch\"/>\n",
      "  <link href=\"//creativecdn.com\" rel=\"preconnect dns-prefetch\"/>\n",
      "  <link href=\"https://ng.jumia.is\" rel=\"dns-prefetch\"/>\n",
      " </head>\n",
      " <body>\n",
      "  <script type=\"text/javascript\">\n",
      "   window.NREUM||(NREUM={});NREUM.info = {\"agent\":\"\",\"beacon\":\"bam.nr-data.net\",\"errorBeacon\":\"bam.nr-data.net\",\"licenseKey\":\"b76de0635f\",\"applicationID\":\"202020352\",\"agentToken\":null,\"applicationTime\":4.69327,\"transactionName\":\"NVxXYhMHChFYVUELDQwWdkMSEgsPFmZHDQYXWkEZMwMSC1xBRkIeQml6ZTU=\",\"queueTime\":0,\"ttGuid\":\"e9e13be9d7c7ff73\"}; (window.NREUM||(NREUM={})).init={ajax:{deny_list:[\"bam.nr-data.net\"]}};(window.NREUM||(NREUM={})).loader_config={licenseKey:\"b76de0635f\",applicationID:\"202020352\"};;/*! For license information please see nr-loader-rum-1.246.1.min.js.LICENSE.txt */\n",
      "(()=>{\"use strict\";var e,t,n={234:(e,t,n)=>{n.d(t,{P_:()=>h,Mt:()=>m,C5:()=>s,DL:()=>w,OP:()=>j,lF:()=>S,Yu:()=>_,Dg:()=>v,CX:()=>c,GE:()=>A,sU:()=>T});var r=n(8632),i=n(9567);const a={beacon:r.ce.beacon,errorBeacon:r.ce.errorBeacon,licenseKey:void 0,applicationID:void 0,sa:void 0,queueTime:void 0,applicationTime:void 0,ttGuid:void 0,user:void 0,account:void 0,product:void 0,extra:void 0,jsAttributes:{},userAttributes:void 0,atts:void 0,transactionName:void 0,tNamePlain:void 0},o={};function s(e){if(!e)throw new Error(\"All info objects require an agent identifier!\");if(!o[e])throw new Error(\"Info for \".concat(e,\" was never set\"));return o[e]}function c(e,t){if(!e)throw new Error(\"All info objects require an agent identifier!\");o[e]=(0,i.D)(t,a),(0,r.Qy)(e,o[e],\"info\")}const d=e=>{if(!e||\"string\"!=typeof e)return!1;try{document.createDocumentFragment().querySelector(e)}catch{return!1}return!0};var u=n(7056),l=n(50);const f=()=>{const e={mask_selector:\"*\",block_selector:\"[data-nr-block]\",mask_input_options:{color:!1,date:!1,\"datetime-local\":!1,email:!1,month:!1,number:!1,range:!1,search:!1,tel:!1,text:!1,time:!1,url:!1,week:!1,textarea:!1,select:!1,password:!0}};return{feature_flags:[],proxy:{assets:void 0,beacon:void 0},privacy:{cookies_enabled:!0},ajax:{deny_list:void 0,block_internal:!0,enabled:!0,harvestTimeSeconds:10,autoStart:!0},distributed_tracing:{enabled:void 0,exclude_newrelic_header:void 0,cors_use_newrelic_header:void 0,cors_use_tracecontext_headers:void 0,allowed_origins:void 0},session:{domain:void 0,expiresMs:u.oD,inactiveMs:u.Hb},ssl:void 0,obfuscate:void 0,jserrors:{enabled:!0,harvestTimeSeconds:10,autoStart:!0},metrics:{enabled:!0,autoStart:!0},page_action:{enabled:!0,harvestTimeSeconds:30,autoStart:!0},page_view_event:{enabled:!0,autoStart:!0},page_view_timing:{enabled:!0,harvestTimeSeconds:30,long_task:!1,autoStart:!0},session_trace:{enabled:!0,harvestTimeSeconds:10,autoStart:!0},harvest:{tooManyRequestsDelay:60},session_replay:{autoStart:!0,enabled:!1,harvestTimeSeconds:60,sampling_rate:50,error_sampling_rate:50,collect_fonts:!1,inline_images:!1,inline_stylesheet:!0,mask_all_inputs:!0,get mask_text_selector(){return e.mask_selector},set mask_text_selector(t){d(t)?e.mask_selector=t+\",[data-nr-mask]\":null===t?e.mask_selector=t:(0,l.Z)(\"An invalid session_replay.mask_selector was provided and will not be used\",t)},get block_class(){return\"nr-block\"},get ignore_class(){return\"nr-ignore\"},get mask_text_class(){return\"nr-mask\"},get block_selector(){return e.block_selector},set block_selector(t){d(t)?e.block_selector+=\",\".concat(t):\"\"!==t&&(0,l.Z)(\"An invalid session_replay.block_selector was provided and will not be used\",t)},get mask_input_options(){return e.mask_input_options},set mask_input_options(t){t&&\"object\"==typeof t?e.mask_input_options={...t,password:!0}:(0,l.Z)(\"An invalid session_replay.mask_input_option was provided and will not be used\",t)}},spa:{enabled:!0,harvestTimeSeconds:10,autoStart:!0}}},g={},p=\"All configuration objects require an agent identifier!\";function h(e){if(!e)throw new Error(p);if(!g[e])throw new Error(\"Configuration for \".concat(e,\" was never set\"));return g[e]}function v(e,t){if(!e)throw new Error(p);g[e]=(0,i.D)(t,f()),(0,r.Qy)(e,g[e],\"config\")}function m(e,t){if(!e)throw new Error(p);var n=h(e);if(n){for(var r=t.split(\".\"),i=0;i<r.length-1;i++)if(\"object\"!=typeof(n=n[r[i]]))return;n=n[r[r.length-1]]}return n}const b={accountID:void 0,trustKey:void 0,agentID:void 0,licenseKey:void 0,applicationID:void 0,xpid:void 0},y={};function w(e){if(!e)throw new Error(\"All loader-config objects require an agent identifier!\");if(!y[e])throw new Error(\"LoaderConfig for \".concat(e,\" was never set\"));return y[e]}function A(e,t){if(!e)throw new Error(\"All loader-config objects require an agent identifier!\");y[e]=(0,i.D)(t,b),(0,r.Qy)(e,y[e],\"loader_config\")}const _=(0,r.mF)().o;var x=n(385),D=n(6818);const k={buildEnv:D.Re,customTransaction:void 0,disabled:!1,distMethod:D.gF,isolatedBacklog:!1,loaderType:void 0,maxBytes:3e4,offset:Math.floor(x._A?.performance?.timeOrigin||x._A?.performance?.timing?.navigationStart||Date.now()),onerror:void 0,origin:\"\"+x._A.location,ptid:void 0,releaseIds:{},session:void 0,xhrWrappable:\"function\"==typeof x._A.XMLHttpRequest?.prototype?.addEventListener,version:D.q4,denyList:void 0},E={};function j(e){if(!e)throw new Error(\"All runtime objects require an agent identifier!\");if(!E[e])throw new Error(\"Runtime for \".concat(e,\" was never set\"));return E[e]}function T(e,t){if(!e)throw new Error(\"All runtime objects require an agent identifier!\");E[e]=(0,i.D)(t,k),(0,r.Qy)(e,E[e],\"runtime\")}function S(e){return function(e){try{const t=s(e);return!!t.licenseKey&&!!t.errorBeacon&&!!t.applicationID}catch(e){return!1}}(e)}},9567:(e,t,n)=>{n.d(t,{D:()=>i});var r=n(50);function i(e,t){try{if(!e||\"object\"!=typeof e)return(0,r.Z)(\"Setting a Configurable requires an object as input\");if(!t||\"object\"!=typeof t)return(0,r.Z)(\"Setting a Configurable requires a model to set its initial properties\");const n=Object.create(Object.getPrototypeOf(t),Object.getOwnPropertyDescriptors(t)),a=0===Object.keys(n).length?e:n;for(let o in a)if(void 0!==e[o])try{Array.isArray(e[o])&&Array.isArray(t[o])?n[o]=Array.from(new Set([...e[o],...t[o]])):\"object\"==typeof e[o]&&\"object\"==typeof t[o]?n[o]=i(e[o],t[o]):n[o]=e[o]}catch(e){(0,r.Z)(\"An error occurred while setting a property of a Configurable\",e)}return n}catch(e){(0,r.Z)(\"An error occured while setting a Configurable\",e)}}},6818:(e,t,n)=>{n.d(t,{Re:()=>i,gF:()=>a,q4:()=>r});const r=\"1.246.1\",i=\"PROD\",a=\"CDN\"},385:(e,t,n)=>{n.d(t,{Nk:()=>u,Tt:()=>s,_A:()=>a,cv:()=>l,iS:()=>o,il:()=>r,ux:()=>c,v6:()=>i,w1:()=>d});const r=\"undefined\"!=typeof window&&!!window.document,i=\"undefined\"!=typeof WorkerGlobalScope&&(\"undefined\"!=typeof self&&self instanceof WorkerGlobalScope&&self.navigator instanceof WorkerNavigator||\"undefined\"!=typeof globalThis&&globalThis instanceof WorkerGlobalScope&&globalThis.navigator instanceof WorkerNavigator),a=r?window:\"undefined\"!=typeof WorkerGlobalScope&&(\"undefined\"!=typeof self&&self instanceof WorkerGlobalScope&&self||\"undefined\"!=typeof globalThis&&globalThis instanceof WorkerGlobalScope&&globalThis),o=Boolean(\"hidden\"===a?.document?.visibilityState),s=(a?.location,/iPad|iPhone|iPod/.test(a.navigator?.userAgent)),c=s&&\"undefined\"==typeof SharedWorker,d=((()=>{const e=a.navigator?.userAgent?.match(/Firefox[/\\s](\\d+\\.\\d+)/);Array.isArray(e)&&e.length>=2&&e[1]})(),Boolean(r&&window.document.documentMode)),u=!!a.navigator?.sendBeacon,l=Math.floor(a?.performance?.timeOrigin||a?.performance?.timing?.navigationStart||Date.now())},1117:(e,t,n)=>{n.d(t,{w:()=>a});var r=n(50);const i={agentIdentifier:\"\",ee:void 0};class a{constructor(e){try{if(\"object\"!=typeof e)return(0,r.Z)(\"shared context requires an object as input\");this.sharedContext={},Object.assign(this.sharedContext,i),Object.entries(e).forEach((e=>{let[t,n]=e;Object.keys(i).includes(t)&&(this.sharedContext[t]=n)}))}catch(e){(0,r.Z)(\"An error occured while setting SharedContext\",e)}}}},8e3:(e,t,n)=>{n.d(t,{L:()=>u,R:()=>c});var r=n(8325),i=n(1284),a=n(4322),o=n(3325);const s={};function c(e,t){const n={staged:!1,priority:o.p[t]||0};d(e),s[e].get(t)||s[e].set(t,n)}function d(e){e&&(s[e]||(s[e]=new Map))}function u(){let e=arguments.length>0&&void 0!==arguments[0]?arguments[0]:\"\",t=arguments.length>1&&void 0!==arguments[1]?arguments[1]:\"feature\";if(d(e),!e||!s[e].get(t))return o(t);s[e].get(t).staged=!0;const n=[...s[e]];function o(t){const n=e?r.ee.get(e):r.ee,o=a.X.handlers;if(n.backlog&&o){var s=n.backlog[t],c=o[t];if(c){for(var d=0;s&&d<s.length;++d)l(s[d],c);(0,i.D)(c,(function(e,t){(0,i.D)(t,(function(t,n){n[0].on(e,n[1])}))}))}delete o[t],n.backlog[t]=null,n.emit(\"drain-\"+t,[])}}n.every((e=>{let[t,n]=e;return n.staged}))&&(n.sort(((e,t)=>e[1].priority-t[1].priority)),n.forEach((t=>{let[n]=t;s[e].delete(n),o(n)})))}function l(e,t){var n=e[1];(0,i.D)(t[n],(function(t,n){var r=e[0];if(n[0]===r){var i=n[1],a=e[3],o=e[2];i.apply(a,o)}}))}},8325:(e,t,n)=>{n.d(t,{A:()=>c,ee:()=>d});var r=n(8632),i=n(2210),a=n(234);class o{constructor(e){this.contextId=e}}var s=n(3117);const c=\"nr@context:\".concat(s.a),d=function e(t,n){var r={},s={},u={},f=!1;try{f=16===n.length&&(0,a.OP)(n).isolatedBacklog}catch(e){}var g={on:h,addEventListener:h,removeEventListener:function(e,t){var n=r[e];if(!n)return;for(var i=0;i<n.length;i++)n[i]===t&&n.splice(i,1)},emit:function(e,n,r,i,a){!1!==a&&(a=!0);if(d.aborted&&!i)return;t&&a&&t.emit(e,n,r);for(var o=p(r),c=v(e),u=c.length,l=0;l<u;l++)c[l].apply(o,n);var f=b()[s[e]];f&&f.push([g,e,n,o]);return o},get:m,listeners:v,context:p,buffer:function(e,t){const n=b();if(t=t||\"feature\",g.aborted)return;Object.entries(e||{}).forEach((e=>{let[r,i]=e;s[i]=t,t in n||(n[t]=[])}))},abort:l,aborted:!1,isBuffering:function(e){return!!b()[s[e]]},debugId:n,backlog:f?{}:t&&\"object\"==typeof t.backlog?t.backlog:{}};return g;function p(e){return e&&e instanceof o?e:e?(0,i.X)(e,c,(()=>new o(c))):new o(c)}function h(e,t){r[e]=v(e).concat(t)}function v(e){return r[e]||[]}function m(t){return u[t]=u[t]||e(g,t)}function b(){return g.backlog}}(void 0,\"globalEE\"),u=(0,r.fP)();function l(){d.aborted=!0,d.backlog={}}u.ee||(u.ee=d)},5546:(e,t,n)=>{n.d(t,{E:()=>r,p:()=>i});var r=n(8325).ee.get(\"handle\");function i(e,t,n,i,a){a?(a.buffer([e],i),a.emit(e,t,n)):(r.buffer([e],i),r.emit(e,t,n))}},4322:(e,t,n)=>{n.d(t,{X:()=>a});var r=n(5546);a.on=o;var i=a.handlers={};function a(e,t,n,a){o(a||r.E,i,e,t,n)}function o(e,t,n,i,a){a||(a=\"feature\"),e||(e=r.E);var o=t[a]=t[a]||{};(o[n]=o[n]||[]).push([e,i])}},3239:(e,t,n)=>{n.d(t,{bP:()=>s,iz:()=>c,m$:()=>o});var r=n(385);let i=!1,a=!1;try{const e={get passive(){return i=!0,!1},get signal(){return a=!0,!1}};r._A.addEventListener(\"test\",null,e),r._A.removeEventListener(\"test\",null,e)}catch(e){}function o(e,t){return i||a?{capture:!!e,passive:i,signal:t}:!!e}function s(e,t){let n=arguments.length>2&&void 0!==arguments[2]&&arguments[2],r=arguments.length>3?arguments[3]:void 0;window.addEventListener(e,t,o(n,r))}function c(e,t){let n=arguments.length>2&&void 0!==arguments[2]&&arguments[2],r=arguments.length>3?arguments[3]:void 0;document.addEventListener(e,t,o(n,r))}},3117:(e,t,n)=>{n.d(t,{a:()=>r});const r=(0,n(4402).Rl)()},4402:(e,t,n)=>{n.d(t,{Rl:()=>o,ky:()=>s});var r=n(385);const i=\"xxxxxxxx-xxxx-4xxx-yxxx-xxxxxxxxxxxx\";function a(e,t){return e?15&e[t]:16*Math.random()|0}function o(){const e=r._A?.crypto||r._A?.msCrypto;let t,n=0;return e&&e.getRandomValues&&(t=e.getRandomValues(new Uint8Array(31))),i.split(\"\").map((e=>\"x\"===e?a(t,++n).toString(16):\"y\"===e?(3&a()|8).toString(16):e)).join(\"\")}function s(e){const t=r._A?.crypto||r._A?.msCrypto;let n,i=0;t&&t.getRandomValues&&(n=t.getRandomValues(new Uint8Array(31)));const o=[];for(var s=0;s<e;s++)o.push(a(n,++i).toString(16));return o.join(\"\")}},7056:(e,t,n)=>{n.d(t,{Bq:()=>r,Hb:()=>a,oD:()=>i});const r=\"NRBA\",i=144e5,a=18e5},7894:(e,t,n)=>{function r(){return Math.round(performance.now())}n.d(t,{z:()=>r})},50:(e,t,n)=>{function r(e,t){\"function\"==typeof console.warn&&(console.warn(\"New Relic: \".concat(e)),t&&console.warn(t))}n.d(t,{Z:()=>r})},2587:(e,t,n)=>{n.d(t,{N:()=>c,T:()=>d});var r=n(8325),i=n(5546),a=n(3325);const o={stn:[a.D.sessionTrace],err:[a.D.jserrors,a.D.metrics],ins:[a.D.pageAction],spa:[a.D.spa],sr:[a.D.sessionReplay,a.D.sessionTrace]},s=new Set;function c(e,t){const n=r.ee.get(t);e&&\"object\"==typeof e&&(s.has(t)||Object.entries(e).forEach((e=>{let[t,r]=e;o[t]?o[t].forEach((e=>{r?(0,i.p)(\"feat-\"+t,[],void 0,e,n):(0,i.p)(\"block-\"+t,[],void 0,e,n),(0,i.p)(\"rumresp-\"+t,[Boolean(r)],void 0,e,n)})):r&&(0,i.p)(\"feat-\"+t,[],void 0,void 0,n),d[t]=Boolean(r)})),Object.keys(o).forEach((e=>{void 0===d[e]&&(o[e]?.forEach((t=>(0,i.p)(\"rumresp-\"+e,[!1],void 0,t,n))),d[e]=!1)})),s.add(t))}const d={}},2210:(e,t,n)=>{n.d(t,{X:()=>i});var r=Object.prototype.hasOwnProperty;function i(e,t,n){if(r.call(e,t))return e[t];var i=n();if(Object.defineProperty&&Object.keys)try{return Object.defineProperty(e,t,{value:i,writable:!0,enumerable:!1}),i}catch(e){}return e[t]=i,i}},1284:(e,t,n)=>{n.d(t,{D:()=>r});const r=(e,t)=>Object.entries(e||{}).map((e=>{let[n,r]=e;return t(n,r)}))},4351:(e,t,n)=>{n.d(t,{P:()=>a});var r=n(8325);const i=()=>{const e=new WeakSet;return(t,n)=>{if(\"object\"==typeof n&&null!==n){if(e.has(n))return;e.add(n)}return n}};function a(e){try{return JSON.stringify(e,i())}catch(e){try{r.ee.emit(\"internal-error\",[e])}catch(e){}}}},3960:(e,t,n)=>{n.d(t,{K:()=>o,b:()=>a});var r=n(3239);function i(){return\"undefined\"==typeof document||\"complete\"===document.readyState}function a(e,t){if(i())return e();(0,r.bP)(\"load\",e,t)}function o(e){if(i())return e();(0,r.iz)(\"DOMContentLoaded\",e)}},8632:(e,t,n)=>{n.d(t,{EZ:()=>d,Qy:()=>c,ce:()=>a,fP:()=>o,gG:()=>u,mF:()=>s});var r=n(7894),i=n(385);const a={beacon:\"bam.nr-data.net\",errorBeacon:\"bam.nr-data.net\"};function o(){return i._A.NREUM||(i._A.NREUM={}),void 0===i._A.newrelic&&(i._A.newrelic=i._A.NREUM),i._A.NREUM}function s(){let e=o();return e.o||(e.o={ST:i._A.setTimeout,SI:i._A.setImmediate,CT:i._A.clearTimeout,XHR:i._A.XMLHttpRequest,REQ:i._A.Request,EV:i._A.Event,PR:i._A.Promise,MO:i._A.MutationObserver,FETCH:i._A.fetch}),e}function c(e,t,n){let i=o();const a=i.initializedAgents||{},s=a[e]||{};return Object.keys(s).length||(s.initializedAt={ms:(0,r.z)(),date:new Date}),i.initializedAgents={...a,[e]:{...s,[n]:t}},i}function d(e,t){o()[e]=t}function u(){return function(){let e=o();const t=e.info||{};e.info={beacon:a.beacon,errorBeacon:a.errorBeacon,...t}}(),function(){let e=o();const t=e.init||{};e.init={...t}}(),s(),function(){let e=o();const t=e.loader_config||{};e.loader_config={...t}}(),o()}},7956:(e,t,n)=>{n.d(t,{N:()=>i});var r=n(3239);function i(e){let t=arguments.length>1&&void 0!==arguments[1]&&arguments[1],n=arguments.length>2?arguments[2]:void 0,i=arguments.length>3?arguments[3]:void 0;(0,r.iz)(\"visibilitychange\",(function(){if(t)return void(\"hidden\"===document.visibilityState&&e());e(document.visibilityState)}),n,i)}},3081:(e,t,n)=>{n.d(t,{gF:()=>a,mY:()=>i,t9:()=>r,vz:()=>s,xS:()=>o});const r=n(3325).D.metrics,i=\"sm\",a=\"cm\",o=\"storeSupportabilityMetrics\",s=\"storeEventMetrics\"},7633:(e,t,n)=>{n.d(t,{t:()=>r});const r=n(3325).D.pageViewEvent},9251:(e,t,n)=>{n.d(t,{t:()=>r});const r=n(3325).D.pageViewTiming},5938:(e,t,n)=>{n.d(t,{W:()=>i});var r=n(8325);class i{constructor(e,t,n){this.agentIdentifier=e,this.aggregator=t,this.ee=r.ee.get(e),this.featureName=n,this.blocked=!1}}},7530:(e,t,n)=>{n.d(t,{j:()=>b});var r=n(3325),i=n(234),a=n(5546),o=n(8325),s=n(7894),c=n(8e3),d=n(3960),u=n(385),l=n(50),f=n(3081),g=n(8632);function p(){const e=(0,g.gG)();[\"setErrorHandler\",\"finished\",\"addToTrace\",\"addRelease\",\"addPageAction\",\"setCurrentRouteName\",\"setPageViewName\",\"setCustomAttribute\",\"interaction\",\"noticeError\",\"setUserId\",\"setApplicationVersion\",\"start\"].forEach((t=>{e[t]=function(){for(var n=arguments.length,r=new Array(n),i=0;i<n;i++)r[i]=arguments[i];return function(t){for(var n=arguments.length,r=new Array(n>1?n-1:0),i=1;i<n;i++)r[i-1]=arguments[i];let a=[];return Object.values(e.initializedAgents).forEach((e=>{e.exposed&&e.api[t]&&a.push(e.api[t](...r))})),a.length>1?a:a[0]}(t,...r)}}))}var h=n(2587);const v=e=>{const t=e.startsWith(\"http\");e+=\"/\",n.p=t?e:\"https://\"+e};let m=!1;function b(e){let t=arguments.length>1&&void 0!==arguments[1]?arguments[1]:{},b=arguments.length>2?arguments[2]:void 0,y=arguments.length>3?arguments[3]:void 0,{init:w,info:A,loader_config:_,runtime:x={loaderType:b},exposed:D=!0}=t;const k=(0,g.gG)();A||(w=k.init,A=k.info,_=k.loader_config),(0,i.Dg)(e,w||{}),(0,i.GE)(e,_||{}),A.jsAttributes??={},u.v6&&(A.jsAttributes.isWorker=!0),(0,i.CX)(e,A);const E=(0,i.P_)(e),j=[A.beacon,A.errorBeacon];m||(m=!0,E.proxy.assets&&(v(E.proxy.assets),j.push(E.proxy.assets)),E.proxy.beacon&&j.push(E.proxy.beacon)),x.denyList=[...E.ajax.deny_list||[],...E.ajax.block_internal?j:[]],(0,i.sU)(e,x),p();const T=function(e,t){t||(0,c.R)(e,\"api\");const g={};var p=o.ee.get(e),h=p.get(\"tracer\"),v=\"api-\",m=v+\"ixn-\";function b(t,n,r,a){const o=(0,i.C5)(e);return null===n?delete o.jsAttributes[t]:(0,i.CX)(e,{...o,jsAttributes:{...o.jsAttributes,[t]:n}}),A(v,r,!0,a||null===n?\"session\":void 0)(t,n)}function y(){}[\"setErrorHandler\",\"finished\",\"addToTrace\",\"addRelease\"].forEach((e=>{g[e]=A(v,e,!0,\"api\")})),g.addPageAction=A(v,\"addPageAction\",!0,r.D.pageAction),g.setCurrentRouteName=A(v,\"routeName\",!0,r.D.spa),g.setPageViewName=function(t,n){if(\"string\"==typeof t)return\"/\"!==t.charAt(0)&&(t=\"/\"+t),(0,i.OP)(e).customTransaction=(n||\"http://custom.transaction\")+t,A(v,\"setPageViewName\",!0)()},g.setCustomAttribute=function(e,t){let n=arguments.length>2&&void 0!==arguments[2]&&arguments[2];if(\"string\"==typeof e){if([\"string\",\"number\",\"boolean\"].includes(typeof t)||null===t)return b(e,t,\"setCustomAttribute\",n);(0,l.Z)(\"Failed to execute setCustomAttribute.\\nNon-null value must be a string, number or boolean type, but a type of <\".concat(typeof t,\"> was provided.\"))}else(0,l.Z)(\"Failed to execute setCustomAttribute.\\nName must be a string type, but a type of <\".concat(typeof e,\"> was provided.\"))},g.setUserId=function(e){if(\"string\"==typeof e||null===e)return b(\"enduser.id\",e,\"setUserId\",!0);(0,l.Z)(\"Failed to execute setUserId.\\nNon-null value must be a string type, but a type of <\".concat(typeof e,\"> was provided.\"))},g.setApplicationVersion=function(e){if(\"string\"==typeof e||null===e)return b(\"application.version\",e,\"setApplicationVersion\",!1);(0,l.Z)(\"Failed to execute setApplicationVersion. Expected <String | null>, but got <\".concat(typeof e,\">.\"))},g.start=e=>{try{const t=e?\"defined\":\"undefined\";(0,a.p)(f.xS,[\"API/start/\".concat(t,\"/called\")],void 0,r.D.metrics,p);const n=Object.values(r.D);if(void 0===e)e=n;else{if((e=Array.isArray(e)&&e.length?e:[e]).some((e=>!n.includes(e))))return(0,l.Z)(\"Invalid feature name supplied. Acceptable feature names are: \".concat(n));e.includes(r.D.pageViewEvent)||e.push(r.D.pageViewEvent)}e.forEach((e=>{p.emit(\"\".concat(e,\"-opt-in\"))}))}catch(e){(0,l.Z)(\"An unexpected issue occurred\",e)}},g.interaction=function(){return(new y).get()};var w=y.prototype={createTracer:function(e,t){var n={},i=this,o=\"function\"==typeof t;return(0,a.p)(m+\"tracer\",[(0,s.z)(),e,n],i,r.D.spa,p),function(){if(h.emit((o?\"\":\"no-\")+\"fn-start\",[(0,s.z)(),i,o],n),o)try{return t.apply(this,arguments)}catch(e){throw h.emit(\"fn-err\",[arguments,this,e],n),e}finally{h.emit(\"fn-end\",[(0,s.z)()],n)}}}};function A(e,t,n,i){return function(){return(0,a.p)(f.xS,[\"API/\"+t+\"/called\"],void 0,r.D.metrics,p),i&&(0,a.p)(e+t,[(0,s.z)(),...arguments],n?null:this,i,p),n?void 0:this}}function _(){n.e(75).then(n.bind(n,7438)).then((t=>{let{setAPI:n}=t;n(e),(0,c.L)(e,\"api\")})).catch((()=>(0,l.Z)(\"Downloading runtime APIs failed...\")))}return[\"actionText\",\"setName\",\"setAttribute\",\"save\",\"ignore\",\"onEnd\",\"getContext\",\"end\",\"get\"].forEach((e=>{w[e]=A(m,e,void 0,r.D.spa)})),g.noticeError=function(e,t){\"string\"==typeof e&&(e=new Error(e)),(0,a.p)(f.xS,[\"API/noticeError/called\"],void 0,r.D.metrics,p),(0,a.p)(\"err\",[e,(0,s.z)(),!1,t],void 0,r.D.jserrors,p)},u.il?(0,d.b)((()=>_()),!0):_(),g}(e,y);return(0,g.Qy)(e,T,\"api\"),(0,g.Qy)(e,D,\"exposed\"),(0,g.EZ)(\"activatedFeatures\",h.T),T}},3325:(e,t,n)=>{n.d(t,{D:()=>r,p:()=>i});const r={ajax:\"ajax\",jserrors:\"jserrors\",metrics:\"metrics\",pageAction:\"page_action\",pageViewEvent:\"page_view_event\",pageViewTiming:\"page_view_timing\",sessionReplay:\"session_replay\",sessionTrace:\"session_trace\",spa:\"spa\"},i={[r.pageViewEvent]:1,[r.pageViewTiming]:2,[r.metrics]:3,[r.jserrors]:4,[r.ajax]:5,[r.sessionTrace]:6,[r.pageAction]:7,[r.spa]:8,[r.sessionReplay]:9}}},r={};function i(e){var t=r[e];if(void 0!==t)return t.exports;var a=r[e]={exports:{}};return n[e](a,a.exports,i),a.exports}i.m=n,i.d=(e,t)=>{for(var n in t)i.o(t,n)&&!i.o(e,n)&&Object.defineProperty(e,n,{enumerable:!0,get:t[n]})},i.f={},i.e=e=>Promise.all(Object.keys(i.f).reduce(((t,n)=>(i.f[n](e,t),t)),[])),i.u=e=>\"nr-rum-1.246.1.min.js\",i.o=(e,t)=>Object.prototype.hasOwnProperty.call(e,t),e={},t=\"NRBA-1.246.1.PROD:\",i.l=(n,r,a,o)=>{if(e[n])e[n].push(r);else{var s,c;if(void 0!==a)for(var d=document.getElementsByTagName(\"script\"),u=0;u<d.length;u++){var l=d[u];if(l.getAttribute(\"src\")==n||l.getAttribute(\"data-webpack\")==t+a){s=l;break}}s||(c=!0,(s=document.createElement(\"script\")).charset=\"utf-8\",s.timeout=120,i.nc&&s.setAttribute(\"nonce\",i.nc),s.setAttribute(\"data-webpack\",t+a),s.src=n),e[n]=[r];var f=(t,r)=>{s.onerror=s.onload=null,clearTimeout(g);var i=e[n];if(delete e[n],s.parentNode&&s.parentNode.removeChild(s),i&&i.forEach((e=>e(r))),t)return t(r)},g=setTimeout(f.bind(null,void 0,{type:\"timeout\",target:s}),12e4);s.onerror=f.bind(null,s.onerror),s.onload=f.bind(null,s.onload),c&&document.head.appendChild(s)}},i.r=e=>{\"undefined\"!=typeof Symbol&&Symbol.toStringTag&&Object.defineProperty(e,Symbol.toStringTag,{value:\"Module\"}),Object.defineProperty(e,\"__esModule\",{value:!0})},i.p=\"https://js-agent.newrelic.com/\",(()=>{var e={50:0,832:0};i.f.j=(t,n)=>{var r=i.o(e,t)?e[t]:void 0;if(0!==r)if(r)n.push(r[2]);else{var a=new Promise(((n,i)=>r=e[t]=[n,i]));n.push(r[2]=a);var o=i.p+i.u(t),s=new Error;i.l(o,(n=>{if(i.o(e,t)&&(0!==(r=e[t])&&(e[t]=void 0),r)){var a=n&&(\"load\"===n.type?\"missing\":n.type),o=n&&n.target&&n.target.src;s.message=\"Loading chunk \"+t+\" failed.\\n(\"+a+\": \"+o+\")\",s.name=\"ChunkLoadError\",s.type=a,s.request=o,r[1](s)}}),\"chunk-\"+t,t)}};var t=(t,n)=>{var r,a,[o,s,c]=n,d=0;if(o.some((t=>0!==e[t]))){for(r in s)i.o(s,r)&&(i.m[r]=s[r]);if(c)c(i)}for(t&&t(n);d<o.length;d++)a=o[d],i.o(e,a)&&e[a]&&e[a][0](),e[a]=0},n=self[\"webpackChunk:NRBA-1.246.1.PROD\"]=self[\"webpackChunk:NRBA-1.246.1.PROD\"]||[];n.forEach(t.bind(null,0)),n.push=t.bind(null,n.push.bind(n))})(),(()=>{var e=i(50);class t{addPageAction(t,n){(0,e.Z)(\"Call to agent api addPageAction failed. The page action feature is not currently initialized.\")}setPageViewName(t,n){(0,e.Z)(\"Call to agent api setPageViewName failed. The page view feature is not currently initialized.\")}setCustomAttribute(t,n,r){(0,e.Z)(\"Call to agent api setCustomAttribute failed. The js errors feature is not currently initialized.\")}noticeError(t,n){(0,e.Z)(\"Call to agent api noticeError failed. The js errors feature is not currently initialized.\")}setUserId(t){(0,e.Z)(\"Call to agent api setUserId failed. The js errors feature is not currently initialized.\")}setApplicationVersion(t){(0,e.Z)(\"Call to agent api setApplicationVersion failed. The agent is not currently initialized.\")}setErrorHandler(t){(0,e.Z)(\"Call to agent api setErrorHandler failed. The js errors feature is not currently initialized.\")}finished(t){(0,e.Z)(\"Call to agent api finished failed. The page action feature is not currently initialized.\")}addRelease(t,n){(0,e.Z)(\"Call to agent api addRelease failed. The js errors feature is not currently initialized.\")}start(t){(0,e.Z)(\"Call to agent api addRelease failed. The agent is not currently initialized.\")}}var n=i(3325),r=i(234);const a=Object.values(n.D);function o(e){const t={};return a.forEach((n=>{t[n]=function(e,t){return!1!==(0,r.Mt)(t,\"\".concat(e,\".enabled\"))}(n,e)})),t}var s=i(7530);var c=i(8e3),d=i(5938),u=i(3960),l=i(385);class f extends d.W{constructor(e,t,n){let i=!(arguments.length>3&&void 0!==arguments[3])||arguments[3];super(e,t,n),this.auto=i,this.abortHandler=void 0,this.featAggregate=void 0,this.onAggregateImported=void 0,!1===(0,r.Mt)(this.agentIdentifier,\"\".concat(this.featureName,\".autoStart\"))&&(this.auto=!1),this.auto&&(0,c.R)(e,n)}importAggregator(){let t=arguments.length>0&&void 0!==arguments[0]?arguments[0]:{};if(this.featAggregate)return;if(!this.auto)return void this.ee.on(\"\".concat(this.featureName,\"-opt-in\"),(()=>{(0,c.R)(this.agentIdentifier,this.featureName),this.auto=!0,this.importAggregator()}));const n=l.il&&!0===(0,r.Mt)(this.agentIdentifier,\"privacy.cookies_enabled\");let a;this.onAggregateImported=new Promise((e=>{a=e}));const o=async()=>{let r;try{if(n){const{setupAgentSession:e}=await i.e(75).then(i.bind(i,3228));r=e(this.agentIdentifier)}}catch(t){(0,e.Z)(\"A problem occurred when starting up session manager. This page will not start or extend any session.\",t)}try{if(!this.shouldImportAgg(this.featureName,r))return(0,c.L)(this.agentIdentifier,this.featureName),void a(!1);const{lazyFeatureLoader:e}=await i.e(75).then(i.bind(i,8582)),{Aggregate:n}=await e(this.featureName,\"aggregate\");this.featAggregate=new n(this.agentIdentifier,this.aggregator,t),a(!0)}catch(t){(0,e.Z)(\"Downloading and initializing \".concat(this.featureName,\" failed...\"),t),this.abortHandler?.(),(0,c.L)(this.agentIdentifier,this.featureName),a(!1)}};l.il?(0,u.b)((()=>o()),!0):o()}shouldImportAgg(e,t){return e!==n.D.sessionReplay||!!r.Yu.MO&&(!1!==(0,r.Mt)(this.agentIdentifier,\"session_trace.enabled\")&&(!!t?.isNew||!!t?.state.sessionReplayMode))}}var g=i(7633);class p extends f{static featureName=g.t;constructor(e,t){let n=!(arguments.length>2&&void 0!==arguments[2])||arguments[2];super(e,t,g.t,n),this.importAggregator()}}var h=i(1117),v=i(1284);class m extends h.w{constructor(e){super(e),this.aggregatedData={}}store(e,t,n,r,i){var a=this.getBucket(e,t,n,i);return a.metrics=function(e,t){t||(t={count:0});return t.count+=1,(0,v.D)(e,(function(e,n){t[e]=b(n,t[e])})),t}(r,a.metrics),a}merge(e,t,n,r,i){var a=this.getBucket(e,t,r,i);if(a.metrics){var o=a.metrics;o.count+=n.count,(0,v.D)(n,(function(e,t){if(\"count\"!==e){var r=o[e],i=n[e];i&&!i.c?o[e]=b(i.t,r):o[e]=function(e,t){if(!t)return e;t.c||(t=y(t.t));return t.min=Math.min(e.min,t.min),t.max=Math.max(e.max,t.max),t.t+=e.t,t.sos+=e.sos,t.c+=e.c,t}(i,o[e])}}))}else a.metrics=n}storeMetric(e,t,n,r){var i=this.getBucket(e,t,n);return i.stats=b(r,i.stats),i}getBucket(e,t,n,r){this.aggregatedData[e]||(this.aggregatedData[e]={});var i=this.aggregatedData[e][t];return i||(i=this.aggregatedData[e][t]={params:n||{}},r&&(i.custom=r)),i}get(e,t){return t?this.aggregatedData[e]&&this.aggregatedData[e][t]:this.aggregatedData[e]}take(e){for(var t={},n=\"\",r=!1,i=0;i<e.length;i++)t[n=e[i]]=w(this.aggregatedData[n]),t[n].length&&(r=!0),delete this.aggregatedData[n];return r?t:null}}function b(e,t){return null==e?function(e){e?e.c++:e={c:1};return e}(t):t?(t.c||(t=y(t.t)),t.c+=1,t.t+=e,t.sos+=e*e,e>t.max&&(t.max=e),e<t.min&&(t.min=e),t):{t:e}}function y(e){return{t:e,min:e,max:e,sos:e*e,c:1}}function w(e){return\"object\"!=typeof e?[]:(0,v.D)(e,A)}function A(e,t){return t}var _=i(8632),x=i(4402),D=i(4351);var k=i(5546),E=i(7956),j=i(3239),T=i(7894),S=i(9251);class N extends f{static featureName=S.t;constructor(e,t){let n=!(arguments.length>2&&void 0!==arguments[2])||arguments[2];super(e,t,S.t,n),l.il&&((0,E.N)((()=>(0,k.p)(\"docHidden\",[(0,T.z)()],void 0,S.t,this.ee)),!0),(0,j.bP)(\"pagehide\",(()=>(0,k.p)(\"winPagehide\",[(0,T.z)()],void 0,S.t,this.ee))),this.importAggregator())}}var C=i(3081);class P extends f{static featureName=C.t9;constructor(e,t){let n=!(arguments.length>2&&void 0!==arguments[2])||arguments[2];super(e,t,C.t9,n),this.importAggregator()}}new class extends t{constructor(t){let n=arguments.length>1&&void 0!==arguments[1]?arguments[1]:(0,x.ky)(16);super(),l._A?(this.agentIdentifier=n,this.sharedAggregator=new m({agentIdentifier:this.agentIdentifier}),this.features={},this.desiredFeatures=new Set(t.features||[]),this.desiredFeatures.add(p),Object.assign(this,(0,s.j)(this.agentIdentifier,t,t.loaderType||\"agent\")),this.run()):(0,e.Z)(\"Failed to initial the agent. Could not determine the runtime environment.\")}get config(){return{info:(0,r.C5)(this.agentIdentifier),init:(0,r.P_)(this.agentIdentifier),loader_config:(0,r.DL)(this.agentIdentifier),runtime:(0,r.OP)(this.agentIdentifier)}}run(){const t=\"features\";try{const r=o(this.agentIdentifier),i=[...this.desiredFeatures];i.sort(((e,t)=>n.p[e.featureName]-n.p[t.featureName])),i.forEach((t=>{if(r[t.featureName]||t.featureName===n.D.pageViewEvent){const i=function(e){switch(e){case n.D.ajax:return[n.D.jserrors];case n.D.sessionTrace:return[n.D.ajax,n.D.pageViewEvent];case n.D.sessionReplay:return[n.D.sessionTrace];case n.D.pageViewTiming:return[n.D.pageViewEvent];default:return[]}}(t.featureName);i.every((e=>r[e]))||(0,e.Z)(\"\".concat(t.featureName,\" is enabled but one or more dependent features has been disabled (\").concat((0,D.P)(i),\"). This may cause unintended consequences or missing data...\")),this.features[t.featureName]=new t(this.agentIdentifier,this.sharedAggregator)}})),(0,_.Qy)(this.agentIdentifier,this.features,t)}catch(n){(0,e.Z)(\"Failed to initialize all enabled instrument classes (agent aborted) -\",n);for(const e in this.features)this.features[e].abortHandler?.();const r=(0,_.fP)();return delete r.initializedAgents[this.agentIdentifier]?.api,delete r.initializedAgents[this.agentIdentifier]?.[t],delete this.sharedAggregator,r.ee?.abort(),delete r.ee?.get(this.agentIdentifier),!1}}addToTrace(t){(0,e.Z)(\"Call to agent api addToTrace failed. The session trace feature is not currently initialized.\")}setCurrentRouteName(t){(0,e.Z)(\"Call to agent api setCurrentRouteName failed. The spa feature is not currently initialized.\")}interaction(){(0,e.Z)(\"Call to agent api interaction failed. The spa feature is not currently initialized.\")}}({features:[p,N,P],loaderType:\"lite\"})})()})();\n",
      "  </script>\n",
      "  <div id=\"jm\">\n",
      "   <div class=\"vb row -i-ctr -j-ctr _head -bg-gy05\">\n",
      "    <div class=\"col3 -df -j-start\">\n",
      "     <a class=\"_link -df -i-ctr -or5 -m -fs12\" href=\"/marketplace-vendor/\" rel=\"noopener\" target=\"_blank\">\n",
      "      <svg class=\"ic -f-or5 -maxs\" height=\"16\" viewbox=\"0 0 24 24\" width=\"16\">\n",
      "       <use xlink:href=\"https://www.jumia.com.ng/assets_he/images/i-icons.a66628fd.svg#cat-services\">\n",
      "       </use>\n",
      "      </svg>\n",
      "      Sell on Jumia\n",
      "     </a>\n",
      "    </div>\n",
      "    <div class=\"col10 -df -j-ctr -fs0\">\n",
      "     <a class=\"vent-link\" title=\"Jumia\">\n",
      "      <svg class=\"ic\" height=\"24\" viewbox=\"0 0 67 24\" width=\"67\">\n",
      "       <use xlink:href=\"https://www.jumia.com.ng/assets_he/images/i-global.04dd5bd2.svg#venture-jumia\">\n",
      "       </use>\n",
      "      </svg>\n",
      "     </a>\n",
      "     <a class=\"vent-link\" href=\"https://pay.jumia.com.ng/?utm_source=jumia&amp;utm_medium=mall&amp;utm_campaign=venturebar\" rel=\"nofollow noopener\" target=\"_blank\" title=\"JumiaPay\">\n",
      "      <svg class=\"ic\" height=\"24\" viewbox=\"0 0 60 24\" width=\"60\">\n",
      "       <use xlink:href=\"https://www.jumia.com.ng/assets_he/images/i-global.04dd5bd2.svg#venture-pay\">\n",
      "       </use>\n",
      "      </svg>\n",
      "     </a>\n",
      "     <a class=\"vent-link\" href=\"https://food.jumia.com.ng/?utm_source=jumia&amp;utm_medium=mall&amp;utm_campaign=venturebar\" rel=\"nofollow noopener\" target=\"_blank\" title=\"Jumia Food\">\n",
      "      <svg class=\"ic\" height=\"24\" viewbox=\"0 0 66 24\" width=\"66\">\n",
      "       <use xlink:href=\"https://www.jumia.com.ng/assets_he/images/i-global.04dd5bd2.svg#venture-food\">\n",
      "       </use>\n",
      "      </svg>\n",
      "     </a>\n",
      "     <a class=\"vent-link\" href=\"https://www.jumia.com.ng/sp-jumia-logistics-services/?utm_source=jumia&amp;utm_medium=mall&amp;utm_campaign=venturebar\" rel=\"nofollow noopener\" target=\"_blank\" title=\"Jumia Logistic Services\">\n",
      "      <svg class=\"ic\" height=\"24\" viewbox=\"0 0 108 24\" width=\"108\">\n",
      "       <use xlink:href=\"https://www.jumia.com.ng/assets_he/images/i-global.04dd5bd2.svg#venture-logistics\">\n",
      "       </use>\n",
      "      </svg>\n",
      "     </a>\n",
      "    </div>\n",
      "    <div class=\"col3 -df -j-end -wt -mla -gy5\">\n",
      "    </div>\n",
      "   </div>\n",
      "   <header class=\"header\">\n",
      "    <section class=\"row -i-ctr -fw-nw -pvm\">\n",
      "     <div class=\"col3 -df -i-ctr\">\n",
      "      <div class=\"dpdw _tail _auto-w _hov _pleft -df -i-ctr -prs -mra\">\n",
      "       <input aria-controls=\"dpdw-flyout-box\" aria-haspopup=\"true\" aria-label=\"Navigate Categories\" class=\"tgl\" id=\"dpdw-flyout\" role=\"button\" type=\"checkbox\"/>\n",
      "       <label class=\"trig -df -pan\" for=\"dpdw-flyout\">\n",
      "        <span class=\"-fsh0\">\n",
      "         <svg class=\"ic\" height=\"24\" viewbox=\"0 0 24 24\" width=\"24\">\n",
      "          <use xlink:href=\"https://www.jumia.com.ng/assets_he/images/i-icons.a66628fd.svg#menu\">\n",
      "          </use>\n",
      "         </svg>\n",
      "        </span>\n",
      "       </label>\n",
      "       <div aria-labelledby=\"dpdw-flyout\" class=\"box\" id=\"dpdw-flyout-box\" role=\"menu\">\n",
      "        <div class=\"inbox\">\n",
      "         <div class=\"flyout\" role=\"menu\">\n",
      "          <a class=\"itm\" href=\"https://www.jumia.com.ng/groceries/\" role=\"menuitem\">\n",
      "           <svg class=\"ic -mrxs -fsh0\" height=\"20\" viewbox=\"0 0 24 24\" width=\"20\">\n",
      "            <use xlink:href=\"https://www.jumia.com.ng/assets_he/images/i-icons.a66628fd.svg#cat-groceries\">\n",
      "            </use>\n",
      "           </svg>\n",
      "           <span class=\"text\">\n",
      "            Supermarket\n",
      "           </span>\n",
      "          </a>\n",
      "          <a class=\"itm\" href=\"/health-beauty/\" role=\"menuitem\">\n",
      "           <svg class=\"ic -mrxs -fsh0\" height=\"20\" viewbox=\"0 0 24 24\" width=\"20\">\n",
      "            <use xlink:href=\"https://www.jumia.com.ng/assets_he/images/i-icons.a66628fd.svg#cat-beauty\">\n",
      "            </use>\n",
      "           </svg>\n",
      "           <span class=\"text\">\n",
      "            Health &amp; Beauty\n",
      "           </span>\n",
      "          </a>\n",
      "          <a class=\"itm\" href=\"/home-office/\" role=\"menuitem\">\n",
      "           <svg class=\"ic -mrxs -fsh0\" height=\"20\" viewbox=\"0 0 24 24\" width=\"20\">\n",
      "            <use xlink:href=\"https://www.jumia.com.ng/assets_he/images/i-icons.a66628fd.svg#cat-home\">\n",
      "            </use>\n",
      "           </svg>\n",
      "           <span class=\"text\">\n",
      "            Home &amp; Office\n",
      "           </span>\n",
      "          </a>\n",
      "          <a class=\"itm\" href=\"https://www.jumia.com.ng/mlp-appliances/\" role=\"menuitem\">\n",
      "           <svg class=\"ic -mrxs -fsh0\" height=\"20\" viewbox=\"0 0 24 24\" width=\"20\">\n",
      "            <use xlink:href=\"https://www.jumia.com.ng/assets_he/images/i-icons.a66628fd.svg#cat-kitchen-dinning\">\n",
      "            </use>\n",
      "           </svg>\n",
      "           <span class=\"text\">\n",
      "            Appliances\n",
      "           </span>\n",
      "          </a>\n",
      "          <a class=\"itm\" href=\"/phones-tablets/\" role=\"menuitem\">\n",
      "           <svg class=\"ic -mrxs -fsh0\" height=\"20\" viewbox=\"0 0 24 24\" width=\"20\">\n",
      "            <use xlink:href=\"https://www.jumia.com.ng/assets_he/images/i-icons.a66628fd.svg#cat-mobile\">\n",
      "            </use>\n",
      "           </svg>\n",
      "           <span class=\"text\">\n",
      "            Phones &amp; Tablets\n",
      "           </span>\n",
      "          </a>\n",
      "          <a class=\"itm\" href=\"/computing/\" role=\"menuitem\">\n",
      "           <svg class=\"ic -mrxs -fsh0\" height=\"20\" viewbox=\"0 0 24 24\" width=\"20\">\n",
      "            <use xlink:href=\"https://www.jumia.com.ng/assets_he/images/i-icons.a66628fd.svg#cat-computing\">\n",
      "            </use>\n",
      "           </svg>\n",
      "           <span class=\"text\">\n",
      "            Computing\n",
      "           </span>\n",
      "          </a>\n",
      "          <a class=\"itm\" href=\"/electronics/\" role=\"menuitem\">\n",
      "           <svg class=\"ic -mrxs -fsh0\" height=\"20\" viewbox=\"0 0 24 24\" width=\"20\">\n",
      "            <use xlink:href=\"https://www.jumia.com.ng/assets_he/images/i-icons.a66628fd.svg#cat-tv\">\n",
      "            </use>\n",
      "           </svg>\n",
      "           <span class=\"text\">\n",
      "            Electronics\n",
      "           </span>\n",
      "          </a>\n",
      "          <a class=\"itm\" href=\"/category-fashion-by-jumia/\" role=\"menuitem\">\n",
      "           <svg class=\"ic -mrxs -fsh0\" height=\"20\" viewbox=\"0 0 24 24\" width=\"20\">\n",
      "            <use xlink:href=\"https://www.jumia.com.ng/assets_he/images/i-icons.a66628fd.svg#cat-fashion\">\n",
      "            </use>\n",
      "           </svg>\n",
      "           <span class=\"text\">\n",
      "            Fashion\n",
      "           </span>\n",
      "          </a>\n",
      "          <a class=\"itm\" href=\"/baby-products/\" role=\"menuitem\">\n",
      "           <svg class=\"ic -mrxs -fsh0\" height=\"20\" viewbox=\"0 0 24 24\" width=\"20\">\n",
      "            <use xlink:href=\"https://www.jumia.com.ng/assets_he/images/i-icons.a66628fd.svg#cat-baby\">\n",
      "            </use>\n",
      "           </svg>\n",
      "           <span class=\"text\">\n",
      "            Baby Products\n",
      "           </span>\n",
      "          </a>\n",
      "          <a class=\"itm\" href=\"/video-games/\" role=\"menuitem\">\n",
      "           <svg class=\"ic -mrxs -fsh0\" height=\"20\" viewbox=\"0 0 24 24\" width=\"20\">\n",
      "            <use xlink:href=\"https://www.jumia.com.ng/assets_he/images/i-icons.a66628fd.svg#cat-games\">\n",
      "            </use>\n",
      "           </svg>\n",
      "           <span class=\"text\">\n",
      "            Gaming\n",
      "           </span>\n",
      "          </a>\n",
      "          <a class=\"itm\" href=\"/sporting-goods/\" role=\"menuitem\">\n",
      "           <svg class=\"ic -mrxs -fsh0\" height=\"20\" viewbox=\"0 0 24 24\" width=\"20\">\n",
      "            <use xlink:href=\"https://www.jumia.com.ng/assets_he/images/i-icons.a66628fd.svg#cat-fitness\">\n",
      "            </use>\n",
      "           </svg>\n",
      "           <span class=\"text\">\n",
      "            Sporting Goods\n",
      "           </span>\n",
      "          </a>\n",
      "          <a class=\"itm\" role=\"menuitem\" tabindex=\"0\">\n",
      "           <svg class=\"ic -mrxs -fsh0\" height=\"20\" viewbox=\"0 0 24 24\" width=\"20\">\n",
      "            <use xlink:href=\"https://www.jumia.com.ng/assets_he/images/i-icons.a66628fd.svg#cat-othercategories\">\n",
      "            </use>\n",
      "           </svg>\n",
      "           <span class=\"text\">\n",
      "            Other categories\n",
      "           </span>\n",
      "          </a>\n",
      "         </div>\n",
      "        </div>\n",
      "       </div>\n",
      "      </div>\n",
      "      <a class=\"-df -i-ctr -mra\" href=\"/\">\n",
      "       <svg aria-label=\"Jumia Nigeria: Online Shopping for Electronics, Phones &amp; Fashion\" class=\"ic\" height=\"30\" role=\"img\" viewbox=\"0 0 172 30\" width=\"134\">\n",
      "        <use xlink:href=\"https://www.jumia.com.ng/assets_he/images/i-shop-jumia.9f5451c7.svg#logo\">\n",
      "        </use>\n",
      "       </svg>\n",
      "      </a>\n",
      "     </div>\n",
      "     <form action=\"/catalog/\" class=\"cola -df\" data-track-onsubmit=\"search\" id=\"search\" method=\"get\">\n",
      "      <div class=\"find\">\n",
      "       <svg class=\"ic\" height=\"24\" viewbox=\"0 0 24 24\" width=\"24\">\n",
      "        <use xlink:href=\"https://www.jumia.com.ng/assets_he/images/i-icons.a66628fd.svg#search\">\n",
      "        </use>\n",
      "       </svg>\n",
      "       <input aria-label=\"Search\" autocomplete=\"off\" id=\"fi-q\" name=\"q\" placeholder=\"Search products, brands and categories\" required=\"\" type=\"text\" value=\"\"/>\n",
      "       <button aria-label=\"Reset\" class=\"rst\" type=\"button\">\n",
      "        <svg class=\"ic\" height=\"24\" viewbox=\"0 0 24 24\" width=\"24\">\n",
      "         <use xlink:href=\"https://www.jumia.com.ng/assets_he/images/i-icons.a66628fd.svg#close\">\n",
      "         </use>\n",
      "        </svg>\n",
      "       </button>\n",
      "       <div class=\"sug\">\n",
      "       </div>\n",
      "      </div>\n",
      "      <button class=\"btn _prim _md -mls -fsh0\">\n",
      "       Search\n",
      "      </button>\n",
      "     </form>\n",
      "     <div class=\"col -df -j-bet -m -phn -i-ctr\">\n",
      "      <div class=\"dpdw _pcent\">\n",
      "       <input aria-controls=\"dpdw-login-box\" aria-haspopup=\"true\" aria-label=\"Account\" class=\"tgl\" id=\"dpdw-login\" role=\"button\" type=\"checkbox\"/>\n",
      "       <label class=\"trig -df -i-ctr -fs16\" for=\"dpdw-login\">\n",
      "        <span class=\"-fsh0 -mrs\">\n",
      "         <svg class=\"ic\" height=\"24\" viewbox=\"0 0 24 24\" width=\"24\">\n",
      "          <use xlink:href=\"https://www.jumia.com.ng/assets_he/images/i-icons.a66628fd.svg#person\">\n",
      "          </use>\n",
      "         </svg>\n",
      "        </span>\n",
      "        Account\n",
      "        <svg class=\"ic -mls -fsh0\" height=\"18\" viewbox=\"0 0 24 24\" width=\"18\">\n",
      "         <use xlink:href=\"https://www.jumia.com.ng/assets_he/images/i-icons.a66628fd.svg#arrow-down\">\n",
      "         </use>\n",
      "        </svg>\n",
      "       </label>\n",
      "       <div aria-labelledby=\"dpdw-login\" class=\"box -r\" id=\"dpdw-login-box\" role=\"menu\">\n",
      "        <div class=\"inbox\">\n",
      "         <div class=\"-pam -hr-bb\">\n",
      "          <a class=\"btn _prim -fw _md\" href=\"/customer/account/login/?return=%2Fcatalog%2Fproductratingsreviews%2Fsku%2FXI363MP3Y3LG3NAFAMZ%2F\" rel=\"nofollow\">\n",
      "           Sign In\n",
      "          </a>\n",
      "         </div>\n",
      "         <a class=\"-df -i-ctr -pas -hov-bg-gy05 -hov-m\" href=\"/customer/account/index/\" rel=\"nofollow\">\n",
      "          <svg class=\"ic -mrm -fsh0\" height=\"24\" viewbox=\"0 0 24 24\" width=\"24\">\n",
      "           <use xlink:href=\"https://www.jumia.com.ng/assets_he/images/i-icons.a66628fd.svg#person\">\n",
      "           </use>\n",
      "          </svg>\n",
      "          My Account\n",
      "         </a>\n",
      "         <a class=\"-df -i-ctr -pas -hov-bg-gy05 -hov-m\" href=\"/customer/order/index/\" rel=\"nofollow\">\n",
      "          <svg class=\"ic -mrm -fsh0\" height=\"24\" viewbox=\"0 0 24 24\" width=\"24\">\n",
      "           <use xlink:href=\"https://www.jumia.com.ng/assets_he/images/i-icons.a66628fd.svg#orders\">\n",
      "           </use>\n",
      "          </svg>\n",
      "          Orders\n",
      "         </a>\n",
      "         <a class=\"-df -i-ctr -pas -hov-bg-gy05 -hov-m\" href=\"/customer/wishlist/index/\" rel=\"nofollow\">\n",
      "          <svg class=\"ic -mrm -fsh0\" height=\"24\" viewbox=\"0 0 24 24\" width=\"24\">\n",
      "           <use xlink:href=\"https://www.jumia.com.ng/assets_he/images/i-icons.a66628fd.svg#favorite-border\">\n",
      "           </use>\n",
      "          </svg>\n",
      "          Saved Items\n",
      "         </a>\n",
      "        </div>\n",
      "       </div>\n",
      "      </div>\n",
      "      <div class=\"dpdw _pcent\">\n",
      "       <input aria-controls=\"dpdw-help-box\" aria-haspopup=\"true\" aria-label=\"Help\" class=\"tgl\" id=\"dpdw-help\" role=\"button\" type=\"checkbox\"/>\n",
      "       <label class=\"trig -df -i-ctr -fs16\" for=\"dpdw-help\">\n",
      "        <span class=\"-fsh0 -mrs\">\n",
      "         <svg class=\"ic\" height=\"24\" viewbox=\"0 0 24 24\" width=\"24\">\n",
      "          <use xlink:href=\"https://www.jumia.com.ng/assets_he/images/i-icons.a66628fd.svg#help-outline\">\n",
      "          </use>\n",
      "         </svg>\n",
      "        </span>\n",
      "        Help\n",
      "        <svg class=\"ic -mls -fsh0\" height=\"18\" viewbox=\"0 0 24 24\" width=\"18\">\n",
      "         <use xlink:href=\"https://www.jumia.com.ng/assets_he/images/i-icons.a66628fd.svg#arrow-down\">\n",
      "         </use>\n",
      "        </svg>\n",
      "       </label>\n",
      "       <div aria-labelledby=\"dpdw-help\" class=\"box -r\" id=\"dpdw-help-box\" role=\"menu\">\n",
      "        <div class=\"inbox\">\n",
      "         <a class=\"-df -i-ctr -phm -pv12 -hov-bg-gy05 -hov-m\" href=\"https://www.jumia.com.ng/contents/sp-help-center/\">\n",
      "          Help Center\n",
      "         </a>\n",
      "         <a class=\"-df -i-ctr -phm -pv12 -hov-bg-gy05 -hov-m\" href=\"https://www.jumia.com.ng/contents/sp-help-center/?page=place+an+order\">\n",
      "          Place an order\n",
      "         </a>\n",
      "         <a class=\"-df -i-ctr -phm -pv12 -hov-bg-gy05 -hov-m\" href=\"https://www.jumia.com.ng/contents/sp-help-center/?page=pay+for+your+order\">\n",
      "          Payment options\n",
      "         </a>\n",
      "         <a class=\"-df -i-ctr -phm -pv12 -hov-bg-gy05 -hov-m\" href=\"https://www.jumia.com.ng/contents/sp-help-center/?page=track+your+order\">\n",
      "          Track an order\n",
      "         </a>\n",
      "         <a class=\"-df -i-ctr -phm -pv12 -hov-bg-gy05 -hov-m\" href=\"https://www.jumia.com.ng/contents/sp-help-center/?page=cancel+an+order\">\n",
      "          Cancel an order\n",
      "         </a>\n",
      "         <a class=\"-df -i-ctr -phm -pv12 -hov-bg-gy05 -hov-m\" href=\"https://www.jumia.com.ng/contents/sp-help-center/?page=create+a+return\">\n",
      "          Returns &amp; Refunds\n",
      "         </a>\n",
      "         <div class=\"-tac -hr _hx2 -fs0 -pam\">\n",
      "          <button class=\"btn _prim _md _i -fw\" data-btn-lc=\"true\" data-eventaction=\"open\" data-eventcategory=\"LiveChat\" data-track-onclick=\"true\">\n",
      "           <svg class=\"ic\" height=\"24\" viewbox=\"0 0 24 24\" width=\"24\">\n",
      "            <use xlink:href=\"https://www.jumia.com.ng/assets_he/images/i-icons.a66628fd.svg#chat\">\n",
      "            </use>\n",
      "           </svg>\n",
      "           <span>\n",
      "            Live Chat\n",
      "           </span>\n",
      "          </button>\n",
      "         </div>\n",
      "        </div>\n",
      "       </div>\n",
      "      </div>\n",
      "      <a class=\"-df -i-ctr -gy9 -hov-or5 -phs -fs16\" href=\"/cart/\">\n",
      "       <span class=\"-mrs -fs0\" id=\"ci\">\n",
      "        <svg class=\"ic\" height=\"24\" viewbox=\"0 0 24 24\" width=\"24\">\n",
      "         <use xlink:href=\"https://www.jumia.com.ng/assets_he/images/i-icons.a66628fd.svg#shopping-cart\">\n",
      "         </use>\n",
      "        </svg>\n",
      "       </span>\n",
      "       Cart\n",
      "      </a>\n",
      "     </div>\n",
      "    </section>\n",
      "   </header>\n",
      "   <article class=\"banner _pp\" data-ppb-rev=\"v1.0\">\n",
      "    <div class=\"ctt-w\">\n",
      "     <p class=\"ctt\">\n",
      "      This website uses cookies. For further information on how we use cookies you can read our\n",
      "      <a class=\"_more -fs12\" href=\"/sp-privacy/\" rel=\"noopener\" target=\"_blank\">\n",
      "       Privacy and Cookie notice\n",
      "      </a>\n",
      "     </p>\n",
      "     <button aria-label=\"Close\" class=\"cls\">\n",
      "      <span class=\"ic-bg -bg-wt\">\n",
      "       <svg class=\"ic -maxs\" height=\"16\" viewbox=\"0 0 24 24\" width=\"16\">\n",
      "        <use xlink:href=\"https://www.jumia.com.ng/assets_he/images/i-icons.a66628fd.svg#close\">\n",
      "        </use>\n",
      "       </svg>\n",
      "      </span>\n",
      "     </button>\n",
      "    </div>\n",
      "   </article>\n",
      "   <main class=\"-pvxl\">\n",
      "    <div class=\"row\">\n",
      "     <div class=\"col16\">\n",
      "      <section class=\"card\">\n",
      "       <header class=\"-df -i-ctr -bb -pvs -phm\">\n",
      "        <a aria-label=\"product_reviews_back-cta\" class=\"-mvxs -mrm -fs0\" href=\"/xiaomi-redmi-12-6.79-4gb-ram128gb-rom-android-13-midnight-black-253237683.html\">\n",
      "         <svg class=\"ic\" height=\"24\" viewbox=\"0 0 24 24\" width=\"24\">\n",
      "          <use xlink:href=\"https://www.jumia.com.ng/assets_he/images/i-icons.a66628fd.svg#arrow-back\">\n",
      "          </use>\n",
      "         </svg>\n",
      "        </a>\n",
      "        <h1 class=\"-fs20 -m -pvxs\">\n",
      "         Verified Customer Feedback\n",
      "        </h1>\n",
      "       </header>\n",
      "       <div class=\"row -fw-nw\">\n",
      "        <div class=\"col4 -phm\">\n",
      "         <h2 class=\"-fs14 -m -upp -pvm\">\n",
      "          Verified Ratings (21)\n",
      "         </h2>\n",
      "         <div class=\"-fsh0 -bg-gy05 -df -d-co -i-ctr -rad4 -pam\">\n",
      "          <div class=\"-fs29 -yl5 -pvxs\">\n",
      "           <span class=\"-b\">\n",
      "            4.2\n",
      "           </span>\n",
      "           /5\n",
      "          </div>\n",
      "          <div class=\"stars _m -mvs\">\n",
      "           4.2 out of 5\n",
      "           <div class=\"in\" style=\"width:84%\">\n",
      "           </div>\n",
      "          </div>\n",
      "          <p class=\"-fs16 -pts\">\n",
      "           21 verified ratings\n",
      "          </p>\n",
      "         </div>\n",
      "         <ul class=\"-ptxs -mts -pbm\">\n",
      "          <li aria-hidden=\"true\" class=\"-df -i-ctr -ptxs -m\">\n",
      "           5\n",
      "           <svg class=\"ic -fsh0 -f-yl5 -mhs\" height=\"20\" viewbox=\"0 0 24 24\" width=\"20\">\n",
      "            <use xlink:href=\"https://www.jumia.com.ng/assets_he/images/i-icons.a66628fd.svg#star\">\n",
      "            </use>\n",
      "           </svg>\n",
      "           <p class=\"-gy5 -mw-34 -r\">\n",
      "            (12)\n",
      "           </p>\n",
      "           <div class=\"meter _s -mlm\" style=\"background-image:linear-gradient(to right,#f6b01e 57.14285714285714%,#ededed 57.14285714285714%);\">\n",
      "           </div>\n",
      "          </li>\n",
      "          <li aria-hidden=\"true\" class=\"-df -i-ctr -ptxs -m\">\n",
      "           4\n",
      "           <svg class=\"ic -fsh0 -f-yl5 -mhs\" height=\"20\" viewbox=\"0 0 24 24\" width=\"20\">\n",
      "            <use xlink:href=\"https://www.jumia.com.ng/assets_he/images/i-icons.a66628fd.svg#star\">\n",
      "            </use>\n",
      "           </svg>\n",
      "           <p class=\"-gy5 -mw-34 -r\">\n",
      "            (6)\n",
      "           </p>\n",
      "           <div class=\"meter _s -mlm\" style=\"background-image:linear-gradient(to right,#f6b01e 28.57142857142857%,#ededed 28.57142857142857%);\">\n",
      "           </div>\n",
      "          </li>\n",
      "          <li aria-hidden=\"true\" class=\"-df -i-ctr -ptxs -m\">\n",
      "           3\n",
      "           <svg class=\"ic -fsh0 -f-yl5 -mhs\" height=\"20\" viewbox=\"0 0 24 24\" width=\"20\">\n",
      "            <use xlink:href=\"https://www.jumia.com.ng/assets_he/images/i-icons.a66628fd.svg#star\">\n",
      "            </use>\n",
      "           </svg>\n",
      "           <p class=\"-gy5 -mw-34 -r\">\n",
      "            (0)\n",
      "           </p>\n",
      "           <div class=\"meter _s -mlm\" style=\"background-image:linear-gradient(to right,#f6b01e 0%,#ededed 0%);\">\n",
      "           </div>\n",
      "          </li>\n",
      "          <li aria-hidden=\"true\" class=\"-df -i-ctr -ptxs -m\">\n",
      "           2\n",
      "           <svg class=\"ic -fsh0 -f-yl5 -mhs\" height=\"20\" viewbox=\"0 0 24 24\" width=\"20\">\n",
      "            <use xlink:href=\"https://www.jumia.com.ng/assets_he/images/i-icons.a66628fd.svg#star\">\n",
      "            </use>\n",
      "           </svg>\n",
      "           <p class=\"-gy5 -mw-34 -r\">\n",
      "            (2)\n",
      "           </p>\n",
      "           <div class=\"meter _s -mlm\" style=\"background-image:linear-gradient(to right,#f6b01e 9.523809523809524%,#ededed 9.523809523809524%);\">\n",
      "           </div>\n",
      "          </li>\n",
      "          <li aria-hidden=\"true\" class=\"-df -i-ctr -ptxs -m\">\n",
      "           1\n",
      "           <svg class=\"ic -fsh0 -f-yl5 -mhs\" height=\"20\" viewbox=\"0 0 24 24\" width=\"20\">\n",
      "            <use xlink:href=\"https://www.jumia.com.ng/assets_he/images/i-icons.a66628fd.svg#star\">\n",
      "            </use>\n",
      "           </svg>\n",
      "           <p class=\"-gy5 -mw-34 -r\">\n",
      "            (1)\n",
      "           </p>\n",
      "           <div class=\"meter _s -mlm\" style=\"background-image:linear-gradient(to right,#f6b01e 4.761904761904762%,#ededed 4.761904761904762%);\">\n",
      "           </div>\n",
      "          </li>\n",
      "         </ul>\n",
      "        </div>\n",
      "        <div class=\"cola -phm -df -d-co\">\n",
      "         <h2 class=\"-fs14 -m -upp -ptm\">\n",
      "          Comments from Verified Purchases(6)\n",
      "         </h2>\n",
      "         <article class=\"-pvs -hr _bet\">\n",
      "          <div class=\"stars _m _al -mvs\">\n",
      "           5 out of 5\n",
      "           <div class=\"in\" style=\"width:100%\">\n",
      "           </div>\n",
      "          </div>\n",
      "          <h3 class=\"-m -fs16 -pvs\">\n",
      "           lovely\n",
      "          </h3>\n",
      "          <p class=\"-pvs\">\n",
      "           Very nice\n",
      "          </p>\n",
      "          <div class=\"-df -j-bet -i-ctr -gy5\">\n",
      "           <div class=\"-pvs\">\n",
      "            <span class=\"-prs\">\n",
      "             22-09-2023\n",
      "            </span>\n",
      "            <span>\n",
      "             by Olurin\n",
      "            </span>\n",
      "           </div>\n",
      "           <div class=\"-df -i-ctr -gn5 -fsh0\">\n",
      "            <svg class=\"ic -f-gn5\" height=\"22\" viewbox=\"0 0 24 24\" width=\"22\">\n",
      "             <use xlink:href=\"https://www.jumia.com.ng/assets_he/images/i-icons.a66628fd.svg#check-verified\">\n",
      "             </use>\n",
      "            </svg>\n",
      "            Verified Purchase\n",
      "           </div>\n",
      "          </div>\n",
      "         </article>\n",
      "         <article class=\"-pvs -hr _bet\">\n",
      "          <div class=\"stars _m _al -mvs\">\n",
      "           4 out of 5\n",
      "           <div class=\"in\" style=\"width:80%\">\n",
      "           </div>\n",
      "          </div>\n",
      "          <h3 class=\"-m -fs16 -pvs\">\n",
      "           Good device\n",
      "          </h3>\n",
      "          <p class=\"-pvs\">\n",
      "           For a budget device, does the basics pretty well.\n",
      "          </p>\n",
      "          <div class=\"-df -j-bet -i-ctr -gy5\">\n",
      "           <div class=\"-pvs\">\n",
      "            <span class=\"-prs\">\n",
      "             22-09-2023\n",
      "            </span>\n",
      "            <span>\n",
      "             by Andikan\n",
      "            </span>\n",
      "           </div>\n",
      "           <div class=\"-df -i-ctr -gn5 -fsh0\">\n",
      "            <svg class=\"ic -f-gn5\" height=\"22\" viewbox=\"0 0 24 24\" width=\"22\">\n",
      "             <use xlink:href=\"https://www.jumia.com.ng/assets_he/images/i-icons.a66628fd.svg#check-verified\">\n",
      "             </use>\n",
      "            </svg>\n",
      "            Verified Purchase\n",
      "           </div>\n",
      "          </div>\n",
      "         </article>\n",
      "         <article class=\"-pvs -hr _bet\">\n",
      "          <div class=\"stars _m _al -mvs\">\n",
      "           5 out of 5\n",
      "           <div class=\"in\" style=\"width:100%\">\n",
      "           </div>\n",
      "          </div>\n",
      "          <h3 class=\"-m -fs16 -pvs\">\n",
      "           Beast phone\n",
      "          </h3>\n",
      "          <p class=\"-pvs\">\n",
      "           The phone is very sleek and very attractive. The battery is also wonderful and it's a nice budget phone that's very pocket friendly. I'm really enjoying this product ????\n",
      "          </p>\n",
      "          <div class=\"-df -j-bet -i-ctr -gy5\">\n",
      "           <div class=\"-pvs\">\n",
      "            <span class=\"-prs\">\n",
      "             21-09-2023\n",
      "            </span>\n",
      "            <span>\n",
      "             by Ogechukwu\n",
      "            </span>\n",
      "           </div>\n",
      "           <div class=\"-df -i-ctr -gn5 -fsh0\">\n",
      "            <svg class=\"ic -f-gn5\" height=\"22\" viewbox=\"0 0 24 24\" width=\"22\">\n",
      "             <use xlink:href=\"https://www.jumia.com.ng/assets_he/images/i-icons.a66628fd.svg#check-verified\">\n",
      "             </use>\n",
      "            </svg>\n",
      "            Verified Purchase\n",
      "           </div>\n",
      "          </div>\n",
      "         </article>\n",
      "         <article class=\"-pvs -hr _bet\">\n",
      "          <div class=\"stars _m _al -mvs\">\n",
      "           4 out of 5\n",
      "           <div class=\"in\" style=\"width:80%\">\n",
      "           </div>\n",
      "          </div>\n",
      "          <h3 class=\"-m -fs16 -pvs\">\n",
      "           nice\n",
      "          </h3>\n",
      "          <p class=\"-pvs\">\n",
      "           It is perfect\n",
      "          </p>\n",
      "          <div class=\"-df -j-bet -i-ctr -gy5\">\n",
      "           <div class=\"-pvs\">\n",
      "            <span class=\"-prs\">\n",
      "             13-09-2023\n",
      "            </span>\n",
      "            <span>\n",
      "             by Olayinka\n",
      "            </span>\n",
      "           </div>\n",
      "           <div class=\"-df -i-ctr -gn5 -fsh0\">\n",
      "            <svg class=\"ic -f-gn5\" height=\"22\" viewbox=\"0 0 24 24\" width=\"22\">\n",
      "             <use xlink:href=\"https://www.jumia.com.ng/assets_he/images/i-icons.a66628fd.svg#check-verified\">\n",
      "             </use>\n",
      "            </svg>\n",
      "            Verified Purchase\n",
      "           </div>\n",
      "          </div>\n",
      "         </article>\n",
      "         <article class=\"-pvs -hr _bet\">\n",
      "          <div class=\"stars _m _al -mvs\">\n",
      "           5 out of 5\n",
      "           <div class=\"in\" style=\"width:100%\">\n",
      "           </div>\n",
      "          </div>\n",
      "          <h3 class=\"-m -fs16 -pvs\">\n",
      "           Impressive\n",
      "          </h3>\n",
      "          <p class=\"-pvs\">\n",
      "           Got it for my wife, she really loves the phone, the phone isn't bad either perfect as ordered and seen.\n",
      "          </p>\n",
      "          <div class=\"-df -j-bet -i-ctr -gy5\">\n",
      "           <div class=\"-pvs\">\n",
      "            <span class=\"-prs\">\n",
      "             24-08-2023\n",
      "            </span>\n",
      "            <span>\n",
      "             by Casper\n",
      "            </span>\n",
      "           </div>\n",
      "           <div class=\"-df -i-ctr -gn5 -fsh0\">\n",
      "            <svg class=\"ic -f-gn5\" height=\"22\" viewbox=\"0 0 24 24\" width=\"22\">\n",
      "             <use xlink:href=\"https://www.jumia.com.ng/assets_he/images/i-icons.a66628fd.svg#check-verified\">\n",
      "             </use>\n",
      "            </svg>\n",
      "            Verified Purchase\n",
      "           </div>\n",
      "          </div>\n",
      "         </article>\n",
      "         <article class=\"-pvs -hr _bet\">\n",
      "          <div class=\"stars _m _al -mvs\">\n",
      "           5 out of 5\n",
      "           <div class=\"in\" style=\"width:100%\">\n",
      "           </div>\n",
      "          </div>\n",
      "          <h3 class=\"-m -fs16 -pvs\">\n",
      "           Excellent\n",
      "          </h3>\n",
      "          <p class=\"-pvs\">\n",
      "           Perfect\n",
      "          </p>\n",
      "          <div class=\"-df -j-bet -i-ctr -gy5\">\n",
      "           <div class=\"-pvs\">\n",
      "            <span class=\"-prs\">\n",
      "             14-08-2023\n",
      "            </span>\n",
      "            <span>\n",
      "             by Aliyu\n",
      "            </span>\n",
      "           </div>\n",
      "           <div class=\"-df -i-ctr -gn5 -fsh0\">\n",
      "            <svg class=\"ic -f-gn5\" height=\"22\" viewbox=\"0 0 24 24\" width=\"22\">\n",
      "             <use xlink:href=\"https://www.jumia.com.ng/assets_he/images/i-icons.a66628fd.svg#check-verified\">\n",
      "             </use>\n",
      "            </svg>\n",
      "            Verified Purchase\n",
      "           </div>\n",
      "          </div>\n",
      "         </article>\n",
      "        </div>\n",
      "       </div>\n",
      "      </section>\n",
      "     </div>\n",
      "    </div>\n",
      "   </main>\n",
      "   <footer class=\"-pbm -fs12 -bg-gy7 -gy05\">\n",
      "    <div class=\"-bg-gy9 -mbm\">\n",
      "     <div class=\"row -ptl\">\n",
      "      <div class=\"col4\">\n",
      "       <svg class=\"ic\" height=\"32\" viewbox=\"0 0 172 30\" width=\"140\">\n",
      "        <use xlink:href=\"https://www.jumia.com.ng/assets_he/images/i-shop-jumia.9f5451c7.svg#logo-inv\">\n",
      "        </use>\n",
      "       </svg>\n",
      "      </div>\n",
      "      <div class=\"col7 -df -d-co -j-bet\">\n",
      "       <div>\n",
      "        <div class=\"f-t -pbs\">\n",
      "         New to Jumia?\n",
      "        </div>\n",
      "        Subscribe to our newsletter to get updates on our latest offers!\n",
      "       </div>\n",
      "       <form action=\"/newsletter/subscription/default/\" class=\"-pts\" id=\"nl-ft-f\" method=\"post\">\n",
      "        <div class=\"-df -i-start\">\n",
      "         <div class=\"fi-w _ic\">\n",
      "          <input aria-label=\"E-mail\" class=\"fi\" id=\"fi-nl-ft-email\" name=\"email\" placeholder=\"Enter E-mail Address\" required=\"\" type=\"email\" value=\"\"/>\n",
      "          <svg class=\"ic\" height=\"24\" viewbox=\"0 0 24 24\" width=\"24\">\n",
      "           <use xlink:href=\"https://www.jumia.com.ng/assets_he/images/i-icons.a66628fd.svg#email\">\n",
      "           </use>\n",
      "          </svg>\n",
      "         </div>\n",
      "         <div class=\"-df -pvs -plxs\">\n",
      "          <button class=\"-mhxs brd-btn _sqr -phl\" name=\"gender\" value=\"male\">\n",
      "           Male\n",
      "          </button>\n",
      "          <button class=\"-mhxs brd-btn _sqr -phl\" name=\"gender\" value=\"female\">\n",
      "           Female\n",
      "          </button>\n",
      "         </div>\n",
      "        </div>\n",
      "        <input name=\"csrfToken\" type=\"hidden\" value=\"98bfea8701933b4aa65c92076c22be9c\"/>\n",
      "       </form>\n",
      "      </div>\n",
      "      <div class=\"col4 -mla\">\n",
      "       <div class=\"-df\">\n",
      "        <svg class=\"ic -fsh0\" height=\"40\" viewbox=\"0 0 40 40\" width=\"40\">\n",
      "         <use xlink:href=\"https://www.jumia.com.ng/assets_he/images/i-shop-jumia.9f5451c7.svg#app\">\n",
      "         </use>\n",
      "        </svg>\n",
      "        <div class=\"-plm\">\n",
      "         <div class=\"f-t -pbs\">\n",
      "          DOWNLOAD JUMIA FREE APP\n",
      "         </div>\n",
      "         Get access to exclusive offers!\n",
      "        </div>\n",
      "       </div>\n",
      "       <div class=\"-df -ptm\">\n",
      "        <a class=\"brd-btn _sqr ic-link -paxs -dif -mrs\" href=\"https://itunes.apple.com/app/id925015459?mt=8\" rel=\"nofollow noopener\" target=\"_blank\" title=\"Get it on the App Store\">\n",
      "         <svg class=\"ic\" height=\"22\" viewbox=\"0 0 88 24\" width=\"88\">\n",
      "          <use xlink:href=\"https://www.jumia.com.ng/assets_he/images/i-global.04dd5bd2.svg#appstore\">\n",
      "          </use>\n",
      "         </svg>\n",
      "        </a>\n",
      "        <a class=\"brd-btn _sqr ic-link -paxs -dif\" href=\"https://play.google.com/store/apps/details?id=com.jumia.android&amp;referrer=adjust_reftag%3DcdTxOjM\" rel=\"nofollow noopener\" target=\"_blank\" title=\"Get it on Google Play\">\n",
      "         <svg class=\"ic\" height=\"22\" viewbox=\"0 0 93 23\" width=\"93\">\n",
      "          <use xlink:href=\"https://www.jumia.com.ng/assets_he/images/i-global.04dd5bd2.svg#googleplay\">\n",
      "          </use>\n",
      "         </svg>\n",
      "        </a>\n",
      "       </div>\n",
      "      </div>\n",
      "     </div>\n",
      "    </div>\n",
      "    <div class=\"row -pbl\">\n",
      "     <div class=\"col4 -df -d-co -pvs\">\n",
      "      <span class=\"f-t -pbm\">\n",
      "       Need Help?\n",
      "      </span>\n",
      "      <button class=\"-gy05 -pbxs -cp -ahf -tal\" data-btn-lc=\"true\" data-eventaction=\"open\" data-eventcategory=\"LiveChat\" data-eventlabel=\"footer\" data-track-onclick=\"true\">\n",
      "       Chat with us\n",
      "      </button>\n",
      "      <ul class=\"-lsn\">\n",
      "       <li>\n",
      "        <a class=\"_link -pbxs\" href=\"https://www.jumia.com.ng/sp-help-center/\">\n",
      "         Help Center\n",
      "        </a>\n",
      "       </li>\n",
      "       <li>\n",
      "        <a class=\"_link -pbxs\" href=\"https://www.jumia.com.ng/sp-contact/\">\n",
      "         Contact Us\n",
      "        </a>\n",
      "       </li>\n",
      "      </ul>\n",
      "      <span class=\"f-t -pvm\">\n",
      "       Useful Links\n",
      "      </span>\n",
      "      <ul class=\"-lsn\">\n",
      "       <li>\n",
      "        <a class=\"_link -pbxs\" href=\"https://www.jumia.com.ng/sp-service-centers/\">\n",
      "         Service Center\n",
      "        </a>\n",
      "       </li>\n",
      "       <li>\n",
      "        <a class=\"_link -pbxs\" href=\"https://www.jumia.com.ng/sp-help-center\">\n",
      "         How to shop on Jumia?\n",
      "        </a>\n",
      "       </li>\n",
      "       <li>\n",
      "        <a class=\"_link -pbxs\" href=\"https://www.jumia.com.ng/sp-help-center/?page=track+your+order\">\n",
      "         Delivery options and timelines\n",
      "        </a>\n",
      "       </li>\n",
      "       <li>\n",
      "        <a class=\"_link -pbxs\" href=\"https://www.jumia.com.ng/sp-help-center/?page=create+a+return\">\n",
      "         How to return a product on Jumia?\n",
      "        </a>\n",
      "       </li>\n",
      "       <li>\n",
      "        <a class=\"_link -pbxs\" href=\"https://www.jumia.com.ng/jumia-corporate/\">\n",
      "         Corporate and bulk purchases\n",
      "        </a>\n",
      "       </li>\n",
      "       <li>\n",
      "        <a class=\"_link -pbxs\" href=\"https://jumia.secure.force.com/CounterfeitCaseForm/\">\n",
      "         Report a Product\n",
      "        </a>\n",
      "       </li>\n",
      "       <li>\n",
      "        <a class=\"_link -pbxs\" href=\"https://www.jumia.com.ng/sp-jumia-logistics-services/\">\n",
      "         Ship your package anywhere in Nigeria\n",
      "        </a>\n",
      "       </li>\n",
      "       <li>\n",
      "        <a class=\"_link -pbxs\" href=\"https://www.jumia.com.ng/sp-dispute-resolution/\">\n",
      "         Dispute Resolution Policy\n",
      "        </a>\n",
      "       </li>\n",
      "       <li>\n",
      "        <a class=\"_link -pbxs\" href=\"https://www.jumia.com.ng/sp-help-center/?page=create+a+return\">\n",
      "         Returns &amp; Refund Timeline\n",
      "        </a>\n",
      "       </li>\n",
      "       <li>\n",
      "        <a class=\"_link -pbxs\" href=\"https://www.jumia.com.ng/sp-returns-refunds-policy/\">\n",
      "         Return Policy\n",
      "        </a>\n",
      "       </li>\n",
      "      </ul>\n",
      "     </div>\n",
      "     <div class=\"col4 -df -d-co -pvs\">\n",
      "      <span class=\"f-t -pbm\">\n",
      "       ABOUT JUMIA\n",
      "      </span>\n",
      "      <ul class=\"-lsn\">\n",
      "       <li>\n",
      "        <a class=\"_link -pbxs\" href=\"https://www.jumia.com.ng/about_us/\">\n",
      "         About us\n",
      "        </a>\n",
      "       </li>\n",
      "       <li>\n",
      "        <a class=\"_link -pbxs\" href=\"https://www.jumia.com.ng/careers/\">\n",
      "         Jumia careers\n",
      "        </a>\n",
      "       </li>\n",
      "       <li>\n",
      "        <a class=\"_link -pbxs\" href=\"https://www.jumia.com.ng/mlp-jumia-express/\">\n",
      "         Jumia Express\n",
      "        </a>\n",
      "       </li>\n",
      "       <li>\n",
      "        <a class=\"_link -pbxs\" href=\"https://www.jumia.com.ng/terms-of-use/\">\n",
      "         Terms and Conditions\n",
      "        </a>\n",
      "       </li>\n",
      "       <li>\n",
      "        <a class=\"_link -pbxs\" href=\"https://www.jumia.com.ng/privacy/\">\n",
      "         Privacy Notice\n",
      "        </a>\n",
      "       </li>\n",
      "       <li>\n",
      "        <a class=\"_link -pbxs\" href=\"https://www.jumia.com.ng/sp-jumia-store-credit-terms/\">\n",
      "         Jumia Store Credit Terms &amp; Conditions\n",
      "        </a>\n",
      "       </li>\n",
      "       <li>\n",
      "        <a class=\"_link -pbxs\" href=\"/sp-payment-information-guidelines/\">\n",
      "         Jumia Payment Information Guidelines\n",
      "        </a>\n",
      "       </li>\n",
      "       <li>\n",
      "        <a class=\"_link -pbxs\" href=\"https://www.jumia.com.ng/sp-cookie-notice/\">\n",
      "         Cookie Notice\n",
      "        </a>\n",
      "       </li>\n",
      "       <li>\n",
      "        <a class=\"_link -pbxs\" href=\"https://www.jumia.com.ng/mlp-jumia-global/\">\n",
      "         Jumia Global\n",
      "        </a>\n",
      "       </li>\n",
      "       <li>\n",
      "        <a class=\"_link -pbxs\" href=\"https://www.jumia.com.ng/mlp-official-stores/\">\n",
      "         Official Stores\n",
      "        </a>\n",
      "       </li>\n",
      "       <li>\n",
      "        <a class=\"_link -pbxs\" href=\"https://www.jumia.com.ng/flash-sales/\">\n",
      "         Flash Sales\n",
      "        </a>\n",
      "       </li>\n",
      "       <li>\n",
      "        <a class=\"_link -pbxs\" href=\"https://www.jumia.com.ng/mlp-black-friday/\">\n",
      "         Black Friday 2023\n",
      "        </a>\n",
      "       </li>\n",
      "      </ul>\n",
      "     </div>\n",
      "     <div class=\"col4 -df -d-co -pvs\">\n",
      "      <span class=\"f-t -pbm\">\n",
      "       MAKE MONEY WITH JUMIA\n",
      "      </span>\n",
      "      <ul class=\"-lsn\">\n",
      "       <li>\n",
      "        <a class=\"_link -pbxs\" href=\"https://www.jumia.com.ng/marketplace-vendor/\">\n",
      "         Sell on Jumia\n",
      "        </a>\n",
      "       </li>\n",
      "       <li>\n",
      "        <a class=\"_link -pbxs\" href=\"https://vendorhub.jumia.com.ng/\">\n",
      "         Vendor hub\n",
      "        </a>\n",
      "       </li>\n",
      "       <li>\n",
      "        <a class=\"_link -pbxs\" href=\"https://www.jumia.com.ng/mlp-jforce-sale/\">\n",
      "         Become a Sales Consultant\n",
      "        </a>\n",
      "       </li>\n",
      "       <li>\n",
      "        <a class=\"_link -pbxs\" href=\"https://jumia_form.formstack.com/forms/3pl_interest_registration_en\">\n",
      "         Become a Logistics Service Partner\n",
      "        </a>\n",
      "       </li>\n",
      "       <li>\n",
      "        <a class=\"_link -pbxs\" href=\"https://s.alchemer.com/s3/de5375b6d0c9?county=Nigeria&amp;Channel=WebPG\">\n",
      "         Join the Jumia DA Academy\n",
      "        </a>\n",
      "       </li>\n",
      "       <li>\n",
      "        <a class=\"_link -pbxs\" href=\"https://kol.jumia.com/login\">\n",
      "         Join the Jumia KOL Program\n",
      "        </a>\n",
      "       </li>\n",
      "      </ul>\n",
      "     </div>\n",
      "     <div class=\"col4 row -c-start -pvs\">\n",
      "      <span class=\"f-t col16 -pbm\">\n",
      "       JUMIA INTERNATIONAL\n",
      "      </span>\n",
      "      <ul class=\"col5 -df -d-co -lsn\">\n",
      "       <li>\n",
      "        <a class=\"_link -pbxs\" href=\"https://www.jumia.dz/\">\n",
      "         Algeria\n",
      "        </a>\n",
      "       </li>\n",
      "       <li>\n",
      "        <a class=\"_link -pbxs\" href=\"https://www.jumia.com.eg/\">\n",
      "         Egypt\n",
      "        </a>\n",
      "       </li>\n",
      "       <li>\n",
      "        <a class=\"_link -pbxs\" href=\"https://www.jumia.com.gh/\">\n",
      "         Ghana\n",
      "        </a>\n",
      "       </li>\n",
      "       <li>\n",
      "        <a class=\"_link -pbxs\" href=\"https://www.jumia.ci/\">\n",
      "         Ivory Coast\n",
      "        </a>\n",
      "       </li>\n",
      "       <li>\n",
      "        <a class=\"_link -pbxs\" href=\"https://www.jumia.co.ke/\">\n",
      "         Kenya\n",
      "        </a>\n",
      "       </li>\n",
      "      </ul>\n",
      "      <ul class=\"col5 -df -d-co -lsn\">\n",
      "       <li>\n",
      "        <a class=\"_link -pbxs\" href=\"https://www.jumia.ma/\">\n",
      "         Morocco\n",
      "        </a>\n",
      "       </li>\n",
      "       <li>\n",
      "        <a class=\"_link -pbxs\" href=\"https://www.jumia.sn/\">\n",
      "         Senegal\n",
      "        </a>\n",
      "       </li>\n",
      "       <li>\n",
      "        <a class=\"_link -pbxs\" href=\"https://www.jumia.com.tn/\">\n",
      "         Tunisia\n",
      "        </a>\n",
      "       </li>\n",
      "       <li>\n",
      "        <a class=\"_link -pbxs\" href=\"https://www.jumia.ug/\">\n",
      "         Uganda\n",
      "        </a>\n",
      "       </li>\n",
      "       <li>\n",
      "        <a class=\"_link -pbxs\" href=\"https://www.zando.co.za/\">\n",
      "         Zando\n",
      "        </a>\n",
      "       </li>\n",
      "      </ul>\n",
      "     </div>\n",
      "    </div>\n",
      "    <div class=\"row -pbl\">\n",
      "     <div class=\"col4 row\">\n",
      "      <div class=\"f-t col16 -pbm\">\n",
      "       JOIN US ON\n",
      "      </div>\n",
      "      <div class=\"col16 -phn -fs0\">\n",
      "       <a class=\"ic-link -pas\" href=\"https://www.facebook.com/jumia.com.ng/\" rel=\"noopener\" target=\"_blank\" title=\"Facebook Jumia Nigeria\">\n",
      "        <svg class=\"ic\" height=\"26\" viewbox=\"0 0 24 24\" width=\"26\">\n",
      "         <use xlink:href=\"https://www.jumia.com.ng/assets_he/images/i-icons.a66628fd.svg#soc-facebook\">\n",
      "         </use>\n",
      "        </svg>\n",
      "       </a>\n",
      "       <a class=\"ic-link -pas\" href=\"https://www.youtube.com/c/JumiaNigeriaNG\" rel=\"noopener\" target=\"_blank\" title=\"YouTube Jumia Nigeria\">\n",
      "        <svg class=\"ic\" height=\"26\" viewbox=\"0 0 24 24\" width=\"26\">\n",
      "         <use xlink:href=\"https://www.jumia.com.ng/assets_he/images/i-icons.a66628fd.svg#soc-youtube\">\n",
      "         </use>\n",
      "        </svg>\n",
      "       </a>\n",
      "       <a class=\"ic-link -pas\" href=\"https://www.instagram.com/jumianigeria/\" rel=\"noopener\" target=\"_blank\" title=\"Instagram Jumia Nigeria\">\n",
      "        <svg class=\"ic\" height=\"26\" viewbox=\"0 0 24 24\" width=\"26\">\n",
      "         <use xlink:href=\"https://www.jumia.com.ng/assets_he/images/i-icons.a66628fd.svg#soc-instagram\">\n",
      "         </use>\n",
      "        </svg>\n",
      "       </a>\n",
      "       <a class=\"ic-link -pas\" href=\"https://twitter.com/JumiaNGHelp\" rel=\"noopener\" target=\"_blank\" title=\"Live Help on Twitter Jumia Nigeria\">\n",
      "        <svg class=\"ic\" height=\"26\" viewbox=\"0 0 24 24\" width=\"26\">\n",
      "         <use xlink:href=\"https://www.jumia.com.ng/assets_he/images/i-icons.a66628fd.svg#soc-twitter\">\n",
      "         </use>\n",
      "        </svg>\n",
      "       </a>\n",
      "      </div>\n",
      "     </div>\n",
      "     <div class=\"col12 row\">\n",
      "      <div class=\"f-t col16 -pbm\">\n",
      "       PAYMENT METHODS &amp; DELIVERY PARTNERS\n",
      "      </div>\n",
      "      <div class=\"col16 -phn -df -fw-w -fs0\">\n",
      "       <a class=\"ic-link -pas\" href=\"https://www.jumia.com.ng/cash-on-delivery/\" title=\"Payment on delivery\">\n",
      "        <svg class=\"ic\" height=\"24\" viewbox=\"0 0 24 24\" width=\"24\">\n",
      "         <use xlink:href=\"https://www.jumia.com.ng/assets_he/images/i-global.04dd5bd2.svg#pay-cashondelivery\">\n",
      "         </use>\n",
      "        </svg>\n",
      "       </a>\n",
      "       <a class=\"ic-link -pas\" href=\"https://www.jumia.com.ng/credit-cards/\" title=\"Mastercard\">\n",
      "        <svg class=\"ic\" height=\"24\" viewbox=\"0 0 36 24\" width=\"36\">\n",
      "         <use xlink:href=\"https://www.jumia.com.ng/assets_he/images/i-global.04dd5bd2.svg#pay-mastercard\">\n",
      "         </use>\n",
      "        </svg>\n",
      "       </a>\n",
      "       <a class=\"ic-link -pas\" href=\"https://www.jumia.com.ng/credit-cards/\" title=\"Visa\">\n",
      "        <svg class=\"ic\" height=\"24\" viewbox=\"0 0 31 24\" width=\"31\">\n",
      "         <use xlink:href=\"https://www.jumia.com.ng/assets_he/images/i-global.04dd5bd2.svg#pay-visa\">\n",
      "         </use>\n",
      "        </svg>\n",
      "       </a>\n",
      "       <a class=\"ic-link -pas\" href=\"https://www.jumia.com.ng/credit-cards/\" title=\"Verve\">\n",
      "        <svg class=\"ic\" height=\"24\" viewbox=\"0 0 42 24\" width=\"42\">\n",
      "         <use xlink:href=\"https://www.jumia.com.ng/assets_he/images/i-global.04dd5bd2.svg#pay-verve\">\n",
      "         </use>\n",
      "        </svg>\n",
      "       </a>\n",
      "       <a class=\"ic-link -pas\" href=\"https://www.jumia.com.ng/credit-cards/\" title=\"Interswitch\">\n",
      "        <svg class=\"ic\" height=\"24\" viewbox=\"0 0 86 24\" width=\"86\">\n",
      "         <use xlink:href=\"https://www.jumia.com.ng/assets_he/images/i-global.04dd5bd2.svg#pay-interswitch\">\n",
      "         </use>\n",
      "        </svg>\n",
      "       </a>\n",
      "       <a class=\"ic-link -pas\" title=\"DHL\">\n",
      "        <svg class=\"ic\" height=\"24\" viewbox=\"0 0 63 24\" width=\"63\">\n",
      "         <use xlink:href=\"https://www.jumia.com.ng/assets_he/images/i-global.04dd5bd2.svg#pay-dhl\">\n",
      "         </use>\n",
      "        </svg>\n",
      "       </a>\n",
      "       <a class=\"ic-link -pas\" title=\"MAX\">\n",
      "        <svg class=\"ic\" height=\"24\" viewbox=\"0 0 50 24\" width=\"50\">\n",
      "         <use xlink:href=\"https://www.jumia.com.ng/assets_he/images/i-global.04dd5bd2.svg#pay-max\">\n",
      "         </use>\n",
      "        </svg>\n",
      "       </a>\n",
      "      </div>\n",
      "     </div>\n",
      "    </div>\n",
      "    <div class=\"vb row -i-ctr -j-ctr _foot _gy5 -hr -mtl\">\n",
      "     <div class=\"col3 -df -j-start\">\n",
      "     </div>\n",
      "     <div class=\"col10 -df -j-ctr -fs0\">\n",
      "      <a class=\"vent-link\" href=\"https://pay.jumia.com.ng/?utm_source=jumia&amp;utm_medium=mall&amp;utm_campaign=venturebar\" rel=\"nofollow noopener\" target=\"_blank\" title=\"JumiaPay\">\n",
      "       <svg class=\"ic\" height=\"24\" viewbox=\"0 0 60 24\" width=\"60\">\n",
      "        <use xlink:href=\"https://www.jumia.com.ng/assets_he/images/i-global.04dd5bd2.svg#venture-pay\">\n",
      "        </use>\n",
      "       </svg>\n",
      "      </a>\n",
      "      <a class=\"vent-link\" href=\"https://food.jumia.com.ng/?utm_source=jumia&amp;utm_medium=mall&amp;utm_campaign=venturebar\" rel=\"nofollow noopener\" target=\"_blank\" title=\"Jumia Food\">\n",
      "       <svg class=\"ic\" height=\"24\" viewbox=\"0 0 66 24\" width=\"66\">\n",
      "        <use xlink:href=\"https://www.jumia.com.ng/assets_he/images/i-global.04dd5bd2.svg#venture-food\">\n",
      "        </use>\n",
      "       </svg>\n",
      "      </a>\n",
      "      <a class=\"vent-link\" href=\"https://www.jumia.com.ng/sp-jumia-logistics-services/?utm_source=jumia&amp;utm_medium=mall&amp;utm_campaign=venturebar\" rel=\"nofollow noopener\" target=\"_blank\" title=\"Jumia Logistic Services\">\n",
      "       <svg class=\"ic\" height=\"24\" viewbox=\"0 0 108 24\" width=\"108\">\n",
      "        <use xlink:href=\"https://www.jumia.com.ng/assets_he/images/i-global.04dd5bd2.svg#venture-logistics\">\n",
      "        </use>\n",
      "       </svg>\n",
      "      </a>\n",
      "     </div>\n",
      "     <div class=\"col3 -df -j-end -wt -mla\">\n",
      "     </div>\n",
      "    </div>\n",
      "   </footer>\n",
      "   <div id=\"pop\">\n",
      "   </div>\n",
      "  </div>\n",
      "  <script>\n",
      "   var dataLayer=[{\"countryCode\":\"NG\",\"language\":\"en\",\"platform\":\"desktop\",\"url\":\"/catalog/productratingsreviews/sku/XI363MP3Y3LG3NAFAMZ/\",\"pageType\":\"product\",\"pageSubtype\":\"productRatings\",\"pageKey\":\"product_productRatings\",\"pageTitle\":\"Reviews of Redmi 12 6.79\\\" 4GB RAM/128GB ROM Android 13 - Midnight Black\",\"abTests\":\"Home:B#MLP:A#CLP:B#Cart:E#SponProdCat:B#SponProdPdp:A\",\"joinedPageType\":\"product_productRatings\"}];(function(w,d,s,l,i,f){function go(){w[l]=w[l]||[];w[l].push({\"gtm.start\":new Date().getTime(),event:\"gtm.js\"});f=d.getElementsByTagName(s)[0],j=d.createElement(s),dl=l!=\"dataLayer\"?\"&l=\"+l:\"\";j.async=true;j.src=\"//www.googletagmanager.com/gtm.js?id=\"+i+dl;j.addEventListener('load',function(){dataLayer.push({event:'pageView'});(function(){setTimeout((function(){window.dataLayer.push({event:\"pageViewLvl2\"}),setTimeout((function(){window.dataLayer.push({event:\"pageViewLvl3\"})}),500)}),500)})()});f.parentNode.insertBefore(j,f);}w.addEventListener(\"load\",go,false);})(window,document,'script','dataLayer','GTM-KS6DC65');\n",
      "  </script>\n",
      "  <script>\n",
      "   window.__STORE__={\"view\":\"Product/Reviews\",\"activeLanguage\":\"en\",\"countryCode\":\"NG\",\"languages\":{\"en\":{\"text\":\"English\",\"default\":true}},\"svgFallback\":false,\"tracking\":{\"gtm\":{\"key\":\"GTM-KS6DC65\",\"url\":\"/catalog/productratingsreviews/sku/XI363MP3Y3LG3NAFAMZ/\",\"pageType\":\"product\",\"pageSubtype\":\"productRatings\",\"pageKey\":\"product_productRatings\"}},\"csrfToken\":\"98bfea8701933b4aa65c92076c22be9c\",\"user\":{\"id\":\"\"},\"sprites\":{\"icons\":\"https://www.jumia.com.ng/assets_he/images/i-icons.a66628fd.svg\",\"global\":\"https://www.jumia.com.ng/assets_he/images/i-global.04dd5bd2.svg\",\"shop\":\"https://www.jumia.com.ng/assets_he/images/i-jumia.svg\"},\"liveChat\":{\"loadingText\":\"Live Chat is loading...\",\"botImg\":\"https://www.jumia.com.ng/assets_he/images/bot.5beef7d8.svg\"},\"htmlErrors\":{\"valueMissing\":\"Required field\",\"typeMismatch\":\"Invalid Information\",\"patternMismatch\":\"Invalid Information\"}};\n",
      "  </script>\n",
      "  <script crossorigin=\"\" src=\"https://www.jumia.com.ng/assets_he/js/common.889e2d8e.js\" type=\"module\">\n",
      "  </script>\n",
      "  <script crossorigin=\"\" src=\"https://www.jumia.com.ng/assets_he/js/pages/default.8cc9c53d.js\" type=\"module\">\n",
      "  </script>\n",
      "  <script nomodule=\"\" src=\"https://www.jumia.com.ng/assets_he/js/common.es5.49c27597.js\">\n",
      "  </script>\n",
      "  <script nomodule=\"\" src=\"https://www.jumia.com.ng/assets_he/js/pages/default.es5.f0a462e3.js\">\n",
      "  </script>\n",
      " </body>\n",
      "</html>\n",
      "\n"
     ]
    }
   ],
   "source": [
    "print(soup.prettify())"
   ]
  },
  {
   "cell_type": "code",
   "execution_count": 22,
   "id": "565834b3-a365-4f73-8cdb-5aaf23c04300",
   "metadata": {},
   "outputs": [],
   "source": [
    "date_name = soup.find_all('div', class_='-pvs')"
   ]
  },
  {
   "cell_type": "code",
   "execution_count": 23,
   "id": "4be2e0d2-3406-4a16-979a-b1acd6365199",
   "metadata": {
    "collapsed": true,
    "jupyter": {
     "outputs_hidden": true
    },
    "tags": []
   },
   "outputs": [
    {
     "data": {
      "text/plain": [
       "[<div class=\"-pvs\"><span class=\"-prs\">22-09-2023</span><span>by Olurin</span></div>,\n",
       " <div class=\"-pvs\"><span class=\"-prs\">22-09-2023</span><span>by Andikan</span></div>,\n",
       " <div class=\"-pvs\"><span class=\"-prs\">21-09-2023</span><span>by Ogechukwu</span></div>,\n",
       " <div class=\"-pvs\"><span class=\"-prs\">13-09-2023</span><span>by Olayinka</span></div>,\n",
       " <div class=\"-pvs\"><span class=\"-prs\">24-08-2023</span><span>by Casper</span></div>,\n",
       " <div class=\"-pvs\"><span class=\"-prs\">14-08-2023</span><span>by Aliyu</span></div>,\n",
       " <div class=\"-df -pvs -plxs\"><button class=\"-mhxs brd-btn _sqr -phl\" name=\"gender\" value=\"male\">Male</button><button class=\"-mhxs brd-btn _sqr -phl\" name=\"gender\" value=\"female\">Female</button></div>,\n",
       " <div class=\"col4 -df -d-co -pvs\"><span class=\"f-t -pbm\">Need Help?</span><button class=\"-gy05 -pbxs -cp -ahf -tal\" data-btn-lc=\"true\" data-eventaction=\"open\" data-eventcategory=\"LiveChat\" data-eventlabel=\"footer\" data-track-onclick=\"true\">Chat with us</button><ul class=\"-lsn\"><li><a class=\"_link -pbxs\" href=\"https://www.jumia.com.ng/sp-help-center/\">Help Center</a></li><li><a class=\"_link -pbxs\" href=\"https://www.jumia.com.ng/sp-contact/\">Contact Us</a></li></ul><span class=\"f-t -pvm\">Useful Links</span><ul class=\"-lsn\"><li><a class=\"_link -pbxs\" href=\"https://www.jumia.com.ng/sp-service-centers/\">Service Center</a></li><li><a class=\"_link -pbxs\" href=\"https://www.jumia.com.ng/sp-help-center\">How to shop on Jumia?</a></li><li><a class=\"_link -pbxs\" href=\"https://www.jumia.com.ng/sp-help-center/?page=track+your+order\">Delivery options and timelines</a></li><li><a class=\"_link -pbxs\" href=\"https://www.jumia.com.ng/sp-help-center/?page=create+a+return\">How to return a product on Jumia?</a></li><li><a class=\"_link -pbxs\" href=\"https://www.jumia.com.ng/jumia-corporate/\">Corporate and bulk purchases</a></li><li><a class=\"_link -pbxs\" href=\"https://jumia.secure.force.com/CounterfeitCaseForm/\">Report a Product</a></li><li><a class=\"_link -pbxs\" href=\"https://www.jumia.com.ng/sp-jumia-logistics-services/\">Ship your package anywhere in Nigeria</a></li><li><a class=\"_link -pbxs\" href=\"https://www.jumia.com.ng/sp-dispute-resolution/\">Dispute Resolution Policy</a></li><li><a class=\"_link -pbxs\" href=\"https://www.jumia.com.ng/sp-help-center/?page=create+a+return\">Returns &amp; Refund Timeline</a></li><li><a class=\"_link -pbxs\" href=\"https://www.jumia.com.ng/sp-returns-refunds-policy/\">Return Policy</a></li></ul></div>,\n",
       " <div class=\"col4 -df -d-co -pvs\"><span class=\"f-t -pbm\">ABOUT JUMIA</span><ul class=\"-lsn\"><li><a class=\"_link -pbxs\" href=\"https://www.jumia.com.ng/about_us/\">About us</a></li><li><a class=\"_link -pbxs\" href=\"https://www.jumia.com.ng/careers/\">Jumia careers</a></li><li><a class=\"_link -pbxs\" href=\"https://www.jumia.com.ng/mlp-jumia-express/\">Jumia Express</a></li><li><a class=\"_link -pbxs\" href=\"https://www.jumia.com.ng/terms-of-use/\">Terms and Conditions</a></li><li><a class=\"_link -pbxs\" href=\"https://www.jumia.com.ng/privacy/\">Privacy Notice</a></li><li><a class=\"_link -pbxs\" href=\"https://www.jumia.com.ng/sp-jumia-store-credit-terms/\">Jumia Store Credit Terms &amp; Conditions</a></li><li><a class=\"_link -pbxs\" href=\"/sp-payment-information-guidelines/\">Jumia Payment Information Guidelines</a></li><li><a class=\"_link -pbxs\" href=\"https://www.jumia.com.ng/sp-cookie-notice/\">Cookie Notice</a></li><li><a class=\"_link -pbxs\" href=\"https://www.jumia.com.ng/mlp-jumia-global/\">Jumia Global</a></li><li><a class=\"_link -pbxs\" href=\"https://www.jumia.com.ng/mlp-official-stores/\">Official Stores</a></li><li><a class=\"_link -pbxs\" href=\"https://www.jumia.com.ng/flash-sales/\">Flash Sales</a></li><li><a class=\"_link -pbxs\" href=\"https://www.jumia.com.ng/mlp-black-friday/\">Black Friday 2023</a></li></ul></div>,\n",
       " <div class=\"col4 -df -d-co -pvs\"><span class=\"f-t -pbm\">MAKE MONEY WITH JUMIA</span><ul class=\"-lsn\"><li><a class=\"_link -pbxs\" href=\"https://www.jumia.com.ng/marketplace-vendor/\">Sell on Jumia</a></li><li><a class=\"_link -pbxs\" href=\"https://vendorhub.jumia.com.ng/\">Vendor hub</a></li><li><a class=\"_link -pbxs\" href=\"https://www.jumia.com.ng/mlp-jforce-sale/\">Become a Sales Consultant</a></li><li><a class=\"_link -pbxs\" href=\"https://jumia_form.formstack.com/forms/3pl_interest_registration_en\">Become a Logistics Service Partner</a></li><li><a class=\"_link -pbxs\" href=\"https://s.alchemer.com/s3/de5375b6d0c9?county=Nigeria&amp;Channel=WebPG\">Join the Jumia DA Academy</a></li><li><a class=\"_link -pbxs\" href=\"https://kol.jumia.com/login\">Join the Jumia KOL Program</a></li></ul></div>,\n",
       " <div class=\"col4 row -c-start -pvs\"><span class=\"f-t col16 -pbm\">JUMIA INTERNATIONAL</span><ul class=\"col5 -df -d-co -lsn\"><li><a class=\"_link -pbxs\" href=\"https://www.jumia.dz/\">Algeria</a></li><li><a class=\"_link -pbxs\" href=\"https://www.jumia.com.eg/\">Egypt</a></li><li><a class=\"_link -pbxs\" href=\"https://www.jumia.com.gh/\">Ghana</a></li><li><a class=\"_link -pbxs\" href=\"https://www.jumia.ci/\">Ivory Coast</a></li><li><a class=\"_link -pbxs\" href=\"https://www.jumia.co.ke/\">Kenya</a></li></ul><ul class=\"col5 -df -d-co -lsn\"><li><a class=\"_link -pbxs\" href=\"https://www.jumia.ma/\">Morocco</a></li><li><a class=\"_link -pbxs\" href=\"https://www.jumia.sn/\">Senegal</a></li><li><a class=\"_link -pbxs\" href=\"https://www.jumia.com.tn/\">Tunisia</a></li><li><a class=\"_link -pbxs\" href=\"https://www.jumia.ug/\">Uganda</a></li><li><a class=\"_link -pbxs\" href=\"https://www.zando.co.za/\">Zando</a></li></ul></div>]"
      ]
     },
     "execution_count": 23,
     "metadata": {},
     "output_type": "execute_result"
    }
   ],
   "source": [
    "date_name"
   ]
  },
  {
   "cell_type": "code",
   "execution_count": 32,
   "id": "7a8e2854-a30e-4d16-8ed7-f15a73b35b3e",
   "metadata": {
    "tags": []
   },
   "outputs": [],
   "source": [
    "cust_data = []\n",
    "for i in range(0, 6):\n",
    "    cust_data.append(date_name[i].get_text())"
   ]
  },
  {
   "cell_type": "code",
   "execution_count": 33,
   "id": "f9646e4e-ecbe-43e7-be3a-09567a1ab5d5",
   "metadata": {
    "tags": []
   },
   "outputs": [
    {
     "data": {
      "text/plain": [
       "['22-09-2023by Olurin',\n",
       " '22-09-2023by Andikan',\n",
       " '21-09-2023by Ogechukwu',\n",
       " '13-09-2023by Olayinka',\n",
       " '24-08-2023by Casper',\n",
       " '14-08-2023by Aliyu']"
      ]
     },
     "execution_count": 33,
     "metadata": {},
     "output_type": "execute_result"
    }
   ],
   "source": [
    "cust_data"
   ]
  },
  {
   "cell_type": "code",
   "execution_count": 65,
   "id": "3af8afde-6520-45f3-9b1a-aa01393167ed",
   "metadata": {
    "tags": []
   },
   "outputs": [],
   "source": [
    "cust_name = []\n",
    "review_date = []\n",
    "for i in cust_data:\n",
    "    split_data = i.split('by')\n",
    "    cust_name.append(split_data[1])\n",
    "    review_date.append(split_data[0])"
   ]
  },
  {
   "cell_type": "code",
   "execution_count": 66,
   "id": "08aed0d7-70e7-4109-a41a-49f238249ae4",
   "metadata": {
    "tags": []
   },
   "outputs": [
    {
     "data": {
      "text/plain": [
       "[' Olurin', ' Andikan', ' Ogechukwu', ' Olayinka', ' Casper', ' Aliyu']"
      ]
     },
     "execution_count": 66,
     "metadata": {},
     "output_type": "execute_result"
    }
   ],
   "source": [
    "cust_name"
   ]
  },
  {
   "cell_type": "code",
   "execution_count": 67,
   "id": "5db1714b-399f-46f6-924b-898b008ae364",
   "metadata": {
    "tags": []
   },
   "outputs": [
    {
     "data": {
      "text/plain": [
       "['22-09-2023',\n",
       " '22-09-2023',\n",
       " '21-09-2023',\n",
       " '13-09-2023',\n",
       " '24-08-2023',\n",
       " '14-08-2023']"
      ]
     },
     "execution_count": 67,
     "metadata": {},
     "output_type": "execute_result"
    }
   ],
   "source": [
    "review_date"
   ]
  },
  {
   "cell_type": "code",
   "execution_count": 41,
   "id": "22a61bb7-1fd4-4c48-aa53-e9237367e1b6",
   "metadata": {
    "tags": []
   },
   "outputs": [],
   "source": [
    "title = soup.find_all('h3', class_='-fs16')"
   ]
  },
  {
   "cell_type": "code",
   "execution_count": 42,
   "id": "de865c41-a35c-477d-9dd3-89f566790a86",
   "metadata": {
    "tags": []
   },
   "outputs": [
    {
     "data": {
      "text/plain": [
       "[<h3 class=\"-m -fs16 -pvs\">lovely </h3>,\n",
       " <h3 class=\"-m -fs16 -pvs\">Good device</h3>,\n",
       " <h3 class=\"-m -fs16 -pvs\">Beast phone </h3>,\n",
       " <h3 class=\"-m -fs16 -pvs\">nice</h3>,\n",
       " <h3 class=\"-m -fs16 -pvs\">Impressive</h3>,\n",
       " <h3 class=\"-m -fs16 -pvs\">Excellent</h3>]"
      ]
     },
     "execution_count": 42,
     "metadata": {},
     "output_type": "execute_result"
    }
   ],
   "source": [
    "title"
   ]
  },
  {
   "cell_type": "code",
   "execution_count": 43,
   "id": "c923801f-bf36-47ab-8b66-9c95af76b4cb",
   "metadata": {
    "tags": []
   },
   "outputs": [],
   "source": [
    "review_title = []\n",
    "for i in range(0, len(title)):\n",
    "    review_title.append(title[i].get_text())"
   ]
  },
  {
   "cell_type": "code",
   "execution_count": 44,
   "id": "33cde09b-d465-4106-bba9-90c0e65e86c7",
   "metadata": {
    "tags": []
   },
   "outputs": [
    {
     "data": {
      "text/plain": [
       "['lovely ', 'Good device', 'Beast phone ', 'nice', 'Impressive', 'Excellent']"
      ]
     },
     "execution_count": 44,
     "metadata": {},
     "output_type": "execute_result"
    }
   ],
   "source": [
    "review_title"
   ]
  },
  {
   "cell_type": "code",
   "execution_count": 55,
   "id": "ae15982f-d2f6-4840-b394-639cd9bdeaee",
   "metadata": {
    "tags": []
   },
   "outputs": [],
   "source": [
    "review = soup.find_all('p', class_='-pvs')"
   ]
  },
  {
   "cell_type": "code",
   "execution_count": 56,
   "id": "9a9646db-8ee8-4b9d-be5b-ee0a16397a91",
   "metadata": {
    "tags": []
   },
   "outputs": [
    {
     "data": {
      "text/plain": [
       "[<p class=\"-pvs\">Very nice </p>,\n",
       " <p class=\"-pvs\">For a budget device, does the basics pretty well.</p>,\n",
       " <p class=\"-pvs\">The phone is very sleek and very attractive. The battery is also wonderful and it's a nice budget phone that's very pocket friendly. I'm really enjoying this product ????</p>,\n",
       " <p class=\"-pvs\">It is perfect \n",
       " </p>,\n",
       " <p class=\"-pvs\">Got it for my wife, she really loves the phone, the phone isn't bad either perfect as ordered and seen. </p>,\n",
       " <p class=\"-pvs\">Perfect </p>]"
      ]
     },
     "execution_count": 56,
     "metadata": {},
     "output_type": "execute_result"
    }
   ],
   "source": [
    "review"
   ]
  },
  {
   "cell_type": "code",
   "execution_count": 57,
   "id": "3ee59399-6d9c-444f-aaa5-60f6c0070272",
   "metadata": {
    "tags": []
   },
   "outputs": [],
   "source": [
    "review_msg = []\n",
    "for i in range(0, len(review)):\n",
    "    review_msg.append(review[i].get_text())"
   ]
  },
  {
   "cell_type": "code",
   "execution_count": 58,
   "id": "99399bdf-0572-4517-b9b3-92b3d97c2717",
   "metadata": {
    "tags": []
   },
   "outputs": [
    {
     "data": {
      "text/plain": [
       "['Very nice ',\n",
       " 'For a budget device, does the basics pretty well.',\n",
       " \"The phone is very sleek and very attractive. The battery is also wonderful and it's a nice budget phone that's very pocket friendly. I'm really enjoying this product ????\",\n",
       " 'It is perfect \\n',\n",
       " \"Got it for my wife, she really loves the phone, the phone isn't bad either perfect as ordered and seen. \",\n",
       " 'Perfect ']"
      ]
     },
     "execution_count": 58,
     "metadata": {},
     "output_type": "execute_result"
    }
   ],
   "source": [
    "review_msg"
   ]
  },
  {
   "cell_type": "code",
   "execution_count": 59,
   "id": "ebd8dceb-dc4f-4231-9529-fba9b5d548fa",
   "metadata": {
    "tags": []
   },
   "outputs": [],
   "source": [
    "# To remove \\n from line 3\n",
    "review_msg[3] = review_msg[3].replace('\\n', '')"
   ]
  },
  {
   "cell_type": "code",
   "execution_count": 60,
   "id": "4216805e-0ef9-4899-b04b-9ff57efeabe0",
   "metadata": {
    "tags": []
   },
   "outputs": [
    {
     "data": {
      "text/plain": [
       "['Very nice ',\n",
       " 'For a budget device, does the basics pretty well.',\n",
       " \"The phone is very sleek and very attractive. The battery is also wonderful and it's a nice budget phone that's very pocket friendly. I'm really enjoying this product ????\",\n",
       " 'It is perfect ',\n",
       " \"Got it for my wife, she really loves the phone, the phone isn't bad either perfect as ordered and seen. \",\n",
       " 'Perfect ']"
      ]
     },
     "execution_count": 60,
     "metadata": {},
     "output_type": "execute_result"
    }
   ],
   "source": [
    "review_msg"
   ]
  },
  {
   "cell_type": "code",
   "execution_count": 61,
   "id": "6ba74186-4b16-46a9-984d-0d587e064049",
   "metadata": {
    "tags": []
   },
   "outputs": [],
   "source": [
    "rating = soup.find_all('div', class_='stars')"
   ]
  },
  {
   "cell_type": "code",
   "execution_count": 62,
   "id": "195e84fa-cf42-4a0f-b88f-6e7d4e55da2c",
   "metadata": {
    "tags": []
   },
   "outputs": [
    {
     "data": {
      "text/plain": [
       "[<div class=\"stars _m -mvs\">4.2 out of 5<div class=\"in\" style=\"width:84%\"></div></div>,\n",
       " <div class=\"stars _m _al -mvs\">5 out of 5<div class=\"in\" style=\"width:100%\"></div></div>,\n",
       " <div class=\"stars _m _al -mvs\">4 out of 5<div class=\"in\" style=\"width:80%\"></div></div>,\n",
       " <div class=\"stars _m _al -mvs\">5 out of 5<div class=\"in\" style=\"width:100%\"></div></div>,\n",
       " <div class=\"stars _m _al -mvs\">4 out of 5<div class=\"in\" style=\"width:80%\"></div></div>,\n",
       " <div class=\"stars _m _al -mvs\">5 out of 5<div class=\"in\" style=\"width:100%\"></div></div>,\n",
       " <div class=\"stars _m _al -mvs\">5 out of 5<div class=\"in\" style=\"width:100%\"></div></div>]"
      ]
     },
     "execution_count": 62,
     "metadata": {},
     "output_type": "execute_result"
    }
   ],
   "source": [
    "rating"
   ]
  },
  {
   "cell_type": "code",
   "execution_count": 63,
   "id": "6e3b4765-95d3-4b61-aa2d-a48eecf51334",
   "metadata": {
    "tags": []
   },
   "outputs": [],
   "source": [
    "review_rating = []\n",
    "for i in range(0, len(rating)):\n",
    "    review_rating.append(rating[i].get_text())"
   ]
  },
  {
   "cell_type": "code",
   "execution_count": 78,
   "id": "8d5f32ed-97cd-44f7-89ed-04dbb171ea56",
   "metadata": {
    "tags": []
   },
   "outputs": [
    {
     "data": {
      "text/plain": [
       "['5 out of 5',\n",
       " '4 out of 5',\n",
       " '5 out of 5',\n",
       " '4 out of 5',\n",
       " '5 out of 5',\n",
       " '5 out of 5']"
      ]
     },
     "execution_count": 78,
     "metadata": {},
     "output_type": "execute_result"
    }
   ],
   "source": [
    "review_rating"
   ]
  },
  {
   "cell_type": "code",
   "execution_count": 77,
   "id": "cbda6ce8-7d50-4899-a57b-facaac83dda1",
   "metadata": {
    "tags": []
   },
   "outputs": [
    {
     "data": {
      "text/plain": [
       "'4.2 out of 5'"
      ]
     },
     "execution_count": 77,
     "metadata": {},
     "output_type": "execute_result"
    }
   ],
   "source": [
    "review_rating.pop(0)"
   ]
  },
  {
   "cell_type": "code",
   "execution_count": 68,
   "id": "dbaa6b4e-ad92-40c1-b5b7-3fb146930cf4",
   "metadata": {
    "tags": []
   },
   "outputs": [
    {
     "data": {
      "text/plain": [
       "['Very nice ',\n",
       " 'For a budget device, does the basics pretty well.',\n",
       " \"The phone is very sleek and very attractive. The battery is also wonderful and it's a nice budget phone that's very pocket friendly. I'm really enjoying this product ????\",\n",
       " 'It is perfect ',\n",
       " \"Got it for my wife, she really loves the phone, the phone isn't bad either perfect as ordered and seen. \",\n",
       " 'Perfect ']"
      ]
     },
     "execution_count": 68,
     "metadata": {},
     "output_type": "execute_result"
    }
   ],
   "source": [
    "cust_name\n",
    "review_date\n",
    "review_title\n",
    "review_rating\n",
    "review_msg"
   ]
  },
  {
   "cell_type": "code",
   "execution_count": 69,
   "id": "9b3a7aeb-5e41-4126-8d47-1b62e592aed8",
   "metadata": {
    "tags": []
   },
   "outputs": [],
   "source": [
    "import pandas as pd"
   ]
  },
  {
   "cell_type": "code",
   "execution_count": 70,
   "id": "3d1f0dd6-718f-4075-8f7b-fd66ca1d2638",
   "metadata": {
    "tags": []
   },
   "outputs": [],
   "source": [
    "df  = pd.DataFrame()"
   ]
  },
  {
   "cell_type": "code",
   "execution_count": 71,
   "id": "a181dea9-3b11-40ea-93fe-7f43b029e36b",
   "metadata": {
    "tags": []
   },
   "outputs": [
    {
     "data": {
      "text/html": [
       "<div>\n",
       "<style scoped>\n",
       "    .dataframe tbody tr th:only-of-type {\n",
       "        vertical-align: middle;\n",
       "    }\n",
       "\n",
       "    .dataframe tbody tr th {\n",
       "        vertical-align: top;\n",
       "    }\n",
       "\n",
       "    .dataframe thead th {\n",
       "        text-align: right;\n",
       "    }\n",
       "</style>\n",
       "<table border=\"1\" class=\"dataframe\">\n",
       "  <thead>\n",
       "    <tr style=\"text-align: right;\">\n",
       "      <th></th>\n",
       "    </tr>\n",
       "  </thead>\n",
       "  <tbody>\n",
       "  </tbody>\n",
       "</table>\n",
       "</div>"
      ],
      "text/plain": [
       "Empty DataFrame\n",
       "Columns: []\n",
       "Index: []"
      ]
     },
     "execution_count": 71,
     "metadata": {},
     "output_type": "execute_result"
    }
   ],
   "source": [
    "df"
   ]
  },
  {
   "cell_type": "code",
   "execution_count": 72,
   "id": "9e5af903-d823-45c0-ae0b-a0a27f4cbb65",
   "metadata": {
    "tags": []
   },
   "outputs": [],
   "source": [
    "df['Customer Name'] = cust_name"
   ]
  },
  {
   "cell_type": "code",
   "execution_count": 73,
   "id": "b58f8432-1610-432d-91c4-9aeb49e8d08a",
   "metadata": {
    "tags": []
   },
   "outputs": [
    {
     "data": {
      "text/html": [
       "<div>\n",
       "<style scoped>\n",
       "    .dataframe tbody tr th:only-of-type {\n",
       "        vertical-align: middle;\n",
       "    }\n",
       "\n",
       "    .dataframe tbody tr th {\n",
       "        vertical-align: top;\n",
       "    }\n",
       "\n",
       "    .dataframe thead th {\n",
       "        text-align: right;\n",
       "    }\n",
       "</style>\n",
       "<table border=\"1\" class=\"dataframe\">\n",
       "  <thead>\n",
       "    <tr style=\"text-align: right;\">\n",
       "      <th></th>\n",
       "      <th>Customer Name</th>\n",
       "    </tr>\n",
       "  </thead>\n",
       "  <tbody>\n",
       "    <tr>\n",
       "      <th>0</th>\n",
       "      <td>Olurin</td>\n",
       "    </tr>\n",
       "    <tr>\n",
       "      <th>1</th>\n",
       "      <td>Andikan</td>\n",
       "    </tr>\n",
       "    <tr>\n",
       "      <th>2</th>\n",
       "      <td>Ogechukwu</td>\n",
       "    </tr>\n",
       "    <tr>\n",
       "      <th>3</th>\n",
       "      <td>Olayinka</td>\n",
       "    </tr>\n",
       "    <tr>\n",
       "      <th>4</th>\n",
       "      <td>Casper</td>\n",
       "    </tr>\n",
       "    <tr>\n",
       "      <th>5</th>\n",
       "      <td>Aliyu</td>\n",
       "    </tr>\n",
       "  </tbody>\n",
       "</table>\n",
       "</div>"
      ],
      "text/plain": [
       "  Customer Name\n",
       "0        Olurin\n",
       "1       Andikan\n",
       "2     Ogechukwu\n",
       "3      Olayinka\n",
       "4        Casper\n",
       "5         Aliyu"
      ]
     },
     "execution_count": 73,
     "metadata": {},
     "output_type": "execute_result"
    }
   ],
   "source": [
    "df"
   ]
  },
  {
   "cell_type": "code",
   "execution_count": 74,
   "id": "ab13b1ba-2726-468d-a5b2-26412b302d8b",
   "metadata": {
    "tags": []
   },
   "outputs": [],
   "source": [
    "df['Review title'] = review_title"
   ]
  },
  {
   "cell_type": "code",
   "execution_count": 79,
   "id": "90c6970c-a835-41f8-9637-64abe0d20607",
   "metadata": {
    "tags": []
   },
   "outputs": [],
   "source": [
    "df['Ratings'] = review_rating"
   ]
  },
  {
   "cell_type": "code",
   "execution_count": 80,
   "id": "7522d4fe-b127-40b5-94a2-8b1396eb0739",
   "metadata": {
    "tags": []
   },
   "outputs": [],
   "source": [
    "df['Reviews'] = review_msg"
   ]
  },
  {
   "cell_type": "code",
   "execution_count": 82,
   "id": "58b2638e-0041-4ace-ac0f-2424afb2a379",
   "metadata": {
    "tags": []
   },
   "outputs": [],
   "source": [
    "df['Date'] = review_date"
   ]
  },
  {
   "cell_type": "code",
   "execution_count": 83,
   "id": "e66e086d-e6df-4c7c-b170-c71cd1258bb9",
   "metadata": {
    "tags": []
   },
   "outputs": [
    {
     "data": {
      "text/html": [
       "<div>\n",
       "<style scoped>\n",
       "    .dataframe tbody tr th:only-of-type {\n",
       "        vertical-align: middle;\n",
       "    }\n",
       "\n",
       "    .dataframe tbody tr th {\n",
       "        vertical-align: top;\n",
       "    }\n",
       "\n",
       "    .dataframe thead th {\n",
       "        text-align: right;\n",
       "    }\n",
       "</style>\n",
       "<table border=\"1\" class=\"dataframe\">\n",
       "  <thead>\n",
       "    <tr style=\"text-align: right;\">\n",
       "      <th></th>\n",
       "      <th>Customer Name</th>\n",
       "      <th>Review title</th>\n",
       "      <th>Ratings</th>\n",
       "      <th>Reviews</th>\n",
       "      <th>Date</th>\n",
       "    </tr>\n",
       "  </thead>\n",
       "  <tbody>\n",
       "    <tr>\n",
       "      <th>0</th>\n",
       "      <td>Olurin</td>\n",
       "      <td>lovely</td>\n",
       "      <td>5 out of 5</td>\n",
       "      <td>Very nice</td>\n",
       "      <td>22-09-2023</td>\n",
       "    </tr>\n",
       "    <tr>\n",
       "      <th>1</th>\n",
       "      <td>Andikan</td>\n",
       "      <td>Good device</td>\n",
       "      <td>4 out of 5</td>\n",
       "      <td>For a budget device, does the basics pretty well.</td>\n",
       "      <td>22-09-2023</td>\n",
       "    </tr>\n",
       "    <tr>\n",
       "      <th>2</th>\n",
       "      <td>Ogechukwu</td>\n",
       "      <td>Beast phone</td>\n",
       "      <td>5 out of 5</td>\n",
       "      <td>The phone is very sleek and very attractive. T...</td>\n",
       "      <td>21-09-2023</td>\n",
       "    </tr>\n",
       "    <tr>\n",
       "      <th>3</th>\n",
       "      <td>Olayinka</td>\n",
       "      <td>nice</td>\n",
       "      <td>4 out of 5</td>\n",
       "      <td>It is perfect</td>\n",
       "      <td>13-09-2023</td>\n",
       "    </tr>\n",
       "    <tr>\n",
       "      <th>4</th>\n",
       "      <td>Casper</td>\n",
       "      <td>Impressive</td>\n",
       "      <td>5 out of 5</td>\n",
       "      <td>Got it for my wife, she really loves the phone...</td>\n",
       "      <td>24-08-2023</td>\n",
       "    </tr>\n",
       "    <tr>\n",
       "      <th>5</th>\n",
       "      <td>Aliyu</td>\n",
       "      <td>Excellent</td>\n",
       "      <td>5 out of 5</td>\n",
       "      <td>Perfect</td>\n",
       "      <td>14-08-2023</td>\n",
       "    </tr>\n",
       "  </tbody>\n",
       "</table>\n",
       "</div>"
      ],
      "text/plain": [
       "  Customer Name  Review title     Ratings  \\\n",
       "0        Olurin       lovely   5 out of 5   \n",
       "1       Andikan   Good device  4 out of 5   \n",
       "2     Ogechukwu  Beast phone   5 out of 5   \n",
       "3      Olayinka          nice  4 out of 5   \n",
       "4        Casper    Impressive  5 out of 5   \n",
       "5         Aliyu     Excellent  5 out of 5   \n",
       "\n",
       "                                             Reviews        Date  \n",
       "0                                         Very nice   22-09-2023  \n",
       "1  For a budget device, does the basics pretty well.  22-09-2023  \n",
       "2  The phone is very sleek and very attractive. T...  21-09-2023  \n",
       "3                                     It is perfect   13-09-2023  \n",
       "4  Got it for my wife, she really loves the phone...  24-08-2023  \n",
       "5                                           Perfect   14-08-2023  "
      ]
     },
     "execution_count": 83,
     "metadata": {},
     "output_type": "execute_result"
    }
   ],
   "source": [
    "df"
   ]
  },
  {
   "cell_type": "code",
   "execution_count": 84,
   "id": "5e8ed978-b328-4e8d-929e-65a74eea9088",
   "metadata": {
    "tags": []
   },
   "outputs": [],
   "source": [
    "df.to_csv(r'C:\\Users\\ebube\\OneDrive\\Documents\\Python\\DataNexus\\Notebooks\\Web scraping\\review.csv', index=True)"
   ]
  },
  {
   "cell_type": "code",
   "execution_count": null,
   "id": "1283eaf8-5a76-4b8f-b4aa-3d767af0bc48",
   "metadata": {},
   "outputs": [],
   "source": []
  }
 ],
 "metadata": {
  "kernelspec": {
   "display_name": "Python 3 (ipykernel)",
   "language": "python",
   "name": "python3"
  },
  "language_info": {
   "codemirror_mode": {
    "name": "ipython",
    "version": 3
   },
   "file_extension": ".py",
   "mimetype": "text/x-python",
   "name": "python",
   "nbconvert_exporter": "python",
   "pygments_lexer": "ipython3",
   "version": "3.11.4"
  }
 },
 "nbformat": 4,
 "nbformat_minor": 5
}
